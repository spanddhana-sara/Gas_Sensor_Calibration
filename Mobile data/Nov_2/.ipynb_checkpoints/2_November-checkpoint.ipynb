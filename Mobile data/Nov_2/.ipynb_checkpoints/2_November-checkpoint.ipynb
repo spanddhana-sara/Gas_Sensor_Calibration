{
 "cells": [
  {
   "cell_type": "code",
   "execution_count": 1,
   "metadata": {},
   "outputs": [],
   "source": [
    "import csv\n",
    "from statistics import mean \n",
    "import pandas as pd\n",
    "import matplotlib.pyplot as plt\n",
    "import numpy as np\n",
    "from scipy.stats import pearsonr\n",
    "from sklearn.metrics import r2_score\n",
    "from sklearn import linear_model\n",
    "from sklearn.metrics import mean_absolute_error\n",
    "from sklearn.metrics import mean_squared_error\n",
    "from sklearn.linear_model import LinearRegression\n",
    "from sklearn.model_selection import train_test_split\n",
    "from sklearn import metrics\n",
    "from scipy.stats import spearmanr, pearsonr\n",
    "from sklearn.ensemble import RandomForestRegressor\n",
    "from sklearn.preprocessing import PolynomialFeatures\n",
    "# import OS module\n",
    "import os"
   ]
  },
  {
   "cell_type": "code",
   "execution_count": 2,
   "metadata": {},
   "outputs": [
    {
     "name": "stdout",
     "output_type": "stream",
     "text": [
      "Files and Directories in 'http://localhost:8888/tree/Documents/GitHub/Gas_Sensor_Calibration/Mobile data':\n",
      "Aero_gases_2nov.csv\n",
      "AQ50_2nov.csv\n",
      "Gases_2nov.csv\n",
      "Aero_AQ24_2nov.csv\n",
      "GPS_Aero&AQ50_2nov.csv\n",
      "AQ24_2nov.csv\n",
      "Untitled.ipynb\n",
      "20211102-115330.gpx\n",
      "Aero_AQ50_2nov.csv\n",
      "2nov_route.csv\n",
      "GPS_Aero&gases_2nov.csv\n",
      "aeroqual_021121.csv\n",
      ".ipynb_checkpoints\n"
     ]
    }
   ],
   "source": [
    "path = \"http://localhost:8888/tree/Documents/GitHub/Gas_Sensor_Calibration/Mobile data\"\n",
    "\n",
    "obj = os.scandir()\n",
    " \n",
    "# List all files and directories in the specified path\n",
    "print(\"Files and Directories in '% s':\" % path)\n",
    "for entry in obj:\n",
    "    if entry.is_dir() or entry.is_file():\n",
    "        print(entry.name)"
   ]
  },
  {
   "cell_type": "code",
   "execution_count": 15,
   "metadata": {},
   "outputs": [],
   "source": [
    "a = pd.read_csv('Aero_AQ50_2nov.csv', parse_dates = ['created_at'])\n",
    "b = pd.read_csv('Aero_AQ24_2nov.csv',  parse_dates = ['created_at'])\n",
    "c = pd.read_csv('Aero_gases_2nov.csv',  parse_dates = ['created_at'])"
   ]
  },
  {
   "cell_type": "code",
   "execution_count": 16,
   "metadata": {},
   "outputs": [
    {
     "name": "stdout",
     "output_type": "stream",
     "text": [
      "['created_at', ' Monitor ID', ' Location ID', ' CO(ppm)', ' PM10(ppm)', ' PM2.5(ppm)', ' SO2(ppm)', 'pm10', 'pm2.5', 'RH', 'Temperature'] 279\n",
      "['created_at', ' Monitor ID', ' Location ID', ' CO(ppm)', ' PM10(ppm)', ' PM2.5(ppm)', ' SO2(ppm)', 'pm10', 'pm2.5', 'RH', 'Temperature'] 0\n",
      "['created_at', ' Monitor ID', ' Location ID', ' CO(ppm)', ' PM10(ppm)', ' PM2.5(ppm)', ' SO2(ppm)', 'CO_1', 'SO2_1', 'CO_2', 'SO2_2', 'Temperature', 'RH', 'Pressure'] 160\n"
     ]
    }
   ],
   "source": [
    "print(list(a), len(a))\n",
    "print(list(b), len(b))\n",
    "print(list(c), len(c))\n"
   ]
  },
  {
   "cell_type": "code",
   "execution_count": 17,
   "metadata": {},
   "outputs": [],
   "source": [
    "a[' PM10(ppm)'] = pd.to_numeric(a[' PM10(ppm)'], errors='coerce')\n",
    "a[' PM2.5(ppm)'] = pd.to_numeric(a[' PM2.5(ppm)'], errors='coerce')\n",
    "b[' PM10(ppm)'] = pd.to_numeric(b[' PM10(ppm)'], errors='coerce')\n",
    "b[' PM2.5(ppm)'] = pd.to_numeric(b[' PM2.5(ppm)'], errors='coerce')\n",
    "c[' CO(ppm)'] = pd.to_numeric(c[' CO(ppm)'], errors='coerce')\n",
    "c[' SO2(ppm)'] = pd.to_numeric(c[' SO2(ppm)'], errors='coerce')\n"
   ]
  },
  {
   "cell_type": "code",
   "execution_count": 18,
   "metadata": {},
   "outputs": [
    {
     "name": "stdout",
     "output_type": "stream",
     "text": [
      "111\n",
      "0\n",
      "88\n",
      "0\n"
     ]
    }
   ],
   "source": [
    "a = a.dropna(subset=[' PM10(ppm)', ' PM2.5(ppm)'])\n",
    "b = b.dropna(subset=[' PM10(ppm)', ' PM2.5(ppm)'])\n",
    "c = c.dropna(subset=[' CO(ppm)'])\n",
    "s = c.dropna(subset=[' SO2(ppm)'])\n",
    "\n",
    "print(len(a))\n",
    "print(len(b))\n",
    "print(len(c))\n",
    "print(len(s))"
   ]
  },
  {
   "cell_type": "code",
   "execution_count": 13,
   "metadata": {},
   "outputs": [
    {
     "name": "stdout",
     "output_type": "stream",
     "text": [
      "created_at      datetime64[ns]\n",
      " Monitor ID              int64\n",
      " Location ID             int64\n",
      " CO(ppm)                object\n",
      " PM10(ppm)             float64\n",
      " PM2.5(ppm)            float64\n",
      " SO2(ppm)               object\n",
      "pm10                   float64\n",
      "pm2.5                  float64\n",
      "RH                     float64\n",
      "Temperature            float64\n",
      "dtype: object\n",
      "created_at      object\n",
      " Monitor ID     object\n",
      " Location ID    object\n",
      " CO(ppm)        object\n",
      " PM10(ppm)       int64\n",
      " PM2.5(ppm)      int64\n",
      " SO2(ppm)       object\n",
      "pm10            object\n",
      "pm2.5           object\n",
      "RH              object\n",
      "Temperature     object\n",
      "dtype: object\n",
      "created_at      datetime64[ns]\n",
      " Monitor ID              int64\n",
      " Location ID             int64\n",
      " CO(ppm)               float64\n",
      " PM10(ppm)              object\n",
      " PM2.5(ppm)             object\n",
      " SO2(ppm)              float64\n",
      "CO_1                   float64\n",
      "SO2_1                  float64\n",
      "CO_2                   float64\n",
      "SO2_2                  float64\n",
      "Temperature            float64\n",
      "RH                     float64\n",
      "Pressure               float64\n",
      "dtype: object\n",
      "created_at      datetime64[ns]\n",
      " Monitor ID              int64\n",
      " Location ID             int64\n",
      " CO(ppm)               float64\n",
      " PM10(ppm)              object\n",
      " PM2.5(ppm)             object\n",
      " SO2(ppm)              float64\n",
      "CO_1                   float64\n",
      "SO2_1                  float64\n",
      "CO_2                   float64\n",
      "SO2_2                  float64\n",
      "Temperature            float64\n",
      "RH                     float64\n",
      "Pressure               float64\n",
      "dtype: object\n"
     ]
    }
   ],
   "source": [
    "print(a.dtypes)\n",
    "print(b.dtypes)\n",
    "print(c.dtypes)\n",
    "print(s.dtypes)\n"
   ]
  },
  {
   "cell_type": "code",
   "execution_count": null,
   "metadata": {},
   "outputs": [],
   "source": []
  }
 ],
 "metadata": {
  "kernelspec": {
   "display_name": "Python 3",
   "language": "python",
   "name": "python3"
  },
  "language_info": {
   "codemirror_mode": {
    "name": "ipython",
    "version": 3
   },
   "file_extension": ".py",
   "mimetype": "text/x-python",
   "name": "python",
   "nbconvert_exporter": "python",
   "pygments_lexer": "ipython3",
   "version": "3.8.5"
  }
 },
 "nbformat": 4,
 "nbformat_minor": 4
}
