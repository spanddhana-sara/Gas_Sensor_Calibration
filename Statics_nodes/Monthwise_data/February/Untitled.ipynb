{
 "cells": [
  {
   "cell_type": "code",
   "execution_count": 1,
   "metadata": {},
   "outputs": [],
   "source": [
    "from datetime import datetime\n",
    "from pytz import timezone\n",
    "import pandas as pd\n",
    "import matplotlib.pyplot as plt\n",
    "import plotly.express as px\n",
    "from plotly.subplots import make_subplots\n",
    "import plotly.graph_objects as go\n",
    "import numpy as np\n",
    "from scipy.stats import pearsonr\n",
    "from sklearn.metrics import r2_score\n",
    "from sklearn import linear_model\n",
    "from sklearn.metrics import mean_absolute_error\n",
    "from sklearn.metrics import mean_squared_error\n",
    "import seaborn as sns\n",
    "# import OS module\n",
    "import os\n",
    "\n",
    "import time\n",
    "import io\n",
    "import requests\n"
   ]
  },
  {
   "cell_type": "code",
   "execution_count": 29,
   "metadata": {},
   "outputs": [],
   "source": [
    "\n",
    "AQ13 = pd.read_csv('AQ13_feb.csv', parse_dates = ['created_at'])\n",
    "AQ14 = pd.read_csv('AQ14_feb.csv', parse_dates = ['created_at'])\n",
    "AQ15 = pd.read_csv('AQ15_feb.csv', parse_dates = ['created_at'])\n",
    "AQ16 = pd.read_csv('AQ16_feb.csv', parse_dates = ['created_at'])\n",
    "AQ17 = pd.read_csv('AQ17_feb.csv', parse_dates = ['created_at'])\n",
    "AQ18 = pd.read_csv('AQ18_feb.csv', parse_dates = ['created_at'])\n",
    "AQ19 = pd.read_csv('AQ19_feb.csv', parse_dates = ['created_at'])\n",
    "AQ21 = pd.read_csv('AQ21_feb.csv', parse_dates = ['created_at'])\n",
    "AQ22 = pd.read_csv('AQ22_feb.csv', parse_dates = ['created_at'])\n",
    "AQ23 = pd.read_csv('AQ23_feb.csv', parse_dates = ['created_at'])\n",
    "AQ24 = pd.read_csv('AQ24_feb.csv', parse_dates = ['created_at'])\n",
    "AQ25 = pd.read_csv('AQ25_feb.csv', parse_dates = ['created_at'])\n",
    "#AQ26 = pd.read_csv('AQ26_feb.csv', parse_dates = ['created_at'])\n",
    "AQ30 = pd.read_csv('AQ30_feb.csv', parse_dates = ['created_at'])\n",
    "AQ31 = pd.read_csv('AQ31_feb.csv', parse_dates = ['created_at'])\n",
    "AQ32 = pd.read_csv('AQ32_feb.csv', parse_dates = ['created_at'])\n",
    "AQ33 = pd.read_csv('AQ33_feb.csv', parse_dates = ['created_at'])\n",
    "AQ34 = pd.read_csv('AQ34_feb.csv', parse_dates = ['created_at'])\n",
    "AQ35 = pd.read_csv('AQ35_feb.csv', parse_dates = ['created_at'])\n",
    "AQ36 = pd.read_csv('AQ36_feb.csv', parse_dates = ['created_at'])\n",
    "AQ37 = pd.read_csv('AQ37_feb.csv', parse_dates = ['created_at'])\n",
    "AQ38 = pd.read_csv('AQ38_feb.csv', parse_dates = ['created_at'])\n",
    "AQ39 = pd.read_csv('AQ39_feb.csv', parse_dates = ['created_at'])\n",
    "AQ40 = pd.read_csv('AQ40_feb.csv', parse_dates = ['created_at'])\n",
    "AQ41 = pd.read_csv('AQ41_feb.csv', parse_dates = ['created_at'])\n",
    "#AQ42 = pd.read_csv('AQ42_feb.csv', parse_dates = ['created_at'])\n",
    "AQ43 = pd.read_csv('AQ43_feb.csv', parse_dates = ['created_at'])\n",
    "#AQ44 = pd.read_csv('AQ44_feb.csv', parse_dates = ['created_at'])\n",
    "AQ45 = pd.read_csv('AQ45_feb.csv', parse_dates = ['created_at'])\n",
    "#AQ46 = pd.read_csv('AQ46_feb.csv', parse_dates = ['created_at'])\n",
    "#AQ47 = pd.read_csv('AQ47_feb.csv', parse_dates = ['created_at'])\n",
    "#AQ49 = pd.read_csv('AQ49_feb.csv', parse_dates = ['created_at'])\n",
    "\n"
   ]
  },
  {
   "cell_type": "code",
   "execution_count": 4,
   "metadata": {},
   "outputs": [],
   "source": [
    "# FUNCTION TO REMOVE TIMEZONE\n",
    "def remove_timezone(dt):\n",
    "   \n",
    "    # HERE `dt` is a python datetime\n",
    "    # object that used .replace() method\n",
    "    return dt.replace(tzinfo=None)\n",
    "\n",
    "def renaming_columns_avg(df1, avg = 'T'):\n",
    "    \n",
    "    df1['created_at'] = df1['created_at'].apply(remove_timezone)\n",
    "    df1.set_index(\"created_at\", inplace = True)\n",
    "    df1 = df1.resample(avg, label='right', closed='right').mean().round(3)\n",
    "    df1 = df1.dropna(axis=1, how='all')\n",
    "    df1 = df1.drop(['entry_id'], axis = 1)\n",
    "    df1 = df1.rename(columns = {'field1': 'PM10','field2':'PM2.5','field3':'RH','field4':'Temperature'})\n",
    "    \n",
    "    \n",
    "    return df1"
   ]
  },
  {
   "cell_type": "markdown",
   "metadata": {},
   "source": [
    "# 1 Minute Average"
   ]
  },
  {
   "cell_type": "code",
   "execution_count": 18,
   "metadata": {},
   "outputs": [],
   "source": [
    "\n",
    "AQ13 = renaming_columns_avg(AQ13)\n",
    "AQ14 = renaming_columns_avg(AQ14)\n",
    "AQ15 = renaming_columns_avg(AQ15)\n",
    "AQ16 = renaming_columns_avg(AQ16)\n",
    "AQ17 = renaming_columns_avg(AQ17)\n",
    "AQ18 = renaming_columns_avg(AQ18)\n",
    "AQ19 = renaming_columns_avg(AQ19)\n",
    "AQ21 = renaming_columns_avg(AQ21)\n",
    "AQ22 = renaming_columns_avg(AQ22)\n",
    "AQ23 = renaming_columns_avg(AQ23)\n",
    "AQ24 = renaming_columns_avg(AQ24)\n",
    "AQ25 = renaming_columns_avg(AQ25)\n",
    "#AQ26 = renaming_columns_avg(AQ26)\n",
    "AQ30 = renaming_columns_avg(AQ30)\n",
    "AQ31 = renaming_columns_avg(AQ31)\n",
    "AQ32 = renaming_columns_avg(AQ32)\n",
    "AQ33 = renaming_columns_avg(AQ33)\n",
    "AQ34 = renaming_columns_avg(AQ34)\n",
    "AQ35 = renaming_columns_avg(AQ35)\n",
    "AQ36 = renaming_columns_avg(AQ36)\n",
    "AQ37 = renaming_columns_avg(AQ37)\n",
    "AQ38 = renaming_columns_avg(AQ38)\n",
    "AQ39 = renaming_columns_avg(AQ39)\n",
    "AQ40 = renaming_columns_avg(AQ40)\n",
    "AQ41 = renaming_columns_avg(AQ41)\n",
    "#AQ42 = renaming_columns_avg(AQ42)\n",
    "AQ43 = renaming_columns_avg(AQ43)\n",
    "#AQ44 = renaming_columns_avg(AQ44)\n",
    "AQ45 = renaming_columns_avg(AQ45)\n",
    "#AQ46 = renaming_columns_avg(AQ46)\n",
    "#AQ47 = renaming_columns_avg(AQ47)\n",
    "#AQ49 = renaming_columns_avg(AQ49)\n",
    "\n"
   ]
  },
  {
   "cell_type": "markdown",
   "metadata": {},
   "source": [
    "# 1 Hour Average"
   ]
  },
  {
   "cell_type": "code",
   "execution_count": 11,
   "metadata": {},
   "outputs": [],
   "source": [
    "#AQ12 = renaming_columns_avg(AQ12, 'H')\n",
    "AQ13 = renaming_columns_avg(AQ13, 'H')\n",
    "AQ14 = renaming_columns_avg(AQ14, 'H')\n",
    "AQ15 = renaming_columns_avg(AQ15, 'H')\n",
    "AQ16 = renaming_columns_avg(AQ16, 'H')\n",
    "AQ17 = renaming_columns_avg(AQ17, 'H')\n",
    "AQ18 = renaming_columns_avg(AQ18, 'H')\n",
    "AQ19 = renaming_columns_avg(AQ19, 'H')\n",
    "#AQ20 = renaming_columns_avg(AQ20, 'H')\n",
    "AQ21 = renaming_columns_avg(AQ21, 'H')\n",
    "AQ22 = renaming_columns_avg(AQ22, 'H')\n",
    "AQ23 = renaming_columns_avg(AQ23, 'H')\n",
    "AQ24 = renaming_columns_avg(AQ24, 'H')\n",
    "AQ25 = renaming_columns_avg(AQ25, 'H')\n",
    "#AQ26 = renaming_columns_avg(AQ26, 'H')\n",
    "AQ30 = renaming_columns_avg(AQ30, 'H')\n",
    "AQ31 = renaming_columns_avg(AQ31, 'H')\n",
    "AQ32 = renaming_columns_avg(AQ32, 'H')\n",
    "AQ33 = renaming_columns_avg(AQ33, 'H')\n",
    "AQ34 = renaming_columns_avg(AQ34, 'H')\n",
    "AQ35 = renaming_columns_avg(AQ35, 'H')\n",
    "AQ36 = renaming_columns_avg(AQ36, 'H')\n",
    "AQ37 = renaming_columns_avg(AQ37, 'H')\n",
    "AQ38 = renaming_columns_avg(AQ38, 'H')\n",
    "AQ39 = renaming_columns_avg(AQ39, 'H')\n",
    "AQ40 = renaming_columns_avg(AQ40, 'H')\n",
    "AQ41 = renaming_columns_avg(AQ41, 'H')\n",
    "#AQ42 = renaming_columns_avg(AQ42, 'H')\n",
    "AQ43 = renaming_columns_avg(AQ43, 'H')\n",
    "#AQ44 = renaming_columns_avg(AQ44, 'H')\n",
    "AQ45 = renaming_columns_avg(AQ45, 'H')\n",
    "#AQ46 = renaming_columns_avg(AQ46, 'H')\n",
    "#AQ47 = renaming_columns_avg(AQ47, 'H')\n",
    "#AQ49 = renaming_columns_avg(AQ49, 'H')\n",
    "#AQ50 = renaming_columns_avg(AQ50, 'H')"
   ]
  },
  {
   "cell_type": "markdown",
   "metadata": {},
   "source": [
    "# 1 Day Average"
   ]
  },
  {
   "cell_type": "code",
   "execution_count": 24,
   "metadata": {},
   "outputs": [],
   "source": [
    "#AQ12 = renaming_columns_avg(AQ12, 'D')\n",
    "AQ13 = renaming_columns_avg(AQ13, 'D')\n",
    "AQ14 = renaming_columns_avg(AQ14, 'D')\n",
    "AQ15 = renaming_columns_avg(AQ15, 'D')\n",
    "AQ16 = renaming_columns_avg(AQ16, 'D')\n",
    "AQ17 = renaming_columns_avg(AQ17, 'D')\n",
    "AQ18 = renaming_columns_avg(AQ18, 'D')\n",
    "AQ19 = renaming_columns_avg(AQ19, 'D')\n",
    "#AQ20 = renaming_columns_avg(AQ20, 'D')\n",
    "AQ21 = renaming_columns_avg(AQ21, 'D')\n",
    "AQ22 = renaming_columns_avg(AQ22, 'D')\n",
    "AQ23 = renaming_columns_avg(AQ23, 'D')\n",
    "AQ24 = renaming_columns_avg(AQ24, 'D')\n",
    "AQ25 = renaming_columns_avg(AQ25, 'D')\n",
    "#AQ26 = renaming_columns_avg(AQ26, 'D')\n",
    "AQ30 = renaming_columns_avg(AQ30, 'D')\n",
    "AQ31 = renaming_columns_avg(AQ31, 'D')\n",
    "AQ32 = renaming_columns_avg(AQ32, 'D')\n",
    "AQ33 = renaming_columns_avg(AQ33, 'D')\n",
    "AQ34 = renaming_columns_avg(AQ34, 'D')\n",
    "AQ35 = renaming_columns_avg(AQ35, 'D')\n",
    "AQ36 = renaming_columns_avg(AQ36, 'D')\n",
    "AQ37 = renaming_columns_avg(AQ37, 'D')\n",
    "AQ38 = renaming_columns_avg(AQ38, 'D')\n",
    "AQ39 = renaming_columns_avg(AQ39, 'D')\n",
    "AQ40 = renaming_columns_avg(AQ40, 'D')\n",
    "AQ41 = renaming_columns_avg(AQ41, 'D')\n",
    "#AQ42 = renaming_columns_avg(AQ42, 'D')\n",
    "AQ43 = renaming_columns_avg(AQ43, 'D')\n",
    "#AQ44 = renaming_columns_avg(AQ44, 'D')\n",
    "AQ45 = renaming_columns_avg(AQ45, 'D')\n",
    "#AQ46 = renaming_columns_avg(AQ46, 'D')\n",
    "#AQ47 = renaming_columns_avg(AQ47, 'D')\n",
    "#AQ49 = renaming_columns_avg(AQ49, 'D')\n",
    "#AQ50 = renaming_columns_avg(AQ50, 'D')"
   ]
  },
  {
   "cell_type": "markdown",
   "metadata": {},
   "source": [
    "# 1 Week Average"
   ]
  },
  {
   "cell_type": "code",
   "execution_count": 30,
   "metadata": {},
   "outputs": [],
   "source": [
    "#AQ12 = renaming_columns_avg(AQ12, 'W')\n",
    "AQ13 = renaming_columns_avg(AQ13, 'W')\n",
    "AQ14 = renaming_columns_avg(AQ14, 'W')\n",
    "AQ15 = renaming_columns_avg(AQ15, 'W')\n",
    "AQ16 = renaming_columns_avg(AQ16, 'W')\n",
    "AQ17 = renaming_columns_avg(AQ17, 'W')\n",
    "AQ18 = renaming_columns_avg(AQ18, 'W')\n",
    "AQ19 = renaming_columns_avg(AQ19, 'W')\n",
    "#AQ20 = renaming_columns_avg(AQ20, 'W')\n",
    "AQ21 = renaming_columns_avg(AQ21, 'W')\n",
    "AQ22 = renaming_columns_avg(AQ22, 'W')\n",
    "AQ23 = renaming_columns_avg(AQ23, 'W')\n",
    "AQ24 = renaming_columns_avg(AQ24, 'W')\n",
    "AQ25 = renaming_columns_avg(AQ25, 'W')\n",
    "#AQ26 = renaming_columns_avg(AQ26, 'W')\n",
    "AQ30 = renaming_columns_avg(AQ30, 'W')\n",
    "AQ31 = renaming_columns_avg(AQ31, 'W')\n",
    "AQ32 = renaming_columns_avg(AQ32, 'W')\n",
    "AQ33 = renaming_columns_avg(AQ33, 'W')\n",
    "AQ34 = renaming_columns_avg(AQ34, 'W')\n",
    "AQ35 = renaming_columns_avg(AQ35, 'W')\n",
    "AQ36 = renaming_columns_avg(AQ36, 'W')\n",
    "AQ37 = renaming_columns_avg(AQ37, 'W')\n",
    "AQ38 = renaming_columns_avg(AQ38, 'W')\n",
    "AQ39 = renaming_columns_avg(AQ39, 'W')\n",
    "AQ40 = renaming_columns_avg(AQ40, 'W')\n",
    "AQ41 = renaming_columns_avg(AQ41, 'W')\n",
    "#AQ42 = renaming_columns_avg(AQ42, 'W')\n",
    "AQ43 = renaming_columns_avg(AQ43, 'W')\n",
    "#AQ44 = renaming_columns_avg(AQ44, 'W')\n",
    "AQ45 = renaming_columns_avg(AQ45, 'W')\n",
    "#AQ46 = renaming_columns_avg(AQ46, 'W')\n",
    "#AQ47 = renaming_columns_avg(AQ47, 'W')\n",
    "#AQ49 = renaming_columns_avg(AQ49, 'W')\n",
    "#AQ50 = renaming_columns_avg(AQ50, 'W')"
   ]
  },
  {
   "cell_type": "code",
   "execution_count": 31,
   "metadata": {},
   "outputs": [
    {
     "data": {
      "application/vnd.plotly.v1+json": {
       "config": {
        "plotlyServerURL": "https://plot.ly"
       },
       "data": [
        {
         "name": "AQ13",
         "type": "scatter",
         "x": [
          "2021-02-07T00:00:00",
          "2021-02-14T00:00:00",
          "2021-02-21T00:00:00",
          "2021-02-28T00:00:00"
         ],
         "xaxis": "x",
         "y": [
          111.525,
          152.509,
          101.738,
          80.8
         ],
         "yaxis": "y"
        },
        {
         "name": "AQ14",
         "type": "scatter",
         "x": [
          "2021-02-07T00:00:00",
          "2021-02-14T00:00:00",
          "2021-02-21T00:00:00",
          "2021-02-28T00:00:00"
         ],
         "xaxis": "x",
         "y": [
          103.072,
          58.419,
          35.893,
          46.748
         ],
         "yaxis": "y"
        },
        {
         "name": "AQ15",
         "type": "scatter",
         "x": [
          "2021-02-07T00:00:00",
          "2021-02-14T00:00:00",
          "2021-02-21T00:00:00",
          "2021-02-28T00:00:00"
         ],
         "xaxis": "x",
         "y": [
          91.956,
          51.623,
          35.592,
          37.677
         ],
         "yaxis": "y"
        },
        {
         "name": "AQ16",
         "type": "scatter",
         "x": [
          "2021-02-07T00:00:00",
          "2021-02-14T00:00:00",
          "2021-02-21T00:00:00"
         ],
         "xaxis": "x",
         "y": [
          16.089,
          0.134,
          2.688
         ],
         "yaxis": "y"
        },
        {
         "name": "AQ17",
         "type": "scatter",
         "x": [
          "2021-02-07T00:00:00",
          "2021-02-14T00:00:00",
          "2021-02-21T00:00:00",
          "2021-02-28T00:00:00"
         ],
         "xaxis": "x",
         "y": [
          42.331,
          45.891,
          32.781,
          46.006
         ],
         "yaxis": "y"
        },
        {
         "name": "AQ18",
         "type": "scatter",
         "x": [
          "2021-02-07T00:00:00",
          "2021-02-14T00:00:00",
          "2021-02-21T00:00:00",
          "2021-02-28T00:00:00"
         ],
         "xaxis": "x",
         "y": [
          84.435,
          48.907,
          29.361,
          37.092
         ],
         "yaxis": "y"
        },
        {
         "name": "AQ19",
         "type": "scatter",
         "x": [
          "2021-02-07T00:00:00",
          "2021-02-14T00:00:00",
          "2021-02-21T00:00:00",
          "2021-02-28T00:00:00"
         ],
         "xaxis": "x",
         "y": [
          84.435,
          48.907,
          29.361,
          37.092
         ],
         "yaxis": "y"
        },
        {
         "name": "AQ21",
         "type": "scatter",
         "x": [
          "2021-02-07T00:00:00",
          "2021-02-14T00:00:00",
          "2021-02-21T00:00:00",
          "2021-02-28T00:00:00"
         ],
         "xaxis": "x",
         "y": [
          109.588,
          61.598,
          29.252,
          37.514
         ],
         "yaxis": "y"
        },
        {
         "name": "AQ22",
         "type": "scatter",
         "x": [
          "2021-02-07T00:00:00",
          "2021-02-14T00:00:00",
          "2021-02-21T00:00:00",
          "2021-02-28T00:00:00"
         ],
         "xaxis": "x",
         "y": [
          62.354,
          57.221,
          56.427,
          71.157
         ],
         "yaxis": "y"
        },
        {
         "name": "AQ23",
         "type": "scatter",
         "x": [
          "2021-02-07T00:00:00",
          "2021-02-14T00:00:00",
          "2021-02-21T00:00:00",
          "2021-02-28T00:00:00"
         ],
         "xaxis": "x",
         "y": [
          156.503,
          138.897,
          96.775,
          83.071
         ],
         "yaxis": "y"
        },
        {
         "name": "AQ24",
         "type": "scatter",
         "x": [
          "2021-02-07T00:00:00",
          "2021-02-14T00:00:00",
          "2021-02-21T00:00:00",
          "2021-02-28T00:00:00"
         ],
         "xaxis": "x",
         "y": [
          79.066,
          73.772,
          70.856,
          89.84
         ],
         "yaxis": "y"
        },
        {
         "name": "AQ25",
         "type": "scatter",
         "x": [
          "2021-02-07T00:00:00",
          "2021-02-14T00:00:00",
          "2021-02-21T00:00:00",
          "2021-02-28T00:00:00"
         ],
         "xaxis": "x",
         "y": [
          78.354,
          64.704,
          55.855,
          81.787
         ],
         "yaxis": "y"
        },
        {
         "name": "AQ30",
         "type": "scatter",
         "x": [
          "2021-02-14T00:00:00",
          "2021-02-21T00:00:00",
          "2021-02-28T00:00:00"
         ],
         "xaxis": "x",
         "y": [
          62.277,
          69.454,
          73.229
         ],
         "yaxis": "y"
        },
        {
         "name": "AQ31",
         "type": "scatter",
         "x": [
          "2021-02-14T00:00:00",
          "2021-02-21T00:00:00",
          "2021-02-28T00:00:00"
         ],
         "xaxis": "x",
         "y": [
          666.222,
          1082.895,
          0
         ],
         "yaxis": "y"
        },
        {
         "name": "AQ32",
         "type": "scatter",
         "x": [
          "2021-02-14T00:00:00",
          "2021-02-21T00:00:00",
          "2021-02-28T00:00:00"
         ],
         "xaxis": "x",
         "y": [
          54.823,
          49.912,
          49.751
         ],
         "yaxis": "y"
        },
        {
         "name": "AQ33",
         "type": "scatter",
         "x": [
          "2021-02-14T00:00:00",
          "2021-02-21T00:00:00",
          "2021-02-28T00:00:00"
         ],
         "xaxis": "x",
         "y": [
          59.256,
          70.436,
          86.395
         ],
         "yaxis": "y"
        },
        {
         "name": "AQ34",
         "type": "scatter",
         "x": [
          "2021-02-14T00:00:00",
          "2021-02-21T00:00:00",
          "2021-02-28T00:00:00"
         ],
         "xaxis": "x",
         "y": [
          37.008,
          45.417,
          53.078
         ],
         "yaxis": "y"
        },
        {
         "name": "AQ35",
         "type": "scatter",
         "x": [
          "2021-02-14T00:00:00",
          "2021-02-21T00:00:00",
          "2021-02-28T00:00:00"
         ],
         "xaxis": "x",
         "y": [
          44.275,
          50.633,
          52.633
         ],
         "yaxis": "y"
        },
        {
         "name": "AQ36",
         "type": "scatter",
         "x": [
          "2021-02-28T00:00:00"
         ],
         "xaxis": "x",
         "y": [
          39.059
         ],
         "yaxis": "y"
        },
        {
         "name": "AQ37",
         "type": "scatter",
         "x": [
          "2021-02-07T00:00:00",
          "2021-02-14T00:00:00",
          "2021-02-21T00:00:00",
          "2021-02-28T00:00:00"
         ],
         "xaxis": "x",
         "y": [
          88.407,
          123.192,
          87.928,
          113.828
         ],
         "yaxis": "y"
        },
        {
         "name": "AQ38",
         "type": "scatter",
         "x": [
          "2021-02-28T00:00:00"
         ],
         "xaxis": "x",
         "y": [
          42.556
         ],
         "yaxis": "y"
        },
        {
         "name": "AQ39",
         "type": "scatter",
         "x": [
          "2021-02-28T00:00:00"
         ],
         "xaxis": "x",
         "y": [
          38.343
         ],
         "yaxis": "y"
        },
        {
         "name": "AQ40",
         "type": "scatter",
         "x": [
          "2021-02-28T00:00:00"
         ],
         "xaxis": "x",
         "y": [
          43.224
         ],
         "yaxis": "y"
        },
        {
         "name": "AQ43",
         "type": "scatter",
         "x": [
          "2021-02-07T00:00:00",
          "2021-02-14T00:00:00",
          "2021-02-21T00:00:00",
          "2021-02-28T00:00:00"
         ],
         "xaxis": "x",
         "y": [
          88.407,
          123.192,
          87.928,
          113.777
         ],
         "yaxis": "y"
        },
        {
         "name": "AQ45",
         "type": "scatter",
         "x": [
          "2021-02-28T00:00:00"
         ],
         "xaxis": "x",
         "y": [
          48.586
         ],
         "yaxis": "y"
        }
       ],
       "layout": {
        "height": 600,
        "template": {
         "data": {
          "bar": [
           {
            "error_x": {
             "color": "#2a3f5f"
            },
            "error_y": {
             "color": "#2a3f5f"
            },
            "marker": {
             "line": {
              "color": "#E5ECF6",
              "width": 0.5
             }
            },
            "type": "bar"
           }
          ],
          "barpolar": [
           {
            "marker": {
             "line": {
              "color": "#E5ECF6",
              "width": 0.5
             }
            },
            "type": "barpolar"
           }
          ],
          "carpet": [
           {
            "aaxis": {
             "endlinecolor": "#2a3f5f",
             "gridcolor": "white",
             "linecolor": "white",
             "minorgridcolor": "white",
             "startlinecolor": "#2a3f5f"
            },
            "baxis": {
             "endlinecolor": "#2a3f5f",
             "gridcolor": "white",
             "linecolor": "white",
             "minorgridcolor": "white",
             "startlinecolor": "#2a3f5f"
            },
            "type": "carpet"
           }
          ],
          "choropleth": [
           {
            "colorbar": {
             "outlinewidth": 0,
             "ticks": ""
            },
            "type": "choropleth"
           }
          ],
          "contour": [
           {
            "colorbar": {
             "outlinewidth": 0,
             "ticks": ""
            },
            "colorscale": [
             [
              0,
              "#0d0887"
             ],
             [
              0.1111111111111111,
              "#46039f"
             ],
             [
              0.2222222222222222,
              "#7201a8"
             ],
             [
              0.3333333333333333,
              "#9c179e"
             ],
             [
              0.4444444444444444,
              "#bd3786"
             ],
             [
              0.5555555555555556,
              "#d8576b"
             ],
             [
              0.6666666666666666,
              "#ed7953"
             ],
             [
              0.7777777777777778,
              "#fb9f3a"
             ],
             [
              0.8888888888888888,
              "#fdca26"
             ],
             [
              1,
              "#f0f921"
             ]
            ],
            "type": "contour"
           }
          ],
          "contourcarpet": [
           {
            "colorbar": {
             "outlinewidth": 0,
             "ticks": ""
            },
            "type": "contourcarpet"
           }
          ],
          "heatmap": [
           {
            "colorbar": {
             "outlinewidth": 0,
             "ticks": ""
            },
            "colorscale": [
             [
              0,
              "#0d0887"
             ],
             [
              0.1111111111111111,
              "#46039f"
             ],
             [
              0.2222222222222222,
              "#7201a8"
             ],
             [
              0.3333333333333333,
              "#9c179e"
             ],
             [
              0.4444444444444444,
              "#bd3786"
             ],
             [
              0.5555555555555556,
              "#d8576b"
             ],
             [
              0.6666666666666666,
              "#ed7953"
             ],
             [
              0.7777777777777778,
              "#fb9f3a"
             ],
             [
              0.8888888888888888,
              "#fdca26"
             ],
             [
              1,
              "#f0f921"
             ]
            ],
            "type": "heatmap"
           }
          ],
          "heatmapgl": [
           {
            "colorbar": {
             "outlinewidth": 0,
             "ticks": ""
            },
            "colorscale": [
             [
              0,
              "#0d0887"
             ],
             [
              0.1111111111111111,
              "#46039f"
             ],
             [
              0.2222222222222222,
              "#7201a8"
             ],
             [
              0.3333333333333333,
              "#9c179e"
             ],
             [
              0.4444444444444444,
              "#bd3786"
             ],
             [
              0.5555555555555556,
              "#d8576b"
             ],
             [
              0.6666666666666666,
              "#ed7953"
             ],
             [
              0.7777777777777778,
              "#fb9f3a"
             ],
             [
              0.8888888888888888,
              "#fdca26"
             ],
             [
              1,
              "#f0f921"
             ]
            ],
            "type": "heatmapgl"
           }
          ],
          "histogram": [
           {
            "marker": {
             "colorbar": {
              "outlinewidth": 0,
              "ticks": ""
             }
            },
            "type": "histogram"
           }
          ],
          "histogram2d": [
           {
            "colorbar": {
             "outlinewidth": 0,
             "ticks": ""
            },
            "colorscale": [
             [
              0,
              "#0d0887"
             ],
             [
              0.1111111111111111,
              "#46039f"
             ],
             [
              0.2222222222222222,
              "#7201a8"
             ],
             [
              0.3333333333333333,
              "#9c179e"
             ],
             [
              0.4444444444444444,
              "#bd3786"
             ],
             [
              0.5555555555555556,
              "#d8576b"
             ],
             [
              0.6666666666666666,
              "#ed7953"
             ],
             [
              0.7777777777777778,
              "#fb9f3a"
             ],
             [
              0.8888888888888888,
              "#fdca26"
             ],
             [
              1,
              "#f0f921"
             ]
            ],
            "type": "histogram2d"
           }
          ],
          "histogram2dcontour": [
           {
            "colorbar": {
             "outlinewidth": 0,
             "ticks": ""
            },
            "colorscale": [
             [
              0,
              "#0d0887"
             ],
             [
              0.1111111111111111,
              "#46039f"
             ],
             [
              0.2222222222222222,
              "#7201a8"
             ],
             [
              0.3333333333333333,
              "#9c179e"
             ],
             [
              0.4444444444444444,
              "#bd3786"
             ],
             [
              0.5555555555555556,
              "#d8576b"
             ],
             [
              0.6666666666666666,
              "#ed7953"
             ],
             [
              0.7777777777777778,
              "#fb9f3a"
             ],
             [
              0.8888888888888888,
              "#fdca26"
             ],
             [
              1,
              "#f0f921"
             ]
            ],
            "type": "histogram2dcontour"
           }
          ],
          "mesh3d": [
           {
            "colorbar": {
             "outlinewidth": 0,
             "ticks": ""
            },
            "type": "mesh3d"
           }
          ],
          "parcoords": [
           {
            "line": {
             "colorbar": {
              "outlinewidth": 0,
              "ticks": ""
             }
            },
            "type": "parcoords"
           }
          ],
          "pie": [
           {
            "automargin": true,
            "type": "pie"
           }
          ],
          "scatter": [
           {
            "marker": {
             "colorbar": {
              "outlinewidth": 0,
              "ticks": ""
             }
            },
            "type": "scatter"
           }
          ],
          "scatter3d": [
           {
            "line": {
             "colorbar": {
              "outlinewidth": 0,
              "ticks": ""
             }
            },
            "marker": {
             "colorbar": {
              "outlinewidth": 0,
              "ticks": ""
             }
            },
            "type": "scatter3d"
           }
          ],
          "scattercarpet": [
           {
            "marker": {
             "colorbar": {
              "outlinewidth": 0,
              "ticks": ""
             }
            },
            "type": "scattercarpet"
           }
          ],
          "scattergeo": [
           {
            "marker": {
             "colorbar": {
              "outlinewidth": 0,
              "ticks": ""
             }
            },
            "type": "scattergeo"
           }
          ],
          "scattergl": [
           {
            "marker": {
             "colorbar": {
              "outlinewidth": 0,
              "ticks": ""
             }
            },
            "type": "scattergl"
           }
          ],
          "scattermapbox": [
           {
            "marker": {
             "colorbar": {
              "outlinewidth": 0,
              "ticks": ""
             }
            },
            "type": "scattermapbox"
           }
          ],
          "scatterpolar": [
           {
            "marker": {
             "colorbar": {
              "outlinewidth": 0,
              "ticks": ""
             }
            },
            "type": "scatterpolar"
           }
          ],
          "scatterpolargl": [
           {
            "marker": {
             "colorbar": {
              "outlinewidth": 0,
              "ticks": ""
             }
            },
            "type": "scatterpolargl"
           }
          ],
          "scatterternary": [
           {
            "marker": {
             "colorbar": {
              "outlinewidth": 0,
              "ticks": ""
             }
            },
            "type": "scatterternary"
           }
          ],
          "surface": [
           {
            "colorbar": {
             "outlinewidth": 0,
             "ticks": ""
            },
            "colorscale": [
             [
              0,
              "#0d0887"
             ],
             [
              0.1111111111111111,
              "#46039f"
             ],
             [
              0.2222222222222222,
              "#7201a8"
             ],
             [
              0.3333333333333333,
              "#9c179e"
             ],
             [
              0.4444444444444444,
              "#bd3786"
             ],
             [
              0.5555555555555556,
              "#d8576b"
             ],
             [
              0.6666666666666666,
              "#ed7953"
             ],
             [
              0.7777777777777778,
              "#fb9f3a"
             ],
             [
              0.8888888888888888,
              "#fdca26"
             ],
             [
              1,
              "#f0f921"
             ]
            ],
            "type": "surface"
           }
          ],
          "table": [
           {
            "cells": {
             "fill": {
              "color": "#EBF0F8"
             },
             "line": {
              "color": "white"
             }
            },
            "header": {
             "fill": {
              "color": "#C8D4E3"
             },
             "line": {
              "color": "white"
             }
            },
            "type": "table"
           }
          ]
         },
         "layout": {
          "annotationdefaults": {
           "arrowcolor": "#2a3f5f",
           "arrowhead": 0,
           "arrowwidth": 1
          },
          "autotypenumbers": "strict",
          "coloraxis": {
           "colorbar": {
            "outlinewidth": 0,
            "ticks": ""
           }
          },
          "colorscale": {
           "diverging": [
            [
             0,
             "#8e0152"
            ],
            [
             0.1,
             "#c51b7d"
            ],
            [
             0.2,
             "#de77ae"
            ],
            [
             0.3,
             "#f1b6da"
            ],
            [
             0.4,
             "#fde0ef"
            ],
            [
             0.5,
             "#f7f7f7"
            ],
            [
             0.6,
             "#e6f5d0"
            ],
            [
             0.7,
             "#b8e186"
            ],
            [
             0.8,
             "#7fbc41"
            ],
            [
             0.9,
             "#4d9221"
            ],
            [
             1,
             "#276419"
            ]
           ],
           "sequential": [
            [
             0,
             "#0d0887"
            ],
            [
             0.1111111111111111,
             "#46039f"
            ],
            [
             0.2222222222222222,
             "#7201a8"
            ],
            [
             0.3333333333333333,
             "#9c179e"
            ],
            [
             0.4444444444444444,
             "#bd3786"
            ],
            [
             0.5555555555555556,
             "#d8576b"
            ],
            [
             0.6666666666666666,
             "#ed7953"
            ],
            [
             0.7777777777777778,
             "#fb9f3a"
            ],
            [
             0.8888888888888888,
             "#fdca26"
            ],
            [
             1,
             "#f0f921"
            ]
           ],
           "sequentialminus": [
            [
             0,
             "#0d0887"
            ],
            [
             0.1111111111111111,
             "#46039f"
            ],
            [
             0.2222222222222222,
             "#7201a8"
            ],
            [
             0.3333333333333333,
             "#9c179e"
            ],
            [
             0.4444444444444444,
             "#bd3786"
            ],
            [
             0.5555555555555556,
             "#d8576b"
            ],
            [
             0.6666666666666666,
             "#ed7953"
            ],
            [
             0.7777777777777778,
             "#fb9f3a"
            ],
            [
             0.8888888888888888,
             "#fdca26"
            ],
            [
             1,
             "#f0f921"
            ]
           ]
          },
          "colorway": [
           "#636efa",
           "#EF553B",
           "#00cc96",
           "#ab63fa",
           "#FFA15A",
           "#19d3f3",
           "#FF6692",
           "#B6E880",
           "#FF97FF",
           "#FECB52"
          ],
          "font": {
           "color": "#2a3f5f"
          },
          "geo": {
           "bgcolor": "white",
           "lakecolor": "white",
           "landcolor": "#E5ECF6",
           "showlakes": true,
           "showland": true,
           "subunitcolor": "white"
          },
          "hoverlabel": {
           "align": "left"
          },
          "hovermode": "closest",
          "mapbox": {
           "style": "light"
          },
          "paper_bgcolor": "white",
          "plot_bgcolor": "#E5ECF6",
          "polar": {
           "angularaxis": {
            "gridcolor": "white",
            "linecolor": "white",
            "ticks": ""
           },
           "bgcolor": "#E5ECF6",
           "radialaxis": {
            "gridcolor": "white",
            "linecolor": "white",
            "ticks": ""
           }
          },
          "scene": {
           "xaxis": {
            "backgroundcolor": "#E5ECF6",
            "gridcolor": "white",
            "gridwidth": 2,
            "linecolor": "white",
            "showbackground": true,
            "ticks": "",
            "zerolinecolor": "white"
           },
           "yaxis": {
            "backgroundcolor": "#E5ECF6",
            "gridcolor": "white",
            "gridwidth": 2,
            "linecolor": "white",
            "showbackground": true,
            "ticks": "",
            "zerolinecolor": "white"
           },
           "zaxis": {
            "backgroundcolor": "#E5ECF6",
            "gridcolor": "white",
            "gridwidth": 2,
            "linecolor": "white",
            "showbackground": true,
            "ticks": "",
            "zerolinecolor": "white"
           }
          },
          "shapedefaults": {
           "line": {
            "color": "#2a3f5f"
           }
          },
          "ternary": {
           "aaxis": {
            "gridcolor": "white",
            "linecolor": "white",
            "ticks": ""
           },
           "baxis": {
            "gridcolor": "white",
            "linecolor": "white",
            "ticks": ""
           },
           "bgcolor": "#E5ECF6",
           "caxis": {
            "gridcolor": "white",
            "linecolor": "white",
            "ticks": ""
           }
          },
          "title": {
           "x": 0.05
          },
          "xaxis": {
           "automargin": true,
           "gridcolor": "white",
           "linecolor": "white",
           "ticks": "",
           "title": {
            "standoff": 15
           },
           "zerolinecolor": "white",
           "zerolinewidth": 2
          },
          "yaxis": {
           "automargin": true,
           "gridcolor": "white",
           "linecolor": "white",
           "ticks": "",
           "title": {
            "standoff": 15
           },
           "zerolinecolor": "white",
           "zerolinewidth": 2
          }
         }
        },
        "title": {
         "text": "1 Week Avg of PM10 February"
        },
        "width": 800,
        "xaxis": {
         "anchor": "y",
         "domain": [
          0.8,
          0.7
         ],
         "title": {
          "text": "Timestamp"
         }
        },
        "yaxis": {
         "anchor": "x",
         "domain": [
          0,
          1
         ],
         "title": {
          "text": "PM10"
         }
        }
       }
      },
      "text/html": [
       "<div>                            <div id=\"952feee8-0358-4a64-99d9-b9636d597497\" class=\"plotly-graph-div\" style=\"height:600px; width:800px;\"></div>            <script type=\"text/javascript\">                require([\"plotly\"], function(Plotly) {                    window.PLOTLYENV=window.PLOTLYENV || {};                                    if (document.getElementById(\"952feee8-0358-4a64-99d9-b9636d597497\")) {                    Plotly.newPlot(                        \"952feee8-0358-4a64-99d9-b9636d597497\",                        [{\"name\": \"AQ13\", \"type\": \"scatter\", \"x\": [\"2021-02-07T00:00:00\", \"2021-02-14T00:00:00\", \"2021-02-21T00:00:00\", \"2021-02-28T00:00:00\"], \"xaxis\": \"x\", \"y\": [111.525, 152.509, 101.738, 80.8], \"yaxis\": \"y\"}, {\"name\": \"AQ14\", \"type\": \"scatter\", \"x\": [\"2021-02-07T00:00:00\", \"2021-02-14T00:00:00\", \"2021-02-21T00:00:00\", \"2021-02-28T00:00:00\"], \"xaxis\": \"x\", \"y\": [103.072, 58.419, 35.893, 46.748], \"yaxis\": \"y\"}, {\"name\": \"AQ15\", \"type\": \"scatter\", \"x\": [\"2021-02-07T00:00:00\", \"2021-02-14T00:00:00\", \"2021-02-21T00:00:00\", \"2021-02-28T00:00:00\"], \"xaxis\": \"x\", \"y\": [91.956, 51.623, 35.592, 37.677], \"yaxis\": \"y\"}, {\"name\": \"AQ16\", \"type\": \"scatter\", \"x\": [\"2021-02-07T00:00:00\", \"2021-02-14T00:00:00\", \"2021-02-21T00:00:00\"], \"xaxis\": \"x\", \"y\": [16.089, 0.134, 2.688], \"yaxis\": \"y\"}, {\"name\": \"AQ17\", \"type\": \"scatter\", \"x\": [\"2021-02-07T00:00:00\", \"2021-02-14T00:00:00\", \"2021-02-21T00:00:00\", \"2021-02-28T00:00:00\"], \"xaxis\": \"x\", \"y\": [42.331, 45.891, 32.781, 46.006], \"yaxis\": \"y\"}, {\"name\": \"AQ18\", \"type\": \"scatter\", \"x\": [\"2021-02-07T00:00:00\", \"2021-02-14T00:00:00\", \"2021-02-21T00:00:00\", \"2021-02-28T00:00:00\"], \"xaxis\": \"x\", \"y\": [84.435, 48.907, 29.361, 37.092], \"yaxis\": \"y\"}, {\"name\": \"AQ19\", \"type\": \"scatter\", \"x\": [\"2021-02-07T00:00:00\", \"2021-02-14T00:00:00\", \"2021-02-21T00:00:00\", \"2021-02-28T00:00:00\"], \"xaxis\": \"x\", \"y\": [84.435, 48.907, 29.361, 37.092], \"yaxis\": \"y\"}, {\"name\": \"AQ21\", \"type\": \"scatter\", \"x\": [\"2021-02-07T00:00:00\", \"2021-02-14T00:00:00\", \"2021-02-21T00:00:00\", \"2021-02-28T00:00:00\"], \"xaxis\": \"x\", \"y\": [109.588, 61.598, 29.252, 37.514], \"yaxis\": \"y\"}, {\"name\": \"AQ22\", \"type\": \"scatter\", \"x\": [\"2021-02-07T00:00:00\", \"2021-02-14T00:00:00\", \"2021-02-21T00:00:00\", \"2021-02-28T00:00:00\"], \"xaxis\": \"x\", \"y\": [62.354, 57.221, 56.427, 71.157], \"yaxis\": \"y\"}, {\"name\": \"AQ23\", \"type\": \"scatter\", \"x\": [\"2021-02-07T00:00:00\", \"2021-02-14T00:00:00\", \"2021-02-21T00:00:00\", \"2021-02-28T00:00:00\"], \"xaxis\": \"x\", \"y\": [156.503, 138.897, 96.775, 83.071], \"yaxis\": \"y\"}, {\"name\": \"AQ24\", \"type\": \"scatter\", \"x\": [\"2021-02-07T00:00:00\", \"2021-02-14T00:00:00\", \"2021-02-21T00:00:00\", \"2021-02-28T00:00:00\"], \"xaxis\": \"x\", \"y\": [79.066, 73.772, 70.856, 89.84], \"yaxis\": \"y\"}, {\"name\": \"AQ25\", \"type\": \"scatter\", \"x\": [\"2021-02-07T00:00:00\", \"2021-02-14T00:00:00\", \"2021-02-21T00:00:00\", \"2021-02-28T00:00:00\"], \"xaxis\": \"x\", \"y\": [78.354, 64.704, 55.855, 81.787], \"yaxis\": \"y\"}, {\"name\": \"AQ30\", \"type\": \"scatter\", \"x\": [\"2021-02-14T00:00:00\", \"2021-02-21T00:00:00\", \"2021-02-28T00:00:00\"], \"xaxis\": \"x\", \"y\": [62.277, 69.454, 73.229], \"yaxis\": \"y\"}, {\"name\": \"AQ31\", \"type\": \"scatter\", \"x\": [\"2021-02-14T00:00:00\", \"2021-02-21T00:00:00\", \"2021-02-28T00:00:00\"], \"xaxis\": \"x\", \"y\": [666.222, 1082.895, 0.0], \"yaxis\": \"y\"}, {\"name\": \"AQ32\", \"type\": \"scatter\", \"x\": [\"2021-02-14T00:00:00\", \"2021-02-21T00:00:00\", \"2021-02-28T00:00:00\"], \"xaxis\": \"x\", \"y\": [54.823, 49.912, 49.751], \"yaxis\": \"y\"}, {\"name\": \"AQ33\", \"type\": \"scatter\", \"x\": [\"2021-02-14T00:00:00\", \"2021-02-21T00:00:00\", \"2021-02-28T00:00:00\"], \"xaxis\": \"x\", \"y\": [59.256, 70.436, 86.395], \"yaxis\": \"y\"}, {\"name\": \"AQ34\", \"type\": \"scatter\", \"x\": [\"2021-02-14T00:00:00\", \"2021-02-21T00:00:00\", \"2021-02-28T00:00:00\"], \"xaxis\": \"x\", \"y\": [37.008, 45.417, 53.078], \"yaxis\": \"y\"}, {\"name\": \"AQ35\", \"type\": \"scatter\", \"x\": [\"2021-02-14T00:00:00\", \"2021-02-21T00:00:00\", \"2021-02-28T00:00:00\"], \"xaxis\": \"x\", \"y\": [44.275, 50.633, 52.633], \"yaxis\": \"y\"}, {\"name\": \"AQ36\", \"type\": \"scatter\", \"x\": [\"2021-02-28T00:00:00\"], \"xaxis\": \"x\", \"y\": [39.059], \"yaxis\": \"y\"}, {\"name\": \"AQ37\", \"type\": \"scatter\", \"x\": [\"2021-02-07T00:00:00\", \"2021-02-14T00:00:00\", \"2021-02-21T00:00:00\", \"2021-02-28T00:00:00\"], \"xaxis\": \"x\", \"y\": [88.407, 123.192, 87.928, 113.828], \"yaxis\": \"y\"}, {\"name\": \"AQ38\", \"type\": \"scatter\", \"x\": [\"2021-02-28T00:00:00\"], \"xaxis\": \"x\", \"y\": [42.556], \"yaxis\": \"y\"}, {\"name\": \"AQ39\", \"type\": \"scatter\", \"x\": [\"2021-02-28T00:00:00\"], \"xaxis\": \"x\", \"y\": [38.343], \"yaxis\": \"y\"}, {\"name\": \"AQ40\", \"type\": \"scatter\", \"x\": [\"2021-02-28T00:00:00\"], \"xaxis\": \"x\", \"y\": [43.224], \"yaxis\": \"y\"}, {\"name\": \"AQ43\", \"type\": \"scatter\", \"x\": [\"2021-02-07T00:00:00\", \"2021-02-14T00:00:00\", \"2021-02-21T00:00:00\", \"2021-02-28T00:00:00\"], \"xaxis\": \"x\", \"y\": [88.407, 123.192, 87.928, 113.777], \"yaxis\": \"y\"}, {\"name\": \"AQ45\", \"type\": \"scatter\", \"x\": [\"2021-02-28T00:00:00\"], \"xaxis\": \"x\", \"y\": [48.586], \"yaxis\": \"y\"}],                        {\"height\": 600, \"template\": {\"data\": {\"bar\": [{\"error_x\": {\"color\": \"#2a3f5f\"}, \"error_y\": {\"color\": \"#2a3f5f\"}, \"marker\": {\"line\": {\"color\": \"#E5ECF6\", \"width\": 0.5}}, \"type\": \"bar\"}], \"barpolar\": [{\"marker\": {\"line\": {\"color\": \"#E5ECF6\", \"width\": 0.5}}, \"type\": \"barpolar\"}], \"carpet\": [{\"aaxis\": {\"endlinecolor\": \"#2a3f5f\", \"gridcolor\": \"white\", \"linecolor\": \"white\", \"minorgridcolor\": \"white\", \"startlinecolor\": \"#2a3f5f\"}, \"baxis\": {\"endlinecolor\": \"#2a3f5f\", \"gridcolor\": \"white\", \"linecolor\": \"white\", \"minorgridcolor\": \"white\", \"startlinecolor\": \"#2a3f5f\"}, \"type\": \"carpet\"}], \"choropleth\": [{\"colorbar\": {\"outlinewidth\": 0, \"ticks\": \"\"}, \"type\": \"choropleth\"}], \"contour\": [{\"colorbar\": {\"outlinewidth\": 0, \"ticks\": \"\"}, \"colorscale\": [[0.0, \"#0d0887\"], [0.1111111111111111, \"#46039f\"], [0.2222222222222222, \"#7201a8\"], [0.3333333333333333, \"#9c179e\"], [0.4444444444444444, \"#bd3786\"], [0.5555555555555556, \"#d8576b\"], [0.6666666666666666, \"#ed7953\"], [0.7777777777777778, \"#fb9f3a\"], [0.8888888888888888, \"#fdca26\"], [1.0, \"#f0f921\"]], \"type\": \"contour\"}], \"contourcarpet\": [{\"colorbar\": {\"outlinewidth\": 0, \"ticks\": \"\"}, \"type\": \"contourcarpet\"}], \"heatmap\": [{\"colorbar\": {\"outlinewidth\": 0, \"ticks\": \"\"}, \"colorscale\": [[0.0, \"#0d0887\"], [0.1111111111111111, \"#46039f\"], [0.2222222222222222, \"#7201a8\"], [0.3333333333333333, \"#9c179e\"], [0.4444444444444444, \"#bd3786\"], [0.5555555555555556, \"#d8576b\"], [0.6666666666666666, \"#ed7953\"], [0.7777777777777778, \"#fb9f3a\"], [0.8888888888888888, \"#fdca26\"], [1.0, \"#f0f921\"]], \"type\": \"heatmap\"}], \"heatmapgl\": [{\"colorbar\": {\"outlinewidth\": 0, \"ticks\": \"\"}, \"colorscale\": [[0.0, \"#0d0887\"], [0.1111111111111111, \"#46039f\"], [0.2222222222222222, \"#7201a8\"], [0.3333333333333333, \"#9c179e\"], [0.4444444444444444, \"#bd3786\"], [0.5555555555555556, \"#d8576b\"], [0.6666666666666666, \"#ed7953\"], [0.7777777777777778, \"#fb9f3a\"], [0.8888888888888888, \"#fdca26\"], [1.0, \"#f0f921\"]], \"type\": \"heatmapgl\"}], \"histogram\": [{\"marker\": {\"colorbar\": {\"outlinewidth\": 0, \"ticks\": \"\"}}, \"type\": \"histogram\"}], \"histogram2d\": [{\"colorbar\": {\"outlinewidth\": 0, \"ticks\": \"\"}, \"colorscale\": [[0.0, \"#0d0887\"], [0.1111111111111111, \"#46039f\"], [0.2222222222222222, \"#7201a8\"], [0.3333333333333333, \"#9c179e\"], [0.4444444444444444, \"#bd3786\"], [0.5555555555555556, \"#d8576b\"], [0.6666666666666666, \"#ed7953\"], [0.7777777777777778, \"#fb9f3a\"], [0.8888888888888888, \"#fdca26\"], [1.0, \"#f0f921\"]], \"type\": \"histogram2d\"}], \"histogram2dcontour\": [{\"colorbar\": {\"outlinewidth\": 0, \"ticks\": \"\"}, \"colorscale\": [[0.0, \"#0d0887\"], [0.1111111111111111, \"#46039f\"], [0.2222222222222222, \"#7201a8\"], [0.3333333333333333, \"#9c179e\"], [0.4444444444444444, \"#bd3786\"], [0.5555555555555556, \"#d8576b\"], [0.6666666666666666, \"#ed7953\"], [0.7777777777777778, \"#fb9f3a\"], [0.8888888888888888, \"#fdca26\"], [1.0, \"#f0f921\"]], \"type\": \"histogram2dcontour\"}], \"mesh3d\": [{\"colorbar\": {\"outlinewidth\": 0, \"ticks\": \"\"}, \"type\": \"mesh3d\"}], \"parcoords\": [{\"line\": {\"colorbar\": {\"outlinewidth\": 0, \"ticks\": \"\"}}, \"type\": \"parcoords\"}], \"pie\": [{\"automargin\": true, \"type\": \"pie\"}], \"scatter\": [{\"marker\": {\"colorbar\": {\"outlinewidth\": 0, \"ticks\": \"\"}}, \"type\": \"scatter\"}], \"scatter3d\": [{\"line\": {\"colorbar\": {\"outlinewidth\": 0, \"ticks\": \"\"}}, \"marker\": {\"colorbar\": {\"outlinewidth\": 0, \"ticks\": \"\"}}, \"type\": \"scatter3d\"}], \"scattercarpet\": [{\"marker\": {\"colorbar\": {\"outlinewidth\": 0, \"ticks\": \"\"}}, \"type\": \"scattercarpet\"}], \"scattergeo\": [{\"marker\": {\"colorbar\": {\"outlinewidth\": 0, \"ticks\": \"\"}}, \"type\": \"scattergeo\"}], \"scattergl\": [{\"marker\": {\"colorbar\": {\"outlinewidth\": 0, \"ticks\": \"\"}}, \"type\": \"scattergl\"}], \"scattermapbox\": [{\"marker\": {\"colorbar\": {\"outlinewidth\": 0, \"ticks\": \"\"}}, \"type\": \"scattermapbox\"}], \"scatterpolar\": [{\"marker\": {\"colorbar\": {\"outlinewidth\": 0, \"ticks\": \"\"}}, \"type\": \"scatterpolar\"}], \"scatterpolargl\": [{\"marker\": {\"colorbar\": {\"outlinewidth\": 0, \"ticks\": \"\"}}, \"type\": \"scatterpolargl\"}], \"scatterternary\": [{\"marker\": {\"colorbar\": {\"outlinewidth\": 0, \"ticks\": \"\"}}, \"type\": \"scatterternary\"}], \"surface\": [{\"colorbar\": {\"outlinewidth\": 0, \"ticks\": \"\"}, \"colorscale\": [[0.0, \"#0d0887\"], [0.1111111111111111, \"#46039f\"], [0.2222222222222222, \"#7201a8\"], [0.3333333333333333, \"#9c179e\"], [0.4444444444444444, \"#bd3786\"], [0.5555555555555556, \"#d8576b\"], [0.6666666666666666, \"#ed7953\"], [0.7777777777777778, \"#fb9f3a\"], [0.8888888888888888, \"#fdca26\"], [1.0, \"#f0f921\"]], \"type\": \"surface\"}], \"table\": [{\"cells\": {\"fill\": {\"color\": \"#EBF0F8\"}, \"line\": {\"color\": \"white\"}}, \"header\": {\"fill\": {\"color\": \"#C8D4E3\"}, \"line\": {\"color\": \"white\"}}, \"type\": \"table\"}]}, \"layout\": {\"annotationdefaults\": {\"arrowcolor\": \"#2a3f5f\", \"arrowhead\": 0, \"arrowwidth\": 1}, \"autotypenumbers\": \"strict\", \"coloraxis\": {\"colorbar\": {\"outlinewidth\": 0, \"ticks\": \"\"}}, \"colorscale\": {\"diverging\": [[0, \"#8e0152\"], [0.1, \"#c51b7d\"], [0.2, \"#de77ae\"], [0.3, \"#f1b6da\"], [0.4, \"#fde0ef\"], [0.5, \"#f7f7f7\"], [0.6, \"#e6f5d0\"], [0.7, \"#b8e186\"], [0.8, \"#7fbc41\"], [0.9, \"#4d9221\"], [1, \"#276419\"]], \"sequential\": [[0.0, \"#0d0887\"], [0.1111111111111111, \"#46039f\"], [0.2222222222222222, \"#7201a8\"], [0.3333333333333333, \"#9c179e\"], [0.4444444444444444, \"#bd3786\"], [0.5555555555555556, \"#d8576b\"], [0.6666666666666666, \"#ed7953\"], [0.7777777777777778, \"#fb9f3a\"], [0.8888888888888888, \"#fdca26\"], [1.0, \"#f0f921\"]], \"sequentialminus\": [[0.0, \"#0d0887\"], [0.1111111111111111, \"#46039f\"], [0.2222222222222222, \"#7201a8\"], [0.3333333333333333, \"#9c179e\"], [0.4444444444444444, \"#bd3786\"], [0.5555555555555556, \"#d8576b\"], [0.6666666666666666, \"#ed7953\"], [0.7777777777777778, \"#fb9f3a\"], [0.8888888888888888, \"#fdca26\"], [1.0, \"#f0f921\"]]}, \"colorway\": [\"#636efa\", \"#EF553B\", \"#00cc96\", \"#ab63fa\", \"#FFA15A\", \"#19d3f3\", \"#FF6692\", \"#B6E880\", \"#FF97FF\", \"#FECB52\"], \"font\": {\"color\": \"#2a3f5f\"}, \"geo\": {\"bgcolor\": \"white\", \"lakecolor\": \"white\", \"landcolor\": \"#E5ECF6\", \"showlakes\": true, \"showland\": true, \"subunitcolor\": \"white\"}, \"hoverlabel\": {\"align\": \"left\"}, \"hovermode\": \"closest\", \"mapbox\": {\"style\": \"light\"}, \"paper_bgcolor\": \"white\", \"plot_bgcolor\": \"#E5ECF6\", \"polar\": {\"angularaxis\": {\"gridcolor\": \"white\", \"linecolor\": \"white\", \"ticks\": \"\"}, \"bgcolor\": \"#E5ECF6\", \"radialaxis\": {\"gridcolor\": \"white\", \"linecolor\": \"white\", \"ticks\": \"\"}}, \"scene\": {\"xaxis\": {\"backgroundcolor\": \"#E5ECF6\", \"gridcolor\": \"white\", \"gridwidth\": 2, \"linecolor\": \"white\", \"showbackground\": true, \"ticks\": \"\", \"zerolinecolor\": \"white\"}, \"yaxis\": {\"backgroundcolor\": \"#E5ECF6\", \"gridcolor\": \"white\", \"gridwidth\": 2, \"linecolor\": \"white\", \"showbackground\": true, \"ticks\": \"\", \"zerolinecolor\": \"white\"}, \"zaxis\": {\"backgroundcolor\": \"#E5ECF6\", \"gridcolor\": \"white\", \"gridwidth\": 2, \"linecolor\": \"white\", \"showbackground\": true, \"ticks\": \"\", \"zerolinecolor\": \"white\"}}, \"shapedefaults\": {\"line\": {\"color\": \"#2a3f5f\"}}, \"ternary\": {\"aaxis\": {\"gridcolor\": \"white\", \"linecolor\": \"white\", \"ticks\": \"\"}, \"baxis\": {\"gridcolor\": \"white\", \"linecolor\": \"white\", \"ticks\": \"\"}, \"bgcolor\": \"#E5ECF6\", \"caxis\": {\"gridcolor\": \"white\", \"linecolor\": \"white\", \"ticks\": \"\"}}, \"title\": {\"x\": 0.05}, \"xaxis\": {\"automargin\": true, \"gridcolor\": \"white\", \"linecolor\": \"white\", \"ticks\": \"\", \"title\": {\"standoff\": 15}, \"zerolinecolor\": \"white\", \"zerolinewidth\": 2}, \"yaxis\": {\"automargin\": true, \"gridcolor\": \"white\", \"linecolor\": \"white\", \"ticks\": \"\", \"title\": {\"standoff\": 15}, \"zerolinecolor\": \"white\", \"zerolinewidth\": 2}}}, \"title\": {\"text\": \"1 Week Avg of PM10 February\"}, \"width\": 800, \"xaxis\": {\"anchor\": \"y\", \"domain\": [0.8, 0.7], \"title\": {\"text\": \"Timestamp\"}}, \"yaxis\": {\"anchor\": \"x\", \"domain\": [0.0, 1.0], \"title\": {\"text\": \"PM10\"}}},                        {\"responsive\": true}                    ).then(function(){\n",
       "                            \n",
       "var gd = document.getElementById('952feee8-0358-4a64-99d9-b9636d597497');\n",
       "var x = new MutationObserver(function (mutations, observer) {{\n",
       "        var display = window.getComputedStyle(gd).display;\n",
       "        if (!display || display === 'none') {{\n",
       "            console.log([gd, 'removed!']);\n",
       "            Plotly.purge(gd);\n",
       "            observer.disconnect();\n",
       "        }}\n",
       "}});\n",
       "\n",
       "// Listen for the removal of the full notebook cells\n",
       "var notebookContainer = gd.closest('#notebook-container');\n",
       "if (notebookContainer) {{\n",
       "    x.observe(notebookContainer, {childList: true});\n",
       "}}\n",
       "\n",
       "// Listen for the clearing of the current output cell\n",
       "var outputEl = gd.closest('.output');\n",
       "if (outputEl) {{\n",
       "    x.observe(outputEl, {childList: true});\n",
       "}}\n",
       "\n",
       "                        })                };                });            </script>        </div>"
      ]
     },
     "metadata": {},
     "output_type": "display_data"
    }
   ],
   "source": [
    "fig = make_subplots(rows=1, cols=1,\n",
    "shared_xaxes=True,\n",
    "vertical_spacing=0.01)\n",
    "\n",
    "\n",
    "\n",
    "#fig.add_trace(go.Scatter(x=AQ12.index, y=AQ12['PM10'], name = 'AQ12', xaxis=\"x2\",yaxis = 'y2'),\n",
    "#row=1, col=1)\n",
    "fig.add_trace(go.Scatter(x=AQ13.index, y=AQ13['PM10'], name = 'AQ13', xaxis=\"x2\",yaxis = 'y2'),\n",
    "row=1, col=1)\n",
    "fig.add_trace(go.Scatter(x=AQ14.index, y=AQ14['PM10'], name = 'AQ14', xaxis=\"x2\",yaxis = 'y2'),\n",
    "row=1, col=1)\n",
    "fig.add_trace(go.Scatter(x=AQ15.index, y=AQ15['PM10'], name = 'AQ15', xaxis=\"x2\",yaxis = 'y2'),\n",
    "row=1, col=1)\n",
    "fig.add_trace(go.Scatter(x=AQ16.index, y=AQ16['PM10'], name = 'AQ16', xaxis=\"x2\",yaxis = 'y2'),\n",
    " row=1, col=1)\n",
    "fig.add_trace(go.Scatter(x=AQ17.index, y=AQ17['PM10'], name = 'AQ17', xaxis=\"x2\",yaxis = 'y2'),\n",
    "row=1, col=1)\n",
    "fig.add_trace(go.Scatter(x=AQ18.index, y=AQ18['PM10'], name = 'AQ18', xaxis=\"x2\",yaxis = 'y2'),\n",
    "row=1, col=1)\n",
    "fig.add_trace(go.Scatter(x=AQ19.index, y=AQ18['PM10'], name = 'AQ19', xaxis=\"x2\",yaxis = 'y2'),\n",
    "row=1, col=1)\n",
    "#fig.add_trace(go.Scatter(x=AQ20.index, y=AQ20['PM10'], name = 'AQ20', xaxis=\"x2\",yaxis = 'y2'),\n",
    "#row=1, col=1)\n",
    "fig.add_trace(go.Scatter(x=AQ21.index, y=AQ21['PM10'], name = 'AQ21', xaxis=\"x2\",yaxis = 'y2'),\n",
    "row=1, col=1)\n",
    "fig.add_trace(go.Scatter(x=AQ22.index, y=AQ22['PM10'], name = 'AQ22', xaxis=\"x2\",yaxis = 'y2'),\n",
    "row=1, col=1)\n",
    "fig.add_trace(go.Scatter(x=AQ23.index, y=AQ23['PM10'], name = 'AQ23', xaxis=\"x2\",yaxis = 'y2'),\n",
    "row=1, col=1)\n",
    "fig.add_trace(go.Scatter(x=AQ24.index, y=AQ24['PM10'], name = 'AQ24', xaxis=\"x2\",yaxis = 'y2'),\n",
    "row=1, col=1)\n",
    "fig.add_trace(go.Scatter(x=AQ25.index, y=AQ25['PM10'], name = 'AQ25', xaxis=\"x2\",yaxis = 'y2'),\n",
    "row=1, col=1)\n",
    "#fig.add_trace(go.Scatter(x=AQ26.index, y=AQ26['PM10'], name = 'AQ26', xaxis=\"x2\",yaxis = 'y2'),\n",
    "#row=1, col=1)\n",
    "fig.add_trace(go.Scatter(x=AQ30.index, y=AQ30['PM10'], name = 'AQ30', xaxis=\"x2\",yaxis = 'y2'),\n",
    "row=1, col=1)\n",
    "fig.add_trace(go.Scatter(x=AQ31.index, y=AQ31['PM10'], name = 'AQ31', xaxis=\"x2\",yaxis = 'y2'),\n",
    "row=1, col=1)\n",
    "fig.add_trace(go.Scatter(x=AQ32.index, y=AQ32['PM10'], name = 'AQ32', xaxis=\"x2\",yaxis = 'y2'),\n",
    "row=1, col=1)\n",
    "fig.add_trace(go.Scatter(x=AQ33.index, y=AQ33['PM10'], name = 'AQ33', xaxis=\"x2\",yaxis = 'y2'),\n",
    "row=1, col=1)\n",
    "fig.add_trace(go.Scatter(x=AQ34.index, y=AQ34['PM10'], name = 'AQ34', xaxis=\"x2\",yaxis = 'y2'),\n",
    "row=1, col=1)\n",
    "fig.add_trace(go.Scatter(x=AQ35.index, y=AQ35['PM10'], name = 'AQ35', xaxis=\"x2\",yaxis = 'y2'),\n",
    "row=1, col=1)\n",
    "fig.add_trace(go.Scatter(x=AQ36.index, y=AQ36['PM10'], name = 'AQ36', xaxis=\"x2\",yaxis = 'y2'),\n",
    "row=1, col=1)\n",
    "fig.add_trace(go.Scatter(x=AQ37.index, y=AQ37['PM10'], name = 'AQ37', xaxis=\"x2\",yaxis = 'y2'),\n",
    "row=1, col=1)\n",
    "fig.add_trace(go.Scatter(x=AQ38.index, y=AQ38['PM10'], name = 'AQ38', xaxis=\"x2\",yaxis = 'y2'),\n",
    "row=1, col=1)\n",
    "fig.add_trace(go.Scatter(x=AQ39.index, y=AQ39['PM10'], name = 'AQ39', xaxis=\"x2\",yaxis = 'y2'),\n",
    "row=1, col=1)\n",
    "fig.add_trace(go.Scatter(x=AQ40.index, y=AQ40['PM10'], name = 'AQ40', xaxis=\"x2\",yaxis = 'y2'),\n",
    "row=1, col=1)\n",
    "#fig.add_trace(go.Scatter(x=AQ41.index, y=AQ41['PM10'], name = 'AQ41', xaxis=\"x2\",yaxis = 'y2'),\n",
    "#row=1, col=1)\n",
    "#fig.add_trace(go.Scatter(x=AQ42.index, y=AQ42['PM10'], name = 'AQ42', xaxis=\"x2\",yaxis = 'y2'),\n",
    "#row=1, col=1)\n",
    "fig.add_trace(go.Scatter(x=AQ43.index, y=AQ43['PM10'], name = 'AQ43', xaxis=\"x2\",yaxis = 'y2'),\n",
    "row=1, col=1)\n",
    "#fig.add_trace(go.Scatter(x=AQ44.index, y=AQ44['PM10'], name = 'AQ44', xaxis=\"x2\",yaxis = 'y2'),\n",
    "#row=1, col=1)\n",
    "fig.add_trace(go.Scatter(x=AQ45.index, y=AQ45['PM10'], name = 'AQ45', xaxis=\"x2\",yaxis = 'y2'),\n",
    "row=1, col=1)\n",
    "#fig.add_trace(go.Scatter(x=AQ46.index, y=AQ46['PM10'], name = 'AQ46', xaxis=\"x2\",yaxis = 'y2'),\n",
    "#row=1, col=1)\n",
    "#fig.add_trace(go.Scatter(x=AQ47.index, y=AQ47['PM10'], name = 'AQ47', xaxis=\"x2\",yaxis = 'y2'),\n",
    "#row=1, col=1)\n",
    "#fig.add_trace(go.Scatter(x=AQ49.index, y=AQ49['PM10'], name = 'AQ49', xaxis=\"x2\",yaxis = 'y2'),\n",
    "#row=1, col=1)\n",
    "#fig.add_trace(go.Scatter(x=AQ50.index, y=AQ50['PM10'], name = 'AQ50', xaxis=\"x2\",yaxis = 'y2'),\n",
    "# row=1, col=1)\n",
    "\n",
    "\n",
    "\n",
    "\n",
    "\n",
    "\n",
    "\n",
    "fig.update_layout(height=600, width=1000,\n",
    "title_text=\"1 Week Avg of PM10 February\")\n",
    "\n",
    "\n",
    "\n",
    "\n",
    "\n",
    "# Create axis objects\n",
    "fig.update_layout(\n",
    "xaxis1=dict(title =\"Timestamp\",domain=[0.8, 0.7]),\n",
    "\n",
    "yaxis1 =dict(title=\"PM10\"),\n",
    "\n",
    "\n",
    ")\n",
    "\n",
    "\n",
    "\n",
    "# Update layout properties\n",
    "fig.update_layout(\n",
    "title_text=\"1 Week Avg of PM10 February\",\n",
    "width=800,\n",
    ")\n",
    "\n",
    "\n",
    "\n",
    "\n",
    "fig.show()\n",
    "fig.write_html(\"February_1Week_pm10.html\")"
   ]
  },
  {
   "cell_type": "code",
   "execution_count": 32,
   "metadata": {},
   "outputs": [],
   "source": [
    "fig = make_subplots(rows=1, cols=1,\n",
    "shared_xaxes=True,\n",
    "vertical_spacing=0.01)\n",
    "\n",
    "\n",
    "\n",
    "#fig.add_trace(go.Scatter(x=AQ12.index, y=AQ12['PM2.5'], name = 'AQ12', xaxis=\"x2\",yaxis = 'y2'),\n",
    "#row=1, col=1)\n",
    "fig.add_trace(go.Scatter(x=AQ13.index, y=AQ13['PM2.5'], name = 'AQ13', xaxis=\"x2\",yaxis = 'y2'),\n",
    "row=1, col=1)\n",
    "fig.add_trace(go.Scatter(x=AQ14.index, y=AQ14['PM2.5'], name = 'AQ14', xaxis=\"x2\",yaxis = 'y2'),\n",
    "row=1, col=1)\n",
    "fig.add_trace(go.Scatter(x=AQ15.index, y=AQ15['PM2.5'], name = 'AQ15', xaxis=\"x2\",yaxis = 'y2'),\n",
    "row=1, col=1)\n",
    "fig.add_trace(go.Scatter(x=AQ16.index, y=AQ16['PM2.5'], name = 'AQ16', xaxis=\"x2\",yaxis = 'y2'),\n",
    "row=1, col=1)\n",
    "fig.add_trace(go.Scatter(x=AQ17.index, y=AQ17['PM2.5'], name = 'AQ17', xaxis=\"x2\",yaxis = 'y2'),\n",
    "row=1, col=1)\n",
    "fig.add_trace(go.Scatter(x=AQ18.index, y=AQ18['PM2.5'], name = 'AQ18', xaxis=\"x2\",yaxis = 'y2'),\n",
    "row=1, col=1)\n",
    "fig.add_trace(go.Scatter(x=AQ19.index, y=AQ19['PM2.5'], name = 'AQ19', xaxis=\"x2\",yaxis = 'y2'),\n",
    "row=1, col=1)\n",
    "#fig.add_trace(go.Scatter(x=AQ20.index, y=AQ20['PM2.5'], name = 'AQ20', xaxis=\"x2\",yaxis = 'y2'),\n",
    "#row=1, col=1)\n",
    "fig.add_trace(go.Scatter(x=AQ21.index, y=AQ21['PM2.5'], name = 'AQ21', xaxis=\"x2\",yaxis = 'y2'),\n",
    "row=1, col=1)\n",
    "fig.add_trace(go.Scatter(x=AQ22.index, y=AQ22['PM2.5'], name = 'AQ22', xaxis=\"x2\",yaxis = 'y2'),\n",
    "row=1, col=1)\n",
    "fig.add_trace(go.Scatter(x=AQ23.index, y=AQ23['PM2.5'], name = 'AQ23', xaxis=\"x2\",yaxis = 'y2'),\n",
    "row=1, col=1)\n",
    "fig.add_trace(go.Scatter(x=AQ24.index, y=AQ24['PM2.5'], name = 'AQ24', xaxis=\"x2\",yaxis = 'y2'),\n",
    "row=1, col=1)\n",
    "fig.add_trace(go.Scatter(x=AQ25.index, y=AQ25['PM2.5'], name = 'AQ25', xaxis=\"x2\",yaxis = 'y2'),\n",
    "row=1, col=1)\n",
    "#fig.add_trace(go.Scatter(x=AQ26.index, y=AQ26['PM2.5'], name = 'AQ26', xaxis=\"x2\",yaxis = 'y2'),\n",
    "#row=1, col=1)\n",
    "fig.add_trace(go.Scatter(x=AQ30.index, y=AQ30['PM2.5'], name = 'AQ30', xaxis=\"x2\",yaxis = 'y2'),\n",
    "row=1, col=1)\n",
    "fig.add_trace(go.Scatter(x=AQ31.index, y=AQ31['PM2.5'], name = 'AQ31', xaxis=\"x2\",yaxis = 'y2'),\n",
    "row=1, col=1)\n",
    "fig.add_trace(go.Scatter(x=AQ32.index, y=AQ32['PM2.5'], name = 'AQ32', xaxis=\"x2\",yaxis = 'y2'),\n",
    "row=1, col=1)\n",
    "fig.add_trace(go.Scatter(x=AQ33.index, y=AQ33['PM2.5'], name = 'AQ33', xaxis=\"x2\",yaxis = 'y2'),\n",
    "row=1, col=1)\n",
    "fig.add_trace(go.Scatter(x=AQ34.index, y=AQ34['PM2.5'], name = 'AQ34', xaxis=\"x2\",yaxis = 'y2'),\n",
    "row=1, col=1)\n",
    "fig.add_trace(go.Scatter(x=AQ35.index, y=AQ35['PM2.5'], name = 'AQ35', xaxis=\"x2\",yaxis = 'y2'),\n",
    "row=1, col=1)\n",
    "fig.add_trace(go.Scatter(x=AQ36.index, y=AQ36['PM2.5'], name = 'AQ36', xaxis=\"x2\",yaxis = 'y2'),\n",
    "row=1, col=1)\n",
    "fig.add_trace(go.Scatter(x=AQ37.index, y=AQ37['PM2.5'], name = 'AQ37', xaxis=\"x2\",yaxis = 'y2'),\n",
    "row=1, col=1)\n",
    "fig.add_trace(go.Scatter(x=AQ38.index, y=AQ38['PM2.5'], name = 'AQ38', xaxis=\"x2\",yaxis = 'y2'),\n",
    "row=1, col=1)\n",
    "fig.add_trace(go.Scatter(x=AQ39.index, y=AQ39['PM2.5'], name = 'AQ39', xaxis=\"x2\",yaxis = 'y2'),\n",
    "row=1, col=1)\n",
    "fig.add_trace(go.Scatter(x=AQ40.index, y=AQ40['PM2.5'], name = 'AQ40', xaxis=\"x2\",yaxis = 'y2'),\n",
    "row=1, col=1)\n",
    "fig.add_trace(go.Scatter(x=AQ41.index, y=AQ41['PM2.5'], name = 'AQ41', xaxis=\"x2\",yaxis = 'y2'),\n",
    "row=1, col=1)\n",
    "#fig.add_trace(go.Scatter(x=AQ42.index, y=AQ42['PM2.5'], name = 'AQ42', xaxis=\"x2\",yaxis = 'y2'),\n",
    "#row=1, col=1)\n",
    "fig.add_trace(go.Scatter(x=AQ43.index, y=AQ43['PM2.5'], name = 'AQ43', xaxis=\"x2\",yaxis = 'y2'),\n",
    "row=1, col=1)\n",
    "#fig.add_trace(go.Scatter(x=AQ44.index, y=AQ44['PM2.5'], name = 'AQ44', xaxis=\"x2\",yaxis = 'y2'),\n",
    "#row=1, col=1)\n",
    "fig.add_trace(go.Scatter(x=AQ45.index, y=AQ45['PM2.5'], name = 'AQ45', xaxis=\"x2\",yaxis = 'y2'),\n",
    "row=1, col=1)\n",
    "#fig.add_trace(go.Scatter(x=AQ46.index, y=AQ46['PM2.5'], name = 'AQ46', xaxis=\"x2\",yaxis = 'y2'),\n",
    "#row=1, col=1)\n",
    "#fig.add_trace(go.Scatter(x=AQ47.index, y=AQ47['PM2.5'], name = 'AQ47', xaxis=\"x2\",yaxis = 'y2'),\n",
    "#row=1, col=1)\n",
    "#fig.add_trace(go.Scatter(x=AQ49.index, y=AQ49['PM2.5'], name = 'AQ49', xaxis=\"x2\",yaxis = 'y2'),\n",
    "#row=1, col=1)\n",
    "#fig.add_trace(go.Scatter(x=AQ50.index, y=AQ50['PM2.5'], name = 'AQ50', xaxis=\"x2\",yaxis = 'y2'),\n",
    "#row=1, col=1)\n",
    "\n",
    "\n",
    "\n",
    "\n",
    "\n",
    "\n",
    "\n",
    "fig.update_layout(height=600, width=1000,\n",
    "title_text=\"1 Week Avg of PM2.5 February\")\n",
    "\n",
    "\n",
    "\n",
    "\n",
    "\n",
    "# Create axis objects\n",
    "fig.update_layout(\n",
    "xaxis1=dict(title =\"Timestamp\",domain=[0.8, 0.7]),\n",
    "\n",
    "yaxis1=dict(title=\"PM2.5\"),\n",
    "\n",
    "\n",
    ")\n",
    "\n",
    "\n",
    "\n",
    "# Update layout properties\n",
    "fig.update_layout(\n",
    "title_text=\"1 Week Avg of PM2.5 February\",\n",
    "width=800,\n",
    ")\n",
    "\n",
    "\n",
    "\n",
    "\n",
    "fig.write_html(\"February_1Week_pm25.html\")"
   ]
  },
  {
   "cell_type": "code",
   "execution_count": 33,
   "metadata": {},
   "outputs": [],
   "source": [
    "fig = make_subplots(rows=1, cols=1,\n",
    "shared_xaxes=True,\n",
    "vertical_spacing=0.01)\n",
    "\n",
    "\n",
    "\n",
    "#fig.add_trace(go.Scatter(x=AQ12.index, y=AQ12['Temperature'], name = 'AQ12', xaxis=\"x2\",yaxis = 'y2'),\n",
    "#row=1, col=1)\n",
    "fig.add_trace(go.Scatter(x=AQ13.index, y=AQ13['Temperature'], name = 'AQ13', xaxis=\"x2\",yaxis = 'y2'),\n",
    "row=1, col=1)\n",
    "fig.add_trace(go.Scatter(x=AQ14.index, y=AQ14['Temperature'], name = 'AQ14', xaxis=\"x2\",yaxis = 'y2'),\n",
    "row=1, col=1)\n",
    "fig.add_trace(go.Scatter(x=AQ15.index, y=AQ15['Temperature'], name = 'AQ15', xaxis=\"x2\",yaxis = 'y2'),\n",
    "row=1, col=1)\n",
    "fig.add_trace(go.Scatter(x=AQ16.index, y=AQ16['Temperature'], name = 'AQ16', xaxis=\"x2\",yaxis = 'y2'),\n",
    "row=1, col=1)\n",
    "fig.add_trace(go.Scatter(x=AQ17.index, y=AQ17['Temperature'], name = 'AQ17', xaxis=\"x2\",yaxis = 'y2'),\n",
    "row=1, col=1)\n",
    "fig.add_trace(go.Scatter(x=AQ18.index, y=AQ18['Temperature'], name = 'AQ18', xaxis=\"x2\",yaxis = 'y2'),\n",
    "row=1, col=1)\n",
    "fig.add_trace(go.Scatter(x=AQ19.index, y=AQ19['Temperature'], name = 'AQ19', xaxis=\"x2\",yaxis = 'y2'),\n",
    "row=1, col=1)\n",
    "#fig.add_trace(go.Scatter(x=AQ20.index, y=AQ20['Temperature'], name = 'AQ20', xaxis=\"x2\",yaxis = 'y2'),\n",
    "#row=1, col=1)\n",
    "fig.add_trace(go.Scatter(x=AQ21.index, y=AQ21['Temperature'], name = 'AQ21', xaxis=\"x2\",yaxis = 'y2'),\n",
    "row=1, col=1)\n",
    "fig.add_trace(go.Scatter(x=AQ22.index, y=AQ22['Temperature'], name = 'AQ22', xaxis=\"x2\",yaxis = 'y2'),\n",
    "row=1, col=1)\n",
    "fig.add_trace(go.Scatter(x=AQ23.index, y=AQ23['Temperature'], name = 'AQ23', xaxis=\"x2\",yaxis = 'y2'),\n",
    "row=1, col=1)\n",
    "fig.add_trace(go.Scatter(x=AQ24.index, y=AQ24['Temperature'], name = 'AQ24', xaxis=\"x2\",yaxis = 'y2'),\n",
    "row=1, col=1)\n",
    "fig.add_trace(go.Scatter(x=AQ25.index, y=AQ25['Temperature'], name = 'AQ25', xaxis=\"x2\",yaxis = 'y2'),\n",
    "row=1, col=1)\n",
    "#fig.add_trace(go.Scatter(x=AQ26.index, y=AQ26['Temperature'], name = 'AQ26', xaxis=\"x2\",yaxis = 'y2'),\n",
    "#row=1, col=1)\n",
    "fig.add_trace(go.Scatter(x=AQ30.index, y=AQ30['Temperature'], name = 'AQ30', xaxis=\"x2\",yaxis = 'y2'),\n",
    "row=1, col=1)\n",
    "fig.add_trace(go.Scatter(x=AQ31.index, y=AQ31['Temperature'], name = 'AQ31', xaxis=\"x2\",yaxis = 'y2'),\n",
    "row=1, col=1)\n",
    "fig.add_trace(go.Scatter(x=AQ32.index, y=AQ32['Temperature'], name = 'AQ32', xaxis=\"x2\",yaxis = 'y2'),\n",
    "row=1, col=1)\n",
    "fig.add_trace(go.Scatter(x=AQ33.index, y=AQ33['Temperature'], name = 'AQ33', xaxis=\"x2\",yaxis = 'y2'),\n",
    "row=1, col=1)\n",
    "fig.add_trace(go.Scatter(x=AQ34.index, y=AQ34['Temperature'], name = 'AQ34', xaxis=\"x2\",yaxis = 'y2'),\n",
    "row=1, col=1)\n",
    "fig.add_trace(go.Scatter(x=AQ35.index, y=AQ35['Temperature'], name = 'AQ35', xaxis=\"x2\",yaxis = 'y2'),\n",
    "row=1, col=1)\n",
    "fig.add_trace(go.Scatter(x=AQ36.index, y=AQ36['Temperature'], name = 'AQ36', xaxis=\"x2\",yaxis = 'y2'),\n",
    "row=1, col=1)\n",
    "fig.add_trace(go.Scatter(x=AQ37.index, y=AQ37['Temperature'], name = 'AQ37', xaxis=\"x2\",yaxis = 'y2'),\n",
    "row=1, col=1)\n",
    "fig.add_trace(go.Scatter(x=AQ38.index, y=AQ38['Temperature'], name = 'AQ38', xaxis=\"x2\",yaxis = 'y2'),\n",
    "row=1, col=1)\n",
    "fig.add_trace(go.Scatter(x=AQ39.index, y=AQ39['Temperature'], name = 'AQ39', xaxis=\"x2\",yaxis = 'y2'),\n",
    "row=1, col=1)\n",
    "fig.add_trace(go.Scatter(x=AQ40.index, y=AQ40['Temperature'], name = 'AQ40', xaxis=\"x2\",yaxis = 'y2'),\n",
    "row=1, col=1)\n",
    "fig.add_trace(go.Scatter(x=AQ41.index, y=AQ41['Temperature'], name = 'AQ41', xaxis=\"x2\",yaxis = 'y2'),\n",
    "row=1, col=1)\n",
    "#fig.add_trace(go.Scatter(x=AQ42.index, y=AQ42['Temperature'], name = 'AQ42', xaxis=\"x2\",yaxis = 'y2'),\n",
    "#row=1, col=1)\n",
    "fig.add_trace(go.Scatter(x=AQ43.index, y=AQ43['Temperature'], name = 'AQ43', xaxis=\"x2\",yaxis = 'y2'),\n",
    "row=1, col=1)\n",
    "#fig.add_trace(go.Scatter(x=AQ44.index, y=AQ44['Temperature'], name = 'AQ44', xaxis=\"x2\",yaxis = 'y2'),\n",
    "#row=1, col=1)\n",
    "fig.add_trace(go.Scatter(x=AQ45.index, y=AQ45['Temperature'], name = 'AQ45', xaxis=\"x2\",yaxis = 'y2'),\n",
    "row=1, col=1)\n",
    "#fig.add_trace(go.Scatter(x=AQ46.index, y=AQ46['Temperature'], name = 'AQ46', xaxis=\"x2\",yaxis = 'y2'),\n",
    "#row=1, col=1)\n",
    "#fig.add_trace(go.Scatter(x=AQ47.index, y=AQ47['Temperature'], name = 'AQ47', xaxis=\"x2\",yaxis = 'y2'),\n",
    "#row=1, col=1)\n",
    "#fig.add_trace(go.Scatter(x=AQ49.index, y=AQ49['Temperature'], name = 'AQ49', xaxis=\"x2\",yaxis = 'y2'),\n",
    "#row=1, col=1)\n",
    "#fig.add_trace(go.Scatter(x=AQ50.index, y=AQ50['Temperature'], name = 'AQ50', xaxis=\"x2\",yaxis = 'y2'),\n",
    "#row=1, col=1)\n",
    "\n",
    "\n",
    "\n",
    "\n",
    "\n",
    "\n",
    "\n",
    "fig.update_layout(height=600, width=1000,\n",
    "title_text=\"1 Week Avg of Temperature February\")\n",
    "\n",
    "\n",
    "\n",
    "\n",
    "\n",
    "# Create axis objects\n",
    "fig.update_layout(\n",
    "xaxis1=dict(title =\"Timestamp\",domain=[0.8, 0.7]),\n",
    "\n",
    "yaxis1=dict(title='Temperature'),\n",
    "\n",
    "\n",
    ")\n",
    "\n",
    "\n",
    "\n",
    "# Update layout properties\n",
    "fig.update_layout(\n",
    "title_text=\"1 Week Avg of Temperature February\",\n",
    "width=800,\n",
    ")\n",
    "\n",
    "\n",
    "\n",
    "\n",
    "fig.write_html(\"February_1Week_Temperature.html\")"
   ]
  },
  {
   "cell_type": "code",
   "execution_count": 34,
   "metadata": {},
   "outputs": [],
   "source": [
    "fig = make_subplots(rows=1, cols=1,\n",
    "shared_xaxes=True,\n",
    "vertical_spacing=0.01)\n",
    "\n",
    "\n",
    "\n",
    "#fig.add_trace(go.Scatter(x=AQ12.index, y=AQ12['RH'], name = 'AQ12', xaxis=\"x2\",yaxis = 'y2'),\n",
    "#row=1, col=1)\n",
    "fig.add_trace(go.Scatter(x=AQ13.index, y=AQ13['RH'], name = 'AQ13', xaxis=\"x2\",yaxis = 'y2'),\n",
    "row=1, col=1)\n",
    "fig.add_trace(go.Scatter(x=AQ14.index, y=AQ14['RH'], name = 'AQ14', xaxis=\"x2\",yaxis = 'y2'),\n",
    "row=1, col=1)\n",
    "fig.add_trace(go.Scatter(x=AQ15.index, y=AQ15['RH'], name = 'AQ15', xaxis=\"x2\",yaxis = 'y2'),\n",
    "row=1, col=1)\n",
    "fig.add_trace(go.Scatter(x=AQ16.index, y=AQ16['RH'], name = 'AQ16', xaxis=\"x2\",yaxis = 'y2'),\n",
    "row=1, col=1)\n",
    "fig.add_trace(go.Scatter(x=AQ17.index, y=AQ17['RH'], name = 'AQ17', xaxis=\"x2\",yaxis = 'y2'),\n",
    "row=1, col=1)\n",
    "fig.add_trace(go.Scatter(x=AQ18.index, y=AQ18['RH'], name = 'AQ18', xaxis=\"x2\",yaxis = 'y2'),\n",
    "row=1, col=1)\n",
    "fig.add_trace(go.Scatter(x=AQ19.index, y=AQ19['RH'], name = 'AQ19', xaxis=\"x2\",yaxis = 'y2'),\n",
    "row=1, col=1)\n",
    "#fig.add_trace(go.Scatter(x=AQ20.index, y=AQ20['RH'], name = 'AQ20', xaxis=\"x2\",yaxis = 'y2'),\n",
    "#row=1, col=1)\n",
    "fig.add_trace(go.Scatter(x=AQ21.index, y=AQ21['RH'], name = 'AQ21', xaxis=\"x2\",yaxis = 'y2'),\n",
    "row=1, col=1)\n",
    "fig.add_trace(go.Scatter(x=AQ22.index, y=AQ22['RH'], name = 'AQ22', xaxis=\"x2\",yaxis = 'y2'),\n",
    "row=1, col=1)\n",
    "fig.add_trace(go.Scatter(x=AQ23.index, y=AQ23['RH'], name = 'AQ23', xaxis=\"x2\",yaxis = 'y2'),\n",
    "row=1, col=1)\n",
    "fig.add_trace(go.Scatter(x=AQ24.index, y=AQ24['RH'], name = 'AQ24', xaxis=\"x2\",yaxis = 'y2'),\n",
    "row=1, col=1)\n",
    "fig.add_trace(go.Scatter(x=AQ25.index, y=AQ25['RH'], name = 'AQ25', xaxis=\"x2\",yaxis = 'y2'),\n",
    "row=1, col=1)\n",
    "#fig.add_trace(go.Scatter(x=AQ26.index, y=AQ26['RH'], name = 'AQ26', xaxis=\"x2\",yaxis = 'y2'),\n",
    "#row=1, col=1)\n",
    "fig.add_trace(go.Scatter(x=AQ30.index, y=AQ30['RH'], name = 'AQ30', xaxis=\"x2\",yaxis = 'y2'),\n",
    "row=1, col=1)\n",
    "fig.add_trace(go.Scatter(x=AQ31.index, y=AQ31['RH'], name = 'AQ31', xaxis=\"x2\",yaxis = 'y2'),\n",
    "row=1, col=1)\n",
    "fig.add_trace(go.Scatter(x=AQ32.index, y=AQ32['RH'], name = 'AQ32', xaxis=\"x2\",yaxis = 'y2'),\n",
    "row=1, col=1)\n",
    "fig.add_trace(go.Scatter(x=AQ33.index, y=AQ33['RH'], name = 'AQ33', xaxis=\"x2\",yaxis = 'y2'),\n",
    "row=1, col=1)\n",
    "fig.add_trace(go.Scatter(x=AQ34.index, y=AQ34['RH'], name = 'AQ34', xaxis=\"x2\",yaxis = 'y2'),\n",
    "row=1, col=1)\n",
    "fig.add_trace(go.Scatter(x=AQ35.index, y=AQ35['RH'], name = 'AQ35', xaxis=\"x2\",yaxis = 'y2'),\n",
    "row=1, col=1)\n",
    "fig.add_trace(go.Scatter(x=AQ36.index, y=AQ36['RH'], name = 'AQ36', xaxis=\"x2\",yaxis = 'y2'),\n",
    "row=1, col=1)\n",
    "fig.add_trace(go.Scatter(x=AQ37.index, y=AQ37['RH'], name = 'AQ37', xaxis=\"x2\",yaxis = 'y2'),\n",
    "row=1, col=1)\n",
    "fig.add_trace(go.Scatter(x=AQ38.index, y=AQ38['RH'], name = 'AQ38', xaxis=\"x2\",yaxis = 'y2'),\n",
    "row=1, col=1)\n",
    "fig.add_trace(go.Scatter(x=AQ39.index, y=AQ39['RH'], name = 'AQ39', xaxis=\"x2\",yaxis = 'y2'),\n",
    "row=1, col=1)\n",
    "fig.add_trace(go.Scatter(x=AQ40.index, y=AQ40['RH'], name = 'AQ40', xaxis=\"x2\",yaxis = 'y2'),\n",
    "row=1, col=1)\n",
    "fig.add_trace(go.Scatter(x=AQ41.index, y=AQ41['RH'], name = 'AQ41', xaxis=\"x2\",yaxis = 'y2'),#\n",
    "row=1, col=1)\n",
    "#fig.add_trace(go.Scatter(x=AQ42.index, y=AQ42['RH'], name = 'AQ42', xaxis=\"x2\",yaxis = 'y2'),\n",
    "#row=1, col=1#)\n",
    "fig.add_trace(go.Scatter(x=AQ43.index, y=AQ43['RH'], name = 'AQ43', xaxis=\"x2\",yaxis = 'y2'),\n",
    "row=1, col=1)\n",
    "#fig.add_trace(go.Scatter(x=AQ44.index, y=AQ44['RH'], name = 'AQ44', xaxis=\"x2\",yaxis = 'y2'),\n",
    "#row=1, col=1)\n",
    "fig.add_trace(go.Scatter(x=AQ45.index, y=AQ45['RH'], name = 'AQ45', xaxis=\"x2\",yaxis = 'y2'),\n",
    "row=1, col=1)\n",
    "#fig.add_trace(go.Scatter(x=AQ46.index, y=AQ46['RH'], name = 'AQ46', xaxis=\"x2\",yaxis = 'y2'),\n",
    "#row=1, col=1)\n",
    "#fig.add_trace(go.Scatter(x=AQ47.index, y=AQ47['RH'], name = 'AQ47', xaxis=\"x2\",yaxis = 'y2'),\n",
    "#row=1, col=1)\n",
    "#fig.add_trace(go.Scatter(x=AQ49.index, y=AQ49['RH'], name = 'AQ49', xaxis=\"x2\",yaxis = 'y2'),\n",
    "#row=1, col=1)\n",
    "#fig.add_trace(go.Scatter(x=AQ50.index, y=AQ50['RH'], name = 'AQ50', xaxis=\"x2\",yaxis = 'y2'),\n",
    "#row=1, col=1)\n",
    "\n",
    "\n",
    "\n",
    "\n",
    "\n",
    "\n",
    "\n",
    "fig.update_layout(height=600, width=1000,\n",
    "title_text=\"1 Week Avg of RH February\")\n",
    "\n",
    "\n",
    "\n",
    "\n",
    "\n",
    "# Create axis objects\n",
    "fig.update_layout(\n",
    "xaxis1=dict(title =\"Timestamp\",domain=[0.8, 0.7]),\n",
    "\n",
    "yaxis1=dict(title='RH'),\n",
    "\n",
    "\n",
    ")\n",
    "\n",
    "\n",
    "\n",
    "# Update layout properties\n",
    "fig.update_layout(\n",
    "title_text=\"1 Week Avg of RH February\",\n",
    "width=800,\n",
    ")\n",
    "\n",
    "\n",
    "\n",
    "\n",
    "fig.write_html(\"February_1Week_RH.html\")"
   ]
  },
  {
   "cell_type": "code",
   "execution_count": null,
   "metadata": {},
   "outputs": [],
   "source": []
  }
 ],
 "metadata": {
  "kernelspec": {
   "display_name": "Python 3",
   "language": "python",
   "name": "python3"
  },
  "language_info": {
   "codemirror_mode": {
    "name": "ipython",
    "version": 3
   },
   "file_extension": ".py",
   "mimetype": "text/x-python",
   "name": "python",
   "nbconvert_exporter": "python",
   "pygments_lexer": "ipython3",
   "version": "3.8.5"
  }
 },
 "nbformat": 4,
 "nbformat_minor": 4
}
