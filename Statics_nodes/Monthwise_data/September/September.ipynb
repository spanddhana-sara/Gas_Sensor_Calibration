{
 "cells": [
  {
   "cell_type": "code",
   "execution_count": 1,
   "metadata": {},
   "outputs": [],
   "source": [
    "from datetime import datetime\n",
    "from pytz import timezone\n",
    "import pandas as pd\n",
    "import matplotlib.pyplot as plt\n",
    "import plotly.express as px\n",
    "from plotly.subplots import make_subplots\n",
    "import plotly.graph_objects as go\n",
    "import numpy as np\n",
    "from scipy.stats import pearsonr\n",
    "from sklearn.metrics import r2_score\n",
    "from sklearn import linear_model\n",
    "from sklearn.metrics import mean_absolute_error\n",
    "from sklearn.metrics import mean_squared_error\n",
    "import seaborn as sns\n",
    "# import OS module\n",
    "import os\n",
    "\n",
    "import time\n",
    "import io\n",
    "import requests\n"
   ]
  },
  {
   "cell_type": "code",
   "execution_count": 29,
   "metadata": {},
   "outputs": [],
   "source": [
    "\n",
    "AQ13 = pd.read_csv('AQ13_sept.csv', parse_dates = ['created_at'])\n",
    "AQ14 = pd.read_csv('AQ14_sept.csv', parse_dates = ['created_at'])\n",
    "AQ15 = pd.read_csv('AQ15_sept.csv', parse_dates = ['created_at'])\n",
    "AQ16 = pd.read_csv('AQ16_sept.csv', parse_dates = ['created_at'])\n",
    "AQ17 = pd.read_csv('AQ17_sept.csv', parse_dates = ['created_at'])\n",
    "AQ18 = pd.read_csv('AQ18_sept.csv', parse_dates = ['created_at'])\n",
    "AQ19 = pd.read_csv('AQ19_sept.csv', parse_dates = ['created_at'])\n",
    "AQ21 = pd.read_csv('AQ21_sept.csv', parse_dates = ['created_at'])\n",
    "AQ22 = pd.read_csv('AQ22_sept.csv', parse_dates = ['created_at'])\n",
    "AQ23 = pd.read_csv('AQ23_sept.csv', parse_dates = ['created_at'])\n",
    "AQ24 = pd.read_csv('AQ24_sept.csv', parse_dates = ['created_at'])\n",
    "AQ25 = pd.read_csv('AQ25_sept.csv', parse_dates = ['created_at'])\n",
    "AQ26 = pd.read_csv('AQ26_sept.csv', parse_dates = ['created_at'])\n",
    "AQ30 = pd.read_csv('AQ30_sept.csv', parse_dates = ['created_at'])\n",
    "AQ31 = pd.read_csv('AQ31_sept.csv', parse_dates = ['created_at'])\n",
    "AQ32 = pd.read_csv('AQ32_sept.csv', parse_dates = ['created_at'])\n",
    "AQ33 = pd.read_csv('AQ33_sept.csv', parse_dates = ['created_at'])\n",
    "AQ34 = pd.read_csv('AQ34_sept.csv', parse_dates = ['created_at'])\n",
    "AQ35 = pd.read_csv('AQ35_sept.csv', parse_dates = ['created_at'])\n",
    "AQ36 = pd.read_csv('AQ36_sept.csv', parse_dates = ['created_at'])\n",
    "AQ37 = pd.read_csv('AQ37_sept.csv', parse_dates = ['created_at'])\n",
    "AQ38 = pd.read_csv('AQ38_sept.csv', parse_dates = ['created_at'])\n",
    "AQ39 = pd.read_csv('AQ39_sept.csv', parse_dates = ['created_at'])\n",
    "AQ40 = pd.read_csv('AQ40_sept.csv', parse_dates = ['created_at'])\n",
    "AQ41 = pd.read_csv('AQ41_sept.csv', parse_dates = ['created_at'])\n",
    "AQ42 = pd.read_csv('AQ42_sept.csv', parse_dates = ['created_at'])\n",
    "AQ43 = pd.read_csv('AQ43_sept.csv', parse_dates = ['created_at'])\n",
    "AQ44 = pd.read_csv('AQ44_sept.csv', parse_dates = ['created_at'])\n",
    "AQ45 = pd.read_csv('AQ45_sept.csv', parse_dates = ['created_at'])\n",
    "AQ46 = pd.read_csv('AQ46_sept.csv', parse_dates = ['created_at'])\n",
    "AQ47 = pd.read_csv('AQ47_sept.csv', parse_dates = ['created_at'])\n",
    "AQ49 = pd.read_csv('AQ49_sept.csv', parse_dates = ['created_at'])\n",
    "\n"
   ]
  },
  {
   "cell_type": "code",
   "execution_count": 4,
   "metadata": {},
   "outputs": [
    {
     "data": {
      "text/html": [
       "<div>\n",
       "<style scoped>\n",
       "    .dataframe tbody tr th:only-of-type {\n",
       "        vertical-align: middle;\n",
       "    }\n",
       "\n",
       "    .dataframe tbody tr th {\n",
       "        vertical-align: top;\n",
       "    }\n",
       "\n",
       "    .dataframe thead th {\n",
       "        text-align: right;\n",
       "    }\n",
       "</style>\n",
       "<table border=\"1\" class=\"dataframe\">\n",
       "  <thead>\n",
       "    <tr style=\"text-align: right;\">\n",
       "      <th></th>\n",
       "      <th>created_at</th>\n",
       "      <th>entry_id</th>\n",
       "      <th>field1</th>\n",
       "      <th>field2</th>\n",
       "      <th>field3</th>\n",
       "      <th>field4</th>\n",
       "      <th>field5</th>\n",
       "      <th>field6</th>\n",
       "      <th>field7</th>\n",
       "    </tr>\n",
       "  </thead>\n",
       "  <tbody>\n",
       "    <tr>\n",
       "      <th>0</th>\n",
       "      <td>2021-09-21 13:01:00+05:30</td>\n",
       "      <td>287305</td>\n",
       "      <td>6.4</td>\n",
       "      <td>4.0</td>\n",
       "      <td>56.19</td>\n",
       "      <td>33.29</td>\n",
       "      <td>NaN</td>\n",
       "      <td>NaN</td>\n",
       "      <td>NaN</td>\n",
       "    </tr>\n",
       "    <tr>\n",
       "      <th>1</th>\n",
       "      <td>2021-09-21 13:01:30+05:30</td>\n",
       "      <td>287306</td>\n",
       "      <td>7.2</td>\n",
       "      <td>4.4</td>\n",
       "      <td>55.75</td>\n",
       "      <td>33.46</td>\n",
       "      <td>NaN</td>\n",
       "      <td>NaN</td>\n",
       "      <td>NaN</td>\n",
       "    </tr>\n",
       "    <tr>\n",
       "      <th>2</th>\n",
       "      <td>2021-09-21 13:02:00+05:30</td>\n",
       "      <td>287307</td>\n",
       "      <td>6.8</td>\n",
       "      <td>4.4</td>\n",
       "      <td>55.33</td>\n",
       "      <td>33.64</td>\n",
       "      <td>NaN</td>\n",
       "      <td>NaN</td>\n",
       "      <td>NaN</td>\n",
       "    </tr>\n",
       "    <tr>\n",
       "      <th>3</th>\n",
       "      <td>2021-09-21 13:02:30+05:30</td>\n",
       "      <td>287308</td>\n",
       "      <td>6.9</td>\n",
       "      <td>4.5</td>\n",
       "      <td>54.86</td>\n",
       "      <td>33.78</td>\n",
       "      <td>NaN</td>\n",
       "      <td>NaN</td>\n",
       "      <td>NaN</td>\n",
       "    </tr>\n",
       "    <tr>\n",
       "      <th>4</th>\n",
       "      <td>2021-09-21 13:03:00+05:30</td>\n",
       "      <td>287309</td>\n",
       "      <td>8.3</td>\n",
       "      <td>3.9</td>\n",
       "      <td>54.47</td>\n",
       "      <td>33.94</td>\n",
       "      <td>NaN</td>\n",
       "      <td>NaN</td>\n",
       "      <td>NaN</td>\n",
       "    </tr>\n",
       "    <tr>\n",
       "      <th>...</th>\n",
       "      <td>...</td>\n",
       "      <td>...</td>\n",
       "      <td>...</td>\n",
       "      <td>...</td>\n",
       "      <td>...</td>\n",
       "      <td>...</td>\n",
       "      <td>...</td>\n",
       "      <td>...</td>\n",
       "      <td>...</td>\n",
       "    </tr>\n",
       "    <tr>\n",
       "      <th>27182</th>\n",
       "      <td>2021-09-30 23:57:30+05:30</td>\n",
       "      <td>314487</td>\n",
       "      <td>6.4</td>\n",
       "      <td>5.5</td>\n",
       "      <td>56.02</td>\n",
       "      <td>33.27</td>\n",
       "      <td>NaN</td>\n",
       "      <td>NaN</td>\n",
       "      <td>NaN</td>\n",
       "    </tr>\n",
       "    <tr>\n",
       "      <th>27183</th>\n",
       "      <td>2021-09-30 23:58:00+05:30</td>\n",
       "      <td>314488</td>\n",
       "      <td>7.5</td>\n",
       "      <td>5.6</td>\n",
       "      <td>56.02</td>\n",
       "      <td>33.27</td>\n",
       "      <td>NaN</td>\n",
       "      <td>NaN</td>\n",
       "      <td>NaN</td>\n",
       "    </tr>\n",
       "    <tr>\n",
       "      <th>27184</th>\n",
       "      <td>2021-09-30 23:58:30+05:30</td>\n",
       "      <td>314489</td>\n",
       "      <td>8.0</td>\n",
       "      <td>5.7</td>\n",
       "      <td>56.02</td>\n",
       "      <td>33.28</td>\n",
       "      <td>NaN</td>\n",
       "      <td>NaN</td>\n",
       "      <td>NaN</td>\n",
       "    </tr>\n",
       "    <tr>\n",
       "      <th>27185</th>\n",
       "      <td>2021-09-30 23:59:00+05:30</td>\n",
       "      <td>314490</td>\n",
       "      <td>8.5</td>\n",
       "      <td>5.6</td>\n",
       "      <td>55.99</td>\n",
       "      <td>33.28</td>\n",
       "      <td>NaN</td>\n",
       "      <td>NaN</td>\n",
       "      <td>NaN</td>\n",
       "    </tr>\n",
       "    <tr>\n",
       "      <th>27186</th>\n",
       "      <td>2021-09-30 23:59:30+05:30</td>\n",
       "      <td>314491</td>\n",
       "      <td>7.8</td>\n",
       "      <td>5.8</td>\n",
       "      <td>55.99</td>\n",
       "      <td>33.28</td>\n",
       "      <td>NaN</td>\n",
       "      <td>NaN</td>\n",
       "      <td>NaN</td>\n",
       "    </tr>\n",
       "  </tbody>\n",
       "</table>\n",
       "<p>27187 rows × 9 columns</p>\n",
       "</div>"
      ],
      "text/plain": [
       "                     created_at  entry_id  field1  field2  field3  field4  \\\n",
       "0     2021-09-21 13:01:00+05:30    287305     6.4     4.0   56.19   33.29   \n",
       "1     2021-09-21 13:01:30+05:30    287306     7.2     4.4   55.75   33.46   \n",
       "2     2021-09-21 13:02:00+05:30    287307     6.8     4.4   55.33   33.64   \n",
       "3     2021-09-21 13:02:30+05:30    287308     6.9     4.5   54.86   33.78   \n",
       "4     2021-09-21 13:03:00+05:30    287309     8.3     3.9   54.47   33.94   \n",
       "...                         ...       ...     ...     ...     ...     ...   \n",
       "27182 2021-09-30 23:57:30+05:30    314487     6.4     5.5   56.02   33.27   \n",
       "27183 2021-09-30 23:58:00+05:30    314488     7.5     5.6   56.02   33.27   \n",
       "27184 2021-09-30 23:58:30+05:30    314489     8.0     5.7   56.02   33.28   \n",
       "27185 2021-09-30 23:59:00+05:30    314490     8.5     5.6   55.99   33.28   \n",
       "27186 2021-09-30 23:59:30+05:30    314491     7.8     5.8   55.99   33.28   \n",
       "\n",
       "       field5  field6  field7  \n",
       "0         NaN     NaN     NaN  \n",
       "1         NaN     NaN     NaN  \n",
       "2         NaN     NaN     NaN  \n",
       "3         NaN     NaN     NaN  \n",
       "4         NaN     NaN     NaN  \n",
       "...       ...     ...     ...  \n",
       "27182     NaN     NaN     NaN  \n",
       "27183     NaN     NaN     NaN  \n",
       "27184     NaN     NaN     NaN  \n",
       "27185     NaN     NaN     NaN  \n",
       "27186     NaN     NaN     NaN  \n",
       "\n",
       "[27187 rows x 9 columns]"
      ]
     },
     "execution_count": 4,
     "metadata": {},
     "output_type": "execute_result"
    }
   ],
   "source": [
    "AQ13"
   ]
  },
  {
   "cell_type": "code",
   "execution_count": 3,
   "metadata": {},
   "outputs": [],
   "source": [
    "# FUNCTION TO REMOVE TIMEZONE\n",
    "def remove_timezone(dt):\n",
    "   \n",
    "    # HERE `dt` is a python datetime\n",
    "    # object that used .replace() method\n",
    "    return dt.replace(tzinfo=None)\n",
    "\n",
    "def renaming_columns_avg(df1, avg = 'T'):\n",
    "    \n",
    "    df1['created_at'] = df1['created_at'].apply(remove_timezone)\n",
    "    df1.set_index(\"created_at\", inplace = True)\n",
    "    df1 = df1.resample(avg, label='right', closed='right').mean().round(3)\n",
    "    df1 = df1.dropna(axis=1, how='all')\n",
    "    df1 = df1.drop(['entry_id'], axis = 1)\n",
    "    df1 = df1.rename(columns = {'field1': 'PM10','field2':'PM2.5','field3':'RH','field4':'Temperature'})\n",
    "    \n",
    "    \n",
    "    return df1"
   ]
  },
  {
   "cell_type": "markdown",
   "metadata": {},
   "source": [
    "## 1 Minute Average"
   ]
  },
  {
   "cell_type": "code",
   "execution_count": 5,
   "metadata": {},
   "outputs": [],
   "source": [
    "\n",
    "AQ13 = renaming_columns_avg(AQ13)\n",
    "AQ14 = renaming_columns_avg(AQ14)\n",
    "AQ15 = renaming_columns_avg(AQ15)\n",
    "AQ16 = renaming_columns_avg(AQ16)\n",
    "AQ17 = renaming_columns_avg(AQ17)\n",
    "AQ18 = renaming_columns_avg(AQ18)\n",
    "AQ19 = renaming_columns_avg(AQ19)\n",
    "AQ21 = renaming_columns_avg(AQ21)\n",
    "AQ22 = renaming_columns_avg(AQ22)\n",
    "AQ23 = renaming_columns_avg(AQ23)\n",
    "AQ24 = renaming_columns_avg(AQ24)\n",
    "AQ25 = renaming_columns_avg(AQ25)\n",
    "AQ26 = renaming_columns_avg(AQ26)\n",
    "AQ30 = renaming_columns_avg(AQ30)\n",
    "AQ31 = renaming_columns_avg(AQ31)\n",
    "AQ32 = renaming_columns_avg(AQ32)\n",
    "AQ33 = renaming_columns_avg(AQ33)\n",
    "AQ34 = renaming_columns_avg(AQ34)\n",
    "AQ35 = renaming_columns_avg(AQ35)\n",
    "AQ36 = renaming_columns_avg(AQ36)\n",
    "AQ37 = renaming_columns_avg(AQ37)\n",
    "AQ38 = renaming_columns_avg(AQ38)\n",
    "AQ39 = renaming_columns_avg(AQ39)\n",
    "AQ40 = renaming_columns_avg(AQ40)\n",
    "AQ41 = renaming_columns_avg(AQ41)\n",
    "AQ42 = renaming_columns_avg(AQ42)\n",
    "AQ43 = renaming_columns_avg(AQ43)\n",
    "AQ44 = renaming_columns_avg(AQ44)\n",
    "AQ45 = renaming_columns_avg(AQ45)\n",
    "AQ46 = renaming_columns_avg(AQ46)\n",
    "AQ47 = renaming_columns_avg(AQ47)\n",
    "AQ49 = renaming_columns_avg(AQ49)\n",
    "\n"
   ]
  },
  {
   "cell_type": "code",
   "execution_count": 9,
   "metadata": {},
   "outputs": [
    {
     "data": {
      "text/html": [
       "<div>\n",
       "<style scoped>\n",
       "    .dataframe tbody tr th:only-of-type {\n",
       "        vertical-align: middle;\n",
       "    }\n",
       "\n",
       "    .dataframe tbody tr th {\n",
       "        vertical-align: top;\n",
       "    }\n",
       "\n",
       "    .dataframe thead th {\n",
       "        text-align: right;\n",
       "    }\n",
       "</style>\n",
       "<table border=\"1\" class=\"dataframe\">\n",
       "  <thead>\n",
       "    <tr style=\"text-align: right;\">\n",
       "      <th></th>\n",
       "    </tr>\n",
       "    <tr>\n",
       "      <th>created_at</th>\n",
       "    </tr>\n",
       "  </thead>\n",
       "  <tbody>\n",
       "    <tr>\n",
       "      <th>2021-09-14 11:14:00</th>\n",
       "    </tr>\n",
       "    <tr>\n",
       "      <th>2021-09-14 11:15:00</th>\n",
       "    </tr>\n",
       "    <tr>\n",
       "      <th>2021-09-14 11:16:00</th>\n",
       "    </tr>\n",
       "    <tr>\n",
       "      <th>2021-09-14 11:17:00</th>\n",
       "    </tr>\n",
       "    <tr>\n",
       "      <th>2021-09-14 11:18:00</th>\n",
       "    </tr>\n",
       "    <tr>\n",
       "      <th>2021-09-14 11:19:00</th>\n",
       "    </tr>\n",
       "    <tr>\n",
       "      <th>2021-09-14 11:20:00</th>\n",
       "    </tr>\n",
       "    <tr>\n",
       "      <th>2021-09-14 11:21:00</th>\n",
       "    </tr>\n",
       "    <tr>\n",
       "      <th>2021-09-14 11:22:00</th>\n",
       "    </tr>\n",
       "    <tr>\n",
       "      <th>2021-09-14 11:23:00</th>\n",
       "    </tr>\n",
       "    <tr>\n",
       "      <th>2021-09-14 11:24:00</th>\n",
       "    </tr>\n",
       "    <tr>\n",
       "      <th>2021-09-14 11:25:00</th>\n",
       "    </tr>\n",
       "    <tr>\n",
       "      <th>2021-09-14 11:26:00</th>\n",
       "    </tr>\n",
       "    <tr>\n",
       "      <th>2021-09-14 11:27:00</th>\n",
       "    </tr>\n",
       "    <tr>\n",
       "      <th>2021-09-14 11:28:00</th>\n",
       "    </tr>\n",
       "    <tr>\n",
       "      <th>2021-09-14 11:29:00</th>\n",
       "    </tr>\n",
       "    <tr>\n",
       "      <th>2021-09-14 11:30:00</th>\n",
       "    </tr>\n",
       "    <tr>\n",
       "      <th>2021-09-14 11:31:00</th>\n",
       "    </tr>\n",
       "    <tr>\n",
       "      <th>2021-09-14 11:32:00</th>\n",
       "    </tr>\n",
       "  </tbody>\n",
       "</table>\n",
       "</div>"
      ],
      "text/plain": [
       "Empty DataFrame\n",
       "Columns: []\n",
       "Index: [2021-09-14 11:14:00, 2021-09-14 11:15:00, 2021-09-14 11:16:00, 2021-09-14 11:17:00, 2021-09-14 11:18:00, 2021-09-14 11:19:00, 2021-09-14 11:20:00, 2021-09-14 11:21:00, 2021-09-14 11:22:00, 2021-09-14 11:23:00, 2021-09-14 11:24:00, 2021-09-14 11:25:00, 2021-09-14 11:26:00, 2021-09-14 11:27:00, 2021-09-14 11:28:00, 2021-09-14 11:29:00, 2021-09-14 11:30:00, 2021-09-14 11:31:00, 2021-09-14 11:32:00]"
      ]
     },
     "execution_count": 9,
     "metadata": {},
     "output_type": "execute_result"
    }
   ],
   "source": [
    "AQ26"
   ]
  },
  {
   "cell_type": "code",
   "execution_count": 31,
   "metadata": {},
   "outputs": [
    {
     "data": {
      "application/vnd.plotly.v1+json": {
       "config": {
        "plotlyServerURL": "https://plot.ly"
       },
       "data": [
        {
         "name": "AQ13",
         "type": "scatter",
         "x": [
          "2021-09-26T00:00:00",
          "2021-10-03T00:00:00"
         ],
         "xaxis": "x",
         "y": [
          63.854,
          37.903
         ],
         "yaxis": "y"
        },
        {
         "name": "AQ14",
         "type": "scatter",
         "x": [
          "2021-09-05T00:00:00",
          "2021-09-12T00:00:00",
          "2021-09-19T00:00:00",
          "2021-09-26T00:00:00",
          "2021-10-03T00:00:00"
         ],
         "xaxis": "x",
         "y": [
          33.553,
          19.25,
          31.416,
          37.936,
          22.419
         ],
         "yaxis": "y"
        },
        {
         "name": "AQ15",
         "type": "scatter",
         "x": [
          "2021-09-05T00:00:00",
          "2021-09-12T00:00:00",
          "2021-09-19T00:00:00",
          "2021-09-26T00:00:00",
          "2021-10-03T00:00:00"
         ],
         "xaxis": "x",
         "y": [
          29.393,
          17.538,
          23.946,
          39.495,
          25.162
         ],
         "yaxis": "y"
        },
        {
         "name": "AQ16",
         "type": "scatter",
         "x": [
          "2021-09-05T00:00:00",
          "2021-09-12T00:00:00",
          "2021-09-19T00:00:00",
          "2021-09-26T00:00:00",
          "2021-10-03T00:00:00"
         ],
         "xaxis": "x",
         "y": [
          2.185,
          2.362,
          119.955,
          199.977,
          122.882
         ],
         "yaxis": "y"
        },
        {
         "name": "AQ17",
         "type": "scatter",
         "x": [
          "2021-09-26T00:00:00",
          "2021-10-03T00:00:00"
         ],
         "xaxis": "x",
         "y": [
          61.767,
          38.006
         ],
         "yaxis": "y"
        },
        {
         "name": "AQ18",
         "type": "scatter",
         "x": [
          "2021-09-05T00:00:00",
          "2021-09-12T00:00:00",
          "2021-09-19T00:00:00",
          "2021-09-26T00:00:00",
          "2021-10-03T00:00:00"
         ],
         "xaxis": "x",
         "y": [
          0.698,
          0.66,
          34.206,
          38.434,
          27.992
         ],
         "yaxis": "y"
        },
        {
         "name": "AQ19",
         "type": "scatter",
         "x": [
          "2021-09-05T00:00:00",
          "2021-09-12T00:00:00",
          "2021-09-19T00:00:00",
          "2021-09-26T00:00:00",
          "2021-10-03T00:00:00"
         ],
         "xaxis": "x",
         "y": [
          0.698,
          0.66,
          34.206,
          38.434,
          27.992
         ],
         "yaxis": "y"
        },
        {
         "name": "AQ21",
         "type": "scatter",
         "x": [
          "2021-09-05T00:00:00",
          "2021-09-12T00:00:00",
          "2021-09-19T00:00:00",
          "2021-09-26T00:00:00",
          "2021-10-03T00:00:00"
         ],
         "xaxis": "x",
         "y": [
          1.207,
          1.486,
          4.106,
          14.93,
          9.109
         ],
         "yaxis": "y"
        },
        {
         "name": "AQ22",
         "type": "scatter",
         "x": [
          "2021-09-05T00:00:00",
          "2021-09-12T00:00:00",
          "2021-09-19T00:00:00",
          "2021-09-26T00:00:00",
          "2021-10-03T00:00:00"
         ],
         "xaxis": "x",
         "y": [
          16.839,
          11.053,
          21.211,
          31.418,
          18.323
         ],
         "yaxis": "y"
        },
        {
         "name": "AQ23",
         "type": "scatter",
         "x": [
          "2021-09-05T00:00:00",
          "2021-09-12T00:00:00",
          "2021-09-19T00:00:00",
          "2021-09-26T00:00:00"
         ],
         "xaxis": "x",
         "y": [
          26.061,
          13.772,
          26.101,
          18.177
         ],
         "yaxis": "y"
        },
        {
         "name": "AQ24",
         "type": "scatter",
         "x": [
          "2021-09-26T00:00:00",
          "2021-10-03T00:00:00"
         ],
         "xaxis": "x",
         "y": [
          61.255,
          37.703
         ],
         "yaxis": "y"
        },
        {
         "name": "AQ25",
         "type": "scatter",
         "x": [
          "2021-09-26T00:00:00",
          "2021-10-03T00:00:00"
         ],
         "xaxis": "x",
         "y": [
          69.422,
          40.985
         ],
         "yaxis": "y"
        },
        {
         "name": "AQ30",
         "type": "scatter",
         "x": [
          "2021-09-05T00:00:00",
          "2021-09-12T00:00:00",
          "2021-09-19T00:00:00",
          "2021-09-26T00:00:00",
          "2021-10-03T00:00:00"
         ],
         "xaxis": "x",
         "y": [
          6.789,
          9.907,
          null,
          66.309,
          39.99
         ],
         "yaxis": "y"
        },
        {
         "name": "AQ31",
         "type": "scatter",
         "x": [
          "2021-09-05T00:00:00",
          "2021-09-12T00:00:00",
          "2021-09-19T00:00:00",
          "2021-09-26T00:00:00",
          "2021-10-03T00:00:00"
         ],
         "xaxis": "x",
         "y": [
          6.913,
          11.943,
          26.525,
          12.701,
          8.043
         ],
         "yaxis": "y"
        },
        {
         "name": "AQ32",
         "type": "scatter",
         "x": [
          "2021-09-05T00:00:00",
          "2021-09-12T00:00:00",
          "2021-09-19T00:00:00",
          "2021-09-26T00:00:00",
          "2021-10-03T00:00:00"
         ],
         "xaxis": "x",
         "y": [
          28.805,
          19.391,
          32.003,
          29.091,
          25.313
         ],
         "yaxis": "y"
        },
        {
         "name": "AQ33",
         "type": "scatter",
         "x": [
          "2021-09-05T00:00:00",
          "2021-09-12T00:00:00",
          "2021-09-19T00:00:00",
          "2021-09-26T00:00:00",
          "2021-10-03T00:00:00"
         ],
         "xaxis": "x",
         "y": [
          4.513,
          3.7,
          33.48,
          12.833,
          18.279
         ],
         "yaxis": "y"
        },
        {
         "name": "AQ34",
         "type": "scatter",
         "x": [
          "2021-09-05T00:00:00",
          "2021-09-12T00:00:00"
         ],
         "xaxis": "x",
         "y": [
          6.743,
          4.294
         ],
         "yaxis": "y"
        },
        {
         "name": "AQ35",
         "type": "scatter",
         "x": [
          "2021-09-19T00:00:00",
          "2021-09-26T00:00:00",
          "2021-10-03T00:00:00"
         ],
         "xaxis": "x",
         "y": [
          42.336,
          54.832,
          35.24
         ],
         "yaxis": "y"
        },
        {
         "name": "AQ36",
         "type": "scatter",
         "x": [
          "2021-09-05T00:00:00",
          "2021-09-12T00:00:00",
          "2021-09-19T00:00:00",
          "2021-09-26T00:00:00",
          "2021-10-03T00:00:00"
         ],
         "xaxis": "x",
         "y": [
          29.678,
          20.015,
          39.355,
          30.232,
          30.105
         ],
         "yaxis": "y"
        },
        {
         "name": "AQ37",
         "type": "scatter",
         "x": [
          "2021-09-05T00:00:00",
          "2021-09-12T00:00:00",
          "2021-09-19T00:00:00",
          "2021-09-26T00:00:00",
          "2021-10-03T00:00:00"
         ],
         "xaxis": "x",
         "y": [
          37.763,
          20.858,
          16.53,
          37.47,
          20.989
         ],
         "yaxis": "y"
        },
        {
         "name": "AQ38",
         "type": "scatter",
         "x": [
          "2021-09-19T00:00:00",
          "2021-09-26T00:00:00",
          "2021-10-03T00:00:00"
         ],
         "xaxis": "x",
         "y": [
          2.958,
          0.546,
          0.72
         ],
         "yaxis": "y"
        },
        {
         "name": "AQ39",
         "type": "scatter",
         "x": [
          "2021-09-05T00:00:00",
          "2021-09-12T00:00:00",
          "2021-09-19T00:00:00",
          "2021-09-26T00:00:00",
          "2021-10-03T00:00:00"
         ],
         "xaxis": "x",
         "y": [
          30.943,
          24.485,
          32.761,
          25.637,
          27.246
         ],
         "yaxis": "y"
        },
        {
         "name": "AQ40",
         "type": "scatter",
         "x": [
          "2021-09-05T00:00:00",
          "2021-09-12T00:00:00",
          "2021-09-19T00:00:00",
          "2021-09-26T00:00:00",
          "2021-10-03T00:00:00"
         ],
         "xaxis": "x",
         "y": [
          4.252,
          20.33,
          12.283,
          74.776,
          94.937
         ],
         "yaxis": "y"
        },
        {
         "name": "AQ41",
         "type": "scatter",
         "x": [
          "2021-09-05T00:00:00",
          "2021-09-12T00:00:00",
          "2021-09-19T00:00:00",
          "2021-09-26T00:00:00",
          "2021-10-03T00:00:00"
         ],
         "xaxis": "x",
         "y": [
          58.928,
          48.304,
          83.603,
          56.417,
          40.969
         ],
         "yaxis": "y"
        },
        {
         "name": "AQ42",
         "type": "scatter",
         "x": [
          "2021-09-05T00:00:00",
          "2021-09-12T00:00:00",
          "2021-09-19T00:00:00",
          "2021-09-26T00:00:00",
          "2021-10-03T00:00:00"
         ],
         "xaxis": "x",
         "y": [
          33.473,
          27.066,
          10.151,
          22.648,
          12.974
         ],
         "yaxis": "y"
        },
        {
         "name": "AQ43",
         "type": "scatter",
         "x": [
          "2021-09-05T00:00:00",
          "2021-09-12T00:00:00",
          "2021-09-19T00:00:00",
          "2021-09-26T00:00:00",
          "2021-10-03T00:00:00"
         ],
         "xaxis": "x",
         "y": [
          4.798,
          16.702,
          22.82,
          51.28,
          33.374
         ],
         "yaxis": "y"
        },
        {
         "name": "AQ44",
         "type": "scatter",
         "x": [
          "2021-09-05T00:00:00",
          "2021-09-12T00:00:00",
          "2021-09-19T00:00:00",
          "2021-09-26T00:00:00",
          "2021-10-03T00:00:00"
         ],
         "xaxis": "x",
         "y": [
          18.351,
          12.117,
          25.043,
          11.266,
          11.642
         ],
         "yaxis": "y"
        },
        {
         "name": "AQ45",
         "type": "scatter",
         "x": [
          "2021-09-05T00:00:00",
          "2021-09-12T00:00:00",
          "2021-09-19T00:00:00",
          "2021-09-26T00:00:00",
          "2021-10-03T00:00:00"
         ],
         "xaxis": "x",
         "y": [
          25.046,
          19.805,
          39.999,
          46.576,
          28.534
         ],
         "yaxis": "y"
        },
        {
         "name": "AQ46",
         "type": "scatter",
         "x": [
          "2021-09-05T00:00:00",
          "2021-09-12T00:00:00",
          "2021-09-19T00:00:00",
          "2021-09-26T00:00:00",
          "2021-10-03T00:00:00"
         ],
         "xaxis": "x",
         "y": [
          20.706,
          9.087,
          33.094,
          34.814,
          48.246
         ],
         "yaxis": "y"
        },
        {
         "name": "AQ47",
         "type": "scatter",
         "x": [
          "2021-09-05T00:00:00",
          "2021-09-12T00:00:00",
          "2021-09-19T00:00:00",
          "2021-09-26T00:00:00",
          "2021-10-03T00:00:00"
         ],
         "xaxis": "x",
         "y": [
          27.168,
          21.405,
          42.813,
          24.442,
          30.518
         ],
         "yaxis": "y"
        },
        {
         "name": "AQ49",
         "type": "scatter",
         "x": [
          "2021-09-05T00:00:00",
          "2021-09-12T00:00:00",
          "2021-09-19T00:00:00",
          "2021-09-26T00:00:00",
          "2021-10-03T00:00:00"
         ],
         "xaxis": "x",
         "y": [
          41.346,
          28.916,
          62.583,
          26.885,
          30.846
         ],
         "yaxis": "y"
        }
       ],
       "layout": {
        "height": 600,
        "template": {
         "data": {
          "bar": [
           {
            "error_x": {
             "color": "#2a3f5f"
            },
            "error_y": {
             "color": "#2a3f5f"
            },
            "marker": {
             "line": {
              "color": "#E5ECF6",
              "width": 0.5
             }
            },
            "type": "bar"
           }
          ],
          "barpolar": [
           {
            "marker": {
             "line": {
              "color": "#E5ECF6",
              "width": 0.5
             }
            },
            "type": "barpolar"
           }
          ],
          "carpet": [
           {
            "aaxis": {
             "endlinecolor": "#2a3f5f",
             "gridcolor": "white",
             "linecolor": "white",
             "minorgridcolor": "white",
             "startlinecolor": "#2a3f5f"
            },
            "baxis": {
             "endlinecolor": "#2a3f5f",
             "gridcolor": "white",
             "linecolor": "white",
             "minorgridcolor": "white",
             "startlinecolor": "#2a3f5f"
            },
            "type": "carpet"
           }
          ],
          "choropleth": [
           {
            "colorbar": {
             "outlinewidth": 0,
             "ticks": ""
            },
            "type": "choropleth"
           }
          ],
          "contour": [
           {
            "colorbar": {
             "outlinewidth": 0,
             "ticks": ""
            },
            "colorscale": [
             [
              0,
              "#0d0887"
             ],
             [
              0.1111111111111111,
              "#46039f"
             ],
             [
              0.2222222222222222,
              "#7201a8"
             ],
             [
              0.3333333333333333,
              "#9c179e"
             ],
             [
              0.4444444444444444,
              "#bd3786"
             ],
             [
              0.5555555555555556,
              "#d8576b"
             ],
             [
              0.6666666666666666,
              "#ed7953"
             ],
             [
              0.7777777777777778,
              "#fb9f3a"
             ],
             [
              0.8888888888888888,
              "#fdca26"
             ],
             [
              1,
              "#f0f921"
             ]
            ],
            "type": "contour"
           }
          ],
          "contourcarpet": [
           {
            "colorbar": {
             "outlinewidth": 0,
             "ticks": ""
            },
            "type": "contourcarpet"
           }
          ],
          "heatmap": [
           {
            "colorbar": {
             "outlinewidth": 0,
             "ticks": ""
            },
            "colorscale": [
             [
              0,
              "#0d0887"
             ],
             [
              0.1111111111111111,
              "#46039f"
             ],
             [
              0.2222222222222222,
              "#7201a8"
             ],
             [
              0.3333333333333333,
              "#9c179e"
             ],
             [
              0.4444444444444444,
              "#bd3786"
             ],
             [
              0.5555555555555556,
              "#d8576b"
             ],
             [
              0.6666666666666666,
              "#ed7953"
             ],
             [
              0.7777777777777778,
              "#fb9f3a"
             ],
             [
              0.8888888888888888,
              "#fdca26"
             ],
             [
              1,
              "#f0f921"
             ]
            ],
            "type": "heatmap"
           }
          ],
          "heatmapgl": [
           {
            "colorbar": {
             "outlinewidth": 0,
             "ticks": ""
            },
            "colorscale": [
             [
              0,
              "#0d0887"
             ],
             [
              0.1111111111111111,
              "#46039f"
             ],
             [
              0.2222222222222222,
              "#7201a8"
             ],
             [
              0.3333333333333333,
              "#9c179e"
             ],
             [
              0.4444444444444444,
              "#bd3786"
             ],
             [
              0.5555555555555556,
              "#d8576b"
             ],
             [
              0.6666666666666666,
              "#ed7953"
             ],
             [
              0.7777777777777778,
              "#fb9f3a"
             ],
             [
              0.8888888888888888,
              "#fdca26"
             ],
             [
              1,
              "#f0f921"
             ]
            ],
            "type": "heatmapgl"
           }
          ],
          "histogram": [
           {
            "marker": {
             "colorbar": {
              "outlinewidth": 0,
              "ticks": ""
             }
            },
            "type": "histogram"
           }
          ],
          "histogram2d": [
           {
            "colorbar": {
             "outlinewidth": 0,
             "ticks": ""
            },
            "colorscale": [
             [
              0,
              "#0d0887"
             ],
             [
              0.1111111111111111,
              "#46039f"
             ],
             [
              0.2222222222222222,
              "#7201a8"
             ],
             [
              0.3333333333333333,
              "#9c179e"
             ],
             [
              0.4444444444444444,
              "#bd3786"
             ],
             [
              0.5555555555555556,
              "#d8576b"
             ],
             [
              0.6666666666666666,
              "#ed7953"
             ],
             [
              0.7777777777777778,
              "#fb9f3a"
             ],
             [
              0.8888888888888888,
              "#fdca26"
             ],
             [
              1,
              "#f0f921"
             ]
            ],
            "type": "histogram2d"
           }
          ],
          "histogram2dcontour": [
           {
            "colorbar": {
             "outlinewidth": 0,
             "ticks": ""
            },
            "colorscale": [
             [
              0,
              "#0d0887"
             ],
             [
              0.1111111111111111,
              "#46039f"
             ],
             [
              0.2222222222222222,
              "#7201a8"
             ],
             [
              0.3333333333333333,
              "#9c179e"
             ],
             [
              0.4444444444444444,
              "#bd3786"
             ],
             [
              0.5555555555555556,
              "#d8576b"
             ],
             [
              0.6666666666666666,
              "#ed7953"
             ],
             [
              0.7777777777777778,
              "#fb9f3a"
             ],
             [
              0.8888888888888888,
              "#fdca26"
             ],
             [
              1,
              "#f0f921"
             ]
            ],
            "type": "histogram2dcontour"
           }
          ],
          "mesh3d": [
           {
            "colorbar": {
             "outlinewidth": 0,
             "ticks": ""
            },
            "type": "mesh3d"
           }
          ],
          "parcoords": [
           {
            "line": {
             "colorbar": {
              "outlinewidth": 0,
              "ticks": ""
             }
            },
            "type": "parcoords"
           }
          ],
          "pie": [
           {
            "automargin": true,
            "type": "pie"
           }
          ],
          "scatter": [
           {
            "marker": {
             "colorbar": {
              "outlinewidth": 0,
              "ticks": ""
             }
            },
            "type": "scatter"
           }
          ],
          "scatter3d": [
           {
            "line": {
             "colorbar": {
              "outlinewidth": 0,
              "ticks": ""
             }
            },
            "marker": {
             "colorbar": {
              "outlinewidth": 0,
              "ticks": ""
             }
            },
            "type": "scatter3d"
           }
          ],
          "scattercarpet": [
           {
            "marker": {
             "colorbar": {
              "outlinewidth": 0,
              "ticks": ""
             }
            },
            "type": "scattercarpet"
           }
          ],
          "scattergeo": [
           {
            "marker": {
             "colorbar": {
              "outlinewidth": 0,
              "ticks": ""
             }
            },
            "type": "scattergeo"
           }
          ],
          "scattergl": [
           {
            "marker": {
             "colorbar": {
              "outlinewidth": 0,
              "ticks": ""
             }
            },
            "type": "scattergl"
           }
          ],
          "scattermapbox": [
           {
            "marker": {
             "colorbar": {
              "outlinewidth": 0,
              "ticks": ""
             }
            },
            "type": "scattermapbox"
           }
          ],
          "scatterpolar": [
           {
            "marker": {
             "colorbar": {
              "outlinewidth": 0,
              "ticks": ""
             }
            },
            "type": "scatterpolar"
           }
          ],
          "scatterpolargl": [
           {
            "marker": {
             "colorbar": {
              "outlinewidth": 0,
              "ticks": ""
             }
            },
            "type": "scatterpolargl"
           }
          ],
          "scatterternary": [
           {
            "marker": {
             "colorbar": {
              "outlinewidth": 0,
              "ticks": ""
             }
            },
            "type": "scatterternary"
           }
          ],
          "surface": [
           {
            "colorbar": {
             "outlinewidth": 0,
             "ticks": ""
            },
            "colorscale": [
             [
              0,
              "#0d0887"
             ],
             [
              0.1111111111111111,
              "#46039f"
             ],
             [
              0.2222222222222222,
              "#7201a8"
             ],
             [
              0.3333333333333333,
              "#9c179e"
             ],
             [
              0.4444444444444444,
              "#bd3786"
             ],
             [
              0.5555555555555556,
              "#d8576b"
             ],
             [
              0.6666666666666666,
              "#ed7953"
             ],
             [
              0.7777777777777778,
              "#fb9f3a"
             ],
             [
              0.8888888888888888,
              "#fdca26"
             ],
             [
              1,
              "#f0f921"
             ]
            ],
            "type": "surface"
           }
          ],
          "table": [
           {
            "cells": {
             "fill": {
              "color": "#EBF0F8"
             },
             "line": {
              "color": "white"
             }
            },
            "header": {
             "fill": {
              "color": "#C8D4E3"
             },
             "line": {
              "color": "white"
             }
            },
            "type": "table"
           }
          ]
         },
         "layout": {
          "annotationdefaults": {
           "arrowcolor": "#2a3f5f",
           "arrowhead": 0,
           "arrowwidth": 1
          },
          "autotypenumbers": "strict",
          "coloraxis": {
           "colorbar": {
            "outlinewidth": 0,
            "ticks": ""
           }
          },
          "colorscale": {
           "diverging": [
            [
             0,
             "#8e0152"
            ],
            [
             0.1,
             "#c51b7d"
            ],
            [
             0.2,
             "#de77ae"
            ],
            [
             0.3,
             "#f1b6da"
            ],
            [
             0.4,
             "#fde0ef"
            ],
            [
             0.5,
             "#f7f7f7"
            ],
            [
             0.6,
             "#e6f5d0"
            ],
            [
             0.7,
             "#b8e186"
            ],
            [
             0.8,
             "#7fbc41"
            ],
            [
             0.9,
             "#4d9221"
            ],
            [
             1,
             "#276419"
            ]
           ],
           "sequential": [
            [
             0,
             "#0d0887"
            ],
            [
             0.1111111111111111,
             "#46039f"
            ],
            [
             0.2222222222222222,
             "#7201a8"
            ],
            [
             0.3333333333333333,
             "#9c179e"
            ],
            [
             0.4444444444444444,
             "#bd3786"
            ],
            [
             0.5555555555555556,
             "#d8576b"
            ],
            [
             0.6666666666666666,
             "#ed7953"
            ],
            [
             0.7777777777777778,
             "#fb9f3a"
            ],
            [
             0.8888888888888888,
             "#fdca26"
            ],
            [
             1,
             "#f0f921"
            ]
           ],
           "sequentialminus": [
            [
             0,
             "#0d0887"
            ],
            [
             0.1111111111111111,
             "#46039f"
            ],
            [
             0.2222222222222222,
             "#7201a8"
            ],
            [
             0.3333333333333333,
             "#9c179e"
            ],
            [
             0.4444444444444444,
             "#bd3786"
            ],
            [
             0.5555555555555556,
             "#d8576b"
            ],
            [
             0.6666666666666666,
             "#ed7953"
            ],
            [
             0.7777777777777778,
             "#fb9f3a"
            ],
            [
             0.8888888888888888,
             "#fdca26"
            ],
            [
             1,
             "#f0f921"
            ]
           ]
          },
          "colorway": [
           "#636efa",
           "#EF553B",
           "#00cc96",
           "#ab63fa",
           "#FFA15A",
           "#19d3f3",
           "#FF6692",
           "#B6E880",
           "#FF97FF",
           "#FECB52"
          ],
          "font": {
           "color": "#2a3f5f"
          },
          "geo": {
           "bgcolor": "white",
           "lakecolor": "white",
           "landcolor": "#E5ECF6",
           "showlakes": true,
           "showland": true,
           "subunitcolor": "white"
          },
          "hoverlabel": {
           "align": "left"
          },
          "hovermode": "closest",
          "mapbox": {
           "style": "light"
          },
          "paper_bgcolor": "white",
          "plot_bgcolor": "#E5ECF6",
          "polar": {
           "angularaxis": {
            "gridcolor": "white",
            "linecolor": "white",
            "ticks": ""
           },
           "bgcolor": "#E5ECF6",
           "radialaxis": {
            "gridcolor": "white",
            "linecolor": "white",
            "ticks": ""
           }
          },
          "scene": {
           "xaxis": {
            "backgroundcolor": "#E5ECF6",
            "gridcolor": "white",
            "gridwidth": 2,
            "linecolor": "white",
            "showbackground": true,
            "ticks": "",
            "zerolinecolor": "white"
           },
           "yaxis": {
            "backgroundcolor": "#E5ECF6",
            "gridcolor": "white",
            "gridwidth": 2,
            "linecolor": "white",
            "showbackground": true,
            "ticks": "",
            "zerolinecolor": "white"
           },
           "zaxis": {
            "backgroundcolor": "#E5ECF6",
            "gridcolor": "white",
            "gridwidth": 2,
            "linecolor": "white",
            "showbackground": true,
            "ticks": "",
            "zerolinecolor": "white"
           }
          },
          "shapedefaults": {
           "line": {
            "color": "#2a3f5f"
           }
          },
          "ternary": {
           "aaxis": {
            "gridcolor": "white",
            "linecolor": "white",
            "ticks": ""
           },
           "baxis": {
            "gridcolor": "white",
            "linecolor": "white",
            "ticks": ""
           },
           "bgcolor": "#E5ECF6",
           "caxis": {
            "gridcolor": "white",
            "linecolor": "white",
            "ticks": ""
           }
          },
          "title": {
           "x": 0.05
          },
          "xaxis": {
           "automargin": true,
           "gridcolor": "white",
           "linecolor": "white",
           "ticks": "",
           "title": {
            "standoff": 15
           },
           "zerolinecolor": "white",
           "zerolinewidth": 2
          },
          "yaxis": {
           "automargin": true,
           "gridcolor": "white",
           "linecolor": "white",
           "ticks": "",
           "title": {
            "standoff": 15
           },
           "zerolinecolor": "white",
           "zerolinewidth": 2
          }
         }
        },
        "title": {
         "text": "1 Week Avg of PM10 September"
        },
        "width": 800,
        "xaxis": {
         "anchor": "y",
         "domain": [
          0.8,
          0.7
         ],
         "title": {
          "text": "Timestamp"
         }
        },
        "yaxis": {
         "anchor": "x",
         "domain": [
          0,
          1
         ],
         "title": {
          "text": "PM10"
         }
        }
       }
      },
      "text/html": [
       "<div>                            <div id=\"8248a00c-c362-43f4-aa79-7e1cc134afe8\" class=\"plotly-graph-div\" style=\"height:600px; width:800px;\"></div>            <script type=\"text/javascript\">                require([\"plotly\"], function(Plotly) {                    window.PLOTLYENV=window.PLOTLYENV || {};                                    if (document.getElementById(\"8248a00c-c362-43f4-aa79-7e1cc134afe8\")) {                    Plotly.newPlot(                        \"8248a00c-c362-43f4-aa79-7e1cc134afe8\",                        [{\"name\": \"AQ13\", \"type\": \"scatter\", \"x\": [\"2021-09-26T00:00:00\", \"2021-10-03T00:00:00\"], \"xaxis\": \"x\", \"y\": [63.854, 37.903], \"yaxis\": \"y\"}, {\"name\": \"AQ14\", \"type\": \"scatter\", \"x\": [\"2021-09-05T00:00:00\", \"2021-09-12T00:00:00\", \"2021-09-19T00:00:00\", \"2021-09-26T00:00:00\", \"2021-10-03T00:00:00\"], \"xaxis\": \"x\", \"y\": [33.553, 19.25, 31.416, 37.936, 22.419], \"yaxis\": \"y\"}, {\"name\": \"AQ15\", \"type\": \"scatter\", \"x\": [\"2021-09-05T00:00:00\", \"2021-09-12T00:00:00\", \"2021-09-19T00:00:00\", \"2021-09-26T00:00:00\", \"2021-10-03T00:00:00\"], \"xaxis\": \"x\", \"y\": [29.393, 17.538, 23.946, 39.495, 25.162], \"yaxis\": \"y\"}, {\"name\": \"AQ16\", \"type\": \"scatter\", \"x\": [\"2021-09-05T00:00:00\", \"2021-09-12T00:00:00\", \"2021-09-19T00:00:00\", \"2021-09-26T00:00:00\", \"2021-10-03T00:00:00\"], \"xaxis\": \"x\", \"y\": [2.185, 2.362, 119.955, 199.977, 122.882], \"yaxis\": \"y\"}, {\"name\": \"AQ17\", \"type\": \"scatter\", \"x\": [\"2021-09-26T00:00:00\", \"2021-10-03T00:00:00\"], \"xaxis\": \"x\", \"y\": [61.767, 38.006], \"yaxis\": \"y\"}, {\"name\": \"AQ18\", \"type\": \"scatter\", \"x\": [\"2021-09-05T00:00:00\", \"2021-09-12T00:00:00\", \"2021-09-19T00:00:00\", \"2021-09-26T00:00:00\", \"2021-10-03T00:00:00\"], \"xaxis\": \"x\", \"y\": [0.698, 0.66, 34.206, 38.434, 27.992], \"yaxis\": \"y\"}, {\"name\": \"AQ19\", \"type\": \"scatter\", \"x\": [\"2021-09-05T00:00:00\", \"2021-09-12T00:00:00\", \"2021-09-19T00:00:00\", \"2021-09-26T00:00:00\", \"2021-10-03T00:00:00\"], \"xaxis\": \"x\", \"y\": [0.698, 0.66, 34.206, 38.434, 27.992], \"yaxis\": \"y\"}, {\"name\": \"AQ21\", \"type\": \"scatter\", \"x\": [\"2021-09-05T00:00:00\", \"2021-09-12T00:00:00\", \"2021-09-19T00:00:00\", \"2021-09-26T00:00:00\", \"2021-10-03T00:00:00\"], \"xaxis\": \"x\", \"y\": [1.207, 1.486, 4.106, 14.93, 9.109], \"yaxis\": \"y\"}, {\"name\": \"AQ22\", \"type\": \"scatter\", \"x\": [\"2021-09-05T00:00:00\", \"2021-09-12T00:00:00\", \"2021-09-19T00:00:00\", \"2021-09-26T00:00:00\", \"2021-10-03T00:00:00\"], \"xaxis\": \"x\", \"y\": [16.839, 11.053, 21.211, 31.418, 18.323], \"yaxis\": \"y\"}, {\"name\": \"AQ23\", \"type\": \"scatter\", \"x\": [\"2021-09-05T00:00:00\", \"2021-09-12T00:00:00\", \"2021-09-19T00:00:00\", \"2021-09-26T00:00:00\"], \"xaxis\": \"x\", \"y\": [26.061, 13.772, 26.101, 18.177], \"yaxis\": \"y\"}, {\"name\": \"AQ24\", \"type\": \"scatter\", \"x\": [\"2021-09-26T00:00:00\", \"2021-10-03T00:00:00\"], \"xaxis\": \"x\", \"y\": [61.255, 37.703], \"yaxis\": \"y\"}, {\"name\": \"AQ25\", \"type\": \"scatter\", \"x\": [\"2021-09-26T00:00:00\", \"2021-10-03T00:00:00\"], \"xaxis\": \"x\", \"y\": [69.422, 40.985], \"yaxis\": \"y\"}, {\"name\": \"AQ30\", \"type\": \"scatter\", \"x\": [\"2021-09-05T00:00:00\", \"2021-09-12T00:00:00\", \"2021-09-19T00:00:00\", \"2021-09-26T00:00:00\", \"2021-10-03T00:00:00\"], \"xaxis\": \"x\", \"y\": [6.789, 9.907, null, 66.309, 39.99], \"yaxis\": \"y\"}, {\"name\": \"AQ31\", \"type\": \"scatter\", \"x\": [\"2021-09-05T00:00:00\", \"2021-09-12T00:00:00\", \"2021-09-19T00:00:00\", \"2021-09-26T00:00:00\", \"2021-10-03T00:00:00\"], \"xaxis\": \"x\", \"y\": [6.913, 11.943, 26.525, 12.701, 8.043], \"yaxis\": \"y\"}, {\"name\": \"AQ32\", \"type\": \"scatter\", \"x\": [\"2021-09-05T00:00:00\", \"2021-09-12T00:00:00\", \"2021-09-19T00:00:00\", \"2021-09-26T00:00:00\", \"2021-10-03T00:00:00\"], \"xaxis\": \"x\", \"y\": [28.805, 19.391, 32.003, 29.091, 25.313], \"yaxis\": \"y\"}, {\"name\": \"AQ33\", \"type\": \"scatter\", \"x\": [\"2021-09-05T00:00:00\", \"2021-09-12T00:00:00\", \"2021-09-19T00:00:00\", \"2021-09-26T00:00:00\", \"2021-10-03T00:00:00\"], \"xaxis\": \"x\", \"y\": [4.513, 3.7, 33.48, 12.833, 18.279], \"yaxis\": \"y\"}, {\"name\": \"AQ34\", \"type\": \"scatter\", \"x\": [\"2021-09-05T00:00:00\", \"2021-09-12T00:00:00\"], \"xaxis\": \"x\", \"y\": [6.743, 4.294], \"yaxis\": \"y\"}, {\"name\": \"AQ35\", \"type\": \"scatter\", \"x\": [\"2021-09-19T00:00:00\", \"2021-09-26T00:00:00\", \"2021-10-03T00:00:00\"], \"xaxis\": \"x\", \"y\": [42.336, 54.832, 35.24], \"yaxis\": \"y\"}, {\"name\": \"AQ36\", \"type\": \"scatter\", \"x\": [\"2021-09-05T00:00:00\", \"2021-09-12T00:00:00\", \"2021-09-19T00:00:00\", \"2021-09-26T00:00:00\", \"2021-10-03T00:00:00\"], \"xaxis\": \"x\", \"y\": [29.678, 20.015, 39.355, 30.232, 30.105], \"yaxis\": \"y\"}, {\"name\": \"AQ37\", \"type\": \"scatter\", \"x\": [\"2021-09-05T00:00:00\", \"2021-09-12T00:00:00\", \"2021-09-19T00:00:00\", \"2021-09-26T00:00:00\", \"2021-10-03T00:00:00\"], \"xaxis\": \"x\", \"y\": [37.763, 20.858, 16.53, 37.47, 20.989], \"yaxis\": \"y\"}, {\"name\": \"AQ38\", \"type\": \"scatter\", \"x\": [\"2021-09-19T00:00:00\", \"2021-09-26T00:00:00\", \"2021-10-03T00:00:00\"], \"xaxis\": \"x\", \"y\": [2.958, 0.546, 0.72], \"yaxis\": \"y\"}, {\"name\": \"AQ39\", \"type\": \"scatter\", \"x\": [\"2021-09-05T00:00:00\", \"2021-09-12T00:00:00\", \"2021-09-19T00:00:00\", \"2021-09-26T00:00:00\", \"2021-10-03T00:00:00\"], \"xaxis\": \"x\", \"y\": [30.943, 24.485, 32.761, 25.637, 27.246], \"yaxis\": \"y\"}, {\"name\": \"AQ40\", \"type\": \"scatter\", \"x\": [\"2021-09-05T00:00:00\", \"2021-09-12T00:00:00\", \"2021-09-19T00:00:00\", \"2021-09-26T00:00:00\", \"2021-10-03T00:00:00\"], \"xaxis\": \"x\", \"y\": [4.252, 20.33, 12.283, 74.776, 94.937], \"yaxis\": \"y\"}, {\"name\": \"AQ41\", \"type\": \"scatter\", \"x\": [\"2021-09-05T00:00:00\", \"2021-09-12T00:00:00\", \"2021-09-19T00:00:00\", \"2021-09-26T00:00:00\", \"2021-10-03T00:00:00\"], \"xaxis\": \"x\", \"y\": [58.928, 48.304, 83.603, 56.417, 40.969], \"yaxis\": \"y\"}, {\"name\": \"AQ42\", \"type\": \"scatter\", \"x\": [\"2021-09-05T00:00:00\", \"2021-09-12T00:00:00\", \"2021-09-19T00:00:00\", \"2021-09-26T00:00:00\", \"2021-10-03T00:00:00\"], \"xaxis\": \"x\", \"y\": [33.473, 27.066, 10.151, 22.648, 12.974], \"yaxis\": \"y\"}, {\"name\": \"AQ43\", \"type\": \"scatter\", \"x\": [\"2021-09-05T00:00:00\", \"2021-09-12T00:00:00\", \"2021-09-19T00:00:00\", \"2021-09-26T00:00:00\", \"2021-10-03T00:00:00\"], \"xaxis\": \"x\", \"y\": [4.798, 16.702, 22.82, 51.28, 33.374], \"yaxis\": \"y\"}, {\"name\": \"AQ44\", \"type\": \"scatter\", \"x\": [\"2021-09-05T00:00:00\", \"2021-09-12T00:00:00\", \"2021-09-19T00:00:00\", \"2021-09-26T00:00:00\", \"2021-10-03T00:00:00\"], \"xaxis\": \"x\", \"y\": [18.351, 12.117, 25.043, 11.266, 11.642], \"yaxis\": \"y\"}, {\"name\": \"AQ45\", \"type\": \"scatter\", \"x\": [\"2021-09-05T00:00:00\", \"2021-09-12T00:00:00\", \"2021-09-19T00:00:00\", \"2021-09-26T00:00:00\", \"2021-10-03T00:00:00\"], \"xaxis\": \"x\", \"y\": [25.046, 19.805, 39.999, 46.576, 28.534], \"yaxis\": \"y\"}, {\"name\": \"AQ46\", \"type\": \"scatter\", \"x\": [\"2021-09-05T00:00:00\", \"2021-09-12T00:00:00\", \"2021-09-19T00:00:00\", \"2021-09-26T00:00:00\", \"2021-10-03T00:00:00\"], \"xaxis\": \"x\", \"y\": [20.706, 9.087, 33.094, 34.814, 48.246], \"yaxis\": \"y\"}, {\"name\": \"AQ47\", \"type\": \"scatter\", \"x\": [\"2021-09-05T00:00:00\", \"2021-09-12T00:00:00\", \"2021-09-19T00:00:00\", \"2021-09-26T00:00:00\", \"2021-10-03T00:00:00\"], \"xaxis\": \"x\", \"y\": [27.168, 21.405, 42.813, 24.442, 30.518], \"yaxis\": \"y\"}, {\"name\": \"AQ49\", \"type\": \"scatter\", \"x\": [\"2021-09-05T00:00:00\", \"2021-09-12T00:00:00\", \"2021-09-19T00:00:00\", \"2021-09-26T00:00:00\", \"2021-10-03T00:00:00\"], \"xaxis\": \"x\", \"y\": [41.346, 28.916, 62.583, 26.885, 30.846], \"yaxis\": \"y\"}],                        {\"height\": 600, \"template\": {\"data\": {\"bar\": [{\"error_x\": {\"color\": \"#2a3f5f\"}, \"error_y\": {\"color\": \"#2a3f5f\"}, \"marker\": {\"line\": {\"color\": \"#E5ECF6\", \"width\": 0.5}}, \"type\": \"bar\"}], \"barpolar\": [{\"marker\": {\"line\": {\"color\": \"#E5ECF6\", \"width\": 0.5}}, \"type\": \"barpolar\"}], \"carpet\": [{\"aaxis\": {\"endlinecolor\": \"#2a3f5f\", \"gridcolor\": \"white\", \"linecolor\": \"white\", \"minorgridcolor\": \"white\", \"startlinecolor\": \"#2a3f5f\"}, \"baxis\": {\"endlinecolor\": \"#2a3f5f\", \"gridcolor\": \"white\", \"linecolor\": \"white\", \"minorgridcolor\": \"white\", \"startlinecolor\": \"#2a3f5f\"}, \"type\": \"carpet\"}], \"choropleth\": [{\"colorbar\": {\"outlinewidth\": 0, \"ticks\": \"\"}, \"type\": \"choropleth\"}], \"contour\": [{\"colorbar\": {\"outlinewidth\": 0, \"ticks\": \"\"}, \"colorscale\": [[0.0, \"#0d0887\"], [0.1111111111111111, \"#46039f\"], [0.2222222222222222, \"#7201a8\"], [0.3333333333333333, \"#9c179e\"], [0.4444444444444444, \"#bd3786\"], [0.5555555555555556, \"#d8576b\"], [0.6666666666666666, \"#ed7953\"], [0.7777777777777778, \"#fb9f3a\"], [0.8888888888888888, \"#fdca26\"], [1.0, \"#f0f921\"]], \"type\": \"contour\"}], \"contourcarpet\": [{\"colorbar\": {\"outlinewidth\": 0, \"ticks\": \"\"}, \"type\": \"contourcarpet\"}], \"heatmap\": [{\"colorbar\": {\"outlinewidth\": 0, \"ticks\": \"\"}, \"colorscale\": [[0.0, \"#0d0887\"], [0.1111111111111111, \"#46039f\"], [0.2222222222222222, \"#7201a8\"], [0.3333333333333333, \"#9c179e\"], [0.4444444444444444, \"#bd3786\"], [0.5555555555555556, \"#d8576b\"], [0.6666666666666666, \"#ed7953\"], [0.7777777777777778, \"#fb9f3a\"], [0.8888888888888888, \"#fdca26\"], [1.0, \"#f0f921\"]], \"type\": \"heatmap\"}], \"heatmapgl\": [{\"colorbar\": {\"outlinewidth\": 0, \"ticks\": \"\"}, \"colorscale\": [[0.0, \"#0d0887\"], [0.1111111111111111, \"#46039f\"], [0.2222222222222222, \"#7201a8\"], [0.3333333333333333, \"#9c179e\"], [0.4444444444444444, \"#bd3786\"], [0.5555555555555556, \"#d8576b\"], [0.6666666666666666, \"#ed7953\"], [0.7777777777777778, \"#fb9f3a\"], [0.8888888888888888, \"#fdca26\"], [1.0, \"#f0f921\"]], \"type\": \"heatmapgl\"}], \"histogram\": [{\"marker\": {\"colorbar\": {\"outlinewidth\": 0, \"ticks\": \"\"}}, \"type\": \"histogram\"}], \"histogram2d\": [{\"colorbar\": {\"outlinewidth\": 0, \"ticks\": \"\"}, \"colorscale\": [[0.0, \"#0d0887\"], [0.1111111111111111, \"#46039f\"], [0.2222222222222222, \"#7201a8\"], [0.3333333333333333, \"#9c179e\"], [0.4444444444444444, \"#bd3786\"], [0.5555555555555556, \"#d8576b\"], [0.6666666666666666, \"#ed7953\"], [0.7777777777777778, \"#fb9f3a\"], [0.8888888888888888, \"#fdca26\"], [1.0, \"#f0f921\"]], \"type\": \"histogram2d\"}], \"histogram2dcontour\": [{\"colorbar\": {\"outlinewidth\": 0, \"ticks\": \"\"}, \"colorscale\": [[0.0, \"#0d0887\"], [0.1111111111111111, \"#46039f\"], [0.2222222222222222, \"#7201a8\"], [0.3333333333333333, \"#9c179e\"], [0.4444444444444444, \"#bd3786\"], [0.5555555555555556, \"#d8576b\"], [0.6666666666666666, \"#ed7953\"], [0.7777777777777778, \"#fb9f3a\"], [0.8888888888888888, \"#fdca26\"], [1.0, \"#f0f921\"]], \"type\": \"histogram2dcontour\"}], \"mesh3d\": [{\"colorbar\": {\"outlinewidth\": 0, \"ticks\": \"\"}, \"type\": \"mesh3d\"}], \"parcoords\": [{\"line\": {\"colorbar\": {\"outlinewidth\": 0, \"ticks\": \"\"}}, \"type\": \"parcoords\"}], \"pie\": [{\"automargin\": true, \"type\": \"pie\"}], \"scatter\": [{\"marker\": {\"colorbar\": {\"outlinewidth\": 0, \"ticks\": \"\"}}, \"type\": \"scatter\"}], \"scatter3d\": [{\"line\": {\"colorbar\": {\"outlinewidth\": 0, \"ticks\": \"\"}}, \"marker\": {\"colorbar\": {\"outlinewidth\": 0, \"ticks\": \"\"}}, \"type\": \"scatter3d\"}], \"scattercarpet\": [{\"marker\": {\"colorbar\": {\"outlinewidth\": 0, \"ticks\": \"\"}}, \"type\": \"scattercarpet\"}], \"scattergeo\": [{\"marker\": {\"colorbar\": {\"outlinewidth\": 0, \"ticks\": \"\"}}, \"type\": \"scattergeo\"}], \"scattergl\": [{\"marker\": {\"colorbar\": {\"outlinewidth\": 0, \"ticks\": \"\"}}, \"type\": \"scattergl\"}], \"scattermapbox\": [{\"marker\": {\"colorbar\": {\"outlinewidth\": 0, \"ticks\": \"\"}}, \"type\": \"scattermapbox\"}], \"scatterpolar\": [{\"marker\": {\"colorbar\": {\"outlinewidth\": 0, \"ticks\": \"\"}}, \"type\": \"scatterpolar\"}], \"scatterpolargl\": [{\"marker\": {\"colorbar\": {\"outlinewidth\": 0, \"ticks\": \"\"}}, \"type\": \"scatterpolargl\"}], \"scatterternary\": [{\"marker\": {\"colorbar\": {\"outlinewidth\": 0, \"ticks\": \"\"}}, \"type\": \"scatterternary\"}], \"surface\": [{\"colorbar\": {\"outlinewidth\": 0, \"ticks\": \"\"}, \"colorscale\": [[0.0, \"#0d0887\"], [0.1111111111111111, \"#46039f\"], [0.2222222222222222, \"#7201a8\"], [0.3333333333333333, \"#9c179e\"], [0.4444444444444444, \"#bd3786\"], [0.5555555555555556, \"#d8576b\"], [0.6666666666666666, \"#ed7953\"], [0.7777777777777778, \"#fb9f3a\"], [0.8888888888888888, \"#fdca26\"], [1.0, \"#f0f921\"]], \"type\": \"surface\"}], \"table\": [{\"cells\": {\"fill\": {\"color\": \"#EBF0F8\"}, \"line\": {\"color\": \"white\"}}, \"header\": {\"fill\": {\"color\": \"#C8D4E3\"}, \"line\": {\"color\": \"white\"}}, \"type\": \"table\"}]}, \"layout\": {\"annotationdefaults\": {\"arrowcolor\": \"#2a3f5f\", \"arrowhead\": 0, \"arrowwidth\": 1}, \"autotypenumbers\": \"strict\", \"coloraxis\": {\"colorbar\": {\"outlinewidth\": 0, \"ticks\": \"\"}}, \"colorscale\": {\"diverging\": [[0, \"#8e0152\"], [0.1, \"#c51b7d\"], [0.2, \"#de77ae\"], [0.3, \"#f1b6da\"], [0.4, \"#fde0ef\"], [0.5, \"#f7f7f7\"], [0.6, \"#e6f5d0\"], [0.7, \"#b8e186\"], [0.8, \"#7fbc41\"], [0.9, \"#4d9221\"], [1, \"#276419\"]], \"sequential\": [[0.0, \"#0d0887\"], [0.1111111111111111, \"#46039f\"], [0.2222222222222222, \"#7201a8\"], [0.3333333333333333, \"#9c179e\"], [0.4444444444444444, \"#bd3786\"], [0.5555555555555556, \"#d8576b\"], [0.6666666666666666, \"#ed7953\"], [0.7777777777777778, \"#fb9f3a\"], [0.8888888888888888, \"#fdca26\"], [1.0, \"#f0f921\"]], \"sequentialminus\": [[0.0, \"#0d0887\"], [0.1111111111111111, \"#46039f\"], [0.2222222222222222, \"#7201a8\"], [0.3333333333333333, \"#9c179e\"], [0.4444444444444444, \"#bd3786\"], [0.5555555555555556, \"#d8576b\"], [0.6666666666666666, \"#ed7953\"], [0.7777777777777778, \"#fb9f3a\"], [0.8888888888888888, \"#fdca26\"], [1.0, \"#f0f921\"]]}, \"colorway\": [\"#636efa\", \"#EF553B\", \"#00cc96\", \"#ab63fa\", \"#FFA15A\", \"#19d3f3\", \"#FF6692\", \"#B6E880\", \"#FF97FF\", \"#FECB52\"], \"font\": {\"color\": \"#2a3f5f\"}, \"geo\": {\"bgcolor\": \"white\", \"lakecolor\": \"white\", \"landcolor\": \"#E5ECF6\", \"showlakes\": true, \"showland\": true, \"subunitcolor\": \"white\"}, \"hoverlabel\": {\"align\": \"left\"}, \"hovermode\": \"closest\", \"mapbox\": {\"style\": \"light\"}, \"paper_bgcolor\": \"white\", \"plot_bgcolor\": \"#E5ECF6\", \"polar\": {\"angularaxis\": {\"gridcolor\": \"white\", \"linecolor\": \"white\", \"ticks\": \"\"}, \"bgcolor\": \"#E5ECF6\", \"radialaxis\": {\"gridcolor\": \"white\", \"linecolor\": \"white\", \"ticks\": \"\"}}, \"scene\": {\"xaxis\": {\"backgroundcolor\": \"#E5ECF6\", \"gridcolor\": \"white\", \"gridwidth\": 2, \"linecolor\": \"white\", \"showbackground\": true, \"ticks\": \"\", \"zerolinecolor\": \"white\"}, \"yaxis\": {\"backgroundcolor\": \"#E5ECF6\", \"gridcolor\": \"white\", \"gridwidth\": 2, \"linecolor\": \"white\", \"showbackground\": true, \"ticks\": \"\", \"zerolinecolor\": \"white\"}, \"zaxis\": {\"backgroundcolor\": \"#E5ECF6\", \"gridcolor\": \"white\", \"gridwidth\": 2, \"linecolor\": \"white\", \"showbackground\": true, \"ticks\": \"\", \"zerolinecolor\": \"white\"}}, \"shapedefaults\": {\"line\": {\"color\": \"#2a3f5f\"}}, \"ternary\": {\"aaxis\": {\"gridcolor\": \"white\", \"linecolor\": \"white\", \"ticks\": \"\"}, \"baxis\": {\"gridcolor\": \"white\", \"linecolor\": \"white\", \"ticks\": \"\"}, \"bgcolor\": \"#E5ECF6\", \"caxis\": {\"gridcolor\": \"white\", \"linecolor\": \"white\", \"ticks\": \"\"}}, \"title\": {\"x\": 0.05}, \"xaxis\": {\"automargin\": true, \"gridcolor\": \"white\", \"linecolor\": \"white\", \"ticks\": \"\", \"title\": {\"standoff\": 15}, \"zerolinecolor\": \"white\", \"zerolinewidth\": 2}, \"yaxis\": {\"automargin\": true, \"gridcolor\": \"white\", \"linecolor\": \"white\", \"ticks\": \"\", \"title\": {\"standoff\": 15}, \"zerolinecolor\": \"white\", \"zerolinewidth\": 2}}}, \"title\": {\"text\": \"1 Week Avg of PM10 September\"}, \"width\": 800, \"xaxis\": {\"anchor\": \"y\", \"domain\": [0.8, 0.7], \"title\": {\"text\": \"Timestamp\"}}, \"yaxis\": {\"anchor\": \"x\", \"domain\": [0.0, 1.0], \"title\": {\"text\": \"PM10\"}}},                        {\"responsive\": true}                    ).then(function(){\n",
       "                            \n",
       "var gd = document.getElementById('8248a00c-c362-43f4-aa79-7e1cc134afe8');\n",
       "var x = new MutationObserver(function (mutations, observer) {{\n",
       "        var display = window.getComputedStyle(gd).display;\n",
       "        if (!display || display === 'none') {{\n",
       "            console.log([gd, 'removed!']);\n",
       "            Plotly.purge(gd);\n",
       "            observer.disconnect();\n",
       "        }}\n",
       "}});\n",
       "\n",
       "// Listen for the removal of the full notebook cells\n",
       "var notebookContainer = gd.closest('#notebook-container');\n",
       "if (notebookContainer) {{\n",
       "    x.observe(notebookContainer, {childList: true});\n",
       "}}\n",
       "\n",
       "// Listen for the clearing of the current output cell\n",
       "var outputEl = gd.closest('.output');\n",
       "if (outputEl) {{\n",
       "    x.observe(outputEl, {childList: true});\n",
       "}}\n",
       "\n",
       "                        })                };                });            </script>        </div>"
      ]
     },
     "metadata": {},
     "output_type": "display_data"
    }
   ],
   "source": [
    "fig = make_subplots(rows=1, cols=1,\n",
    "shared_xaxes=True,\n",
    "vertical_spacing=0.01)\n",
    "\n",
    "\n",
    "\n",
    "#fig.add_trace(go.Scatter(x=AQ12.index, y=AQ12['PM10'], name = 'AQ12', xaxis=\"x2\",yaxis = 'y2'),\n",
    "#row=1, col=1)\n",
    "fig.add_trace(go.Scatter(x=AQ13.index, y=AQ13['PM10'], name = 'AQ13', xaxis=\"x2\",yaxis = 'y2'),\n",
    "row=1, col=1)\n",
    "fig.add_trace(go.Scatter(x=AQ14.index, y=AQ14['PM10'], name = 'AQ14', xaxis=\"x2\",yaxis = 'y2'),\n",
    "row=1, col=1)\n",
    "fig.add_trace(go.Scatter(x=AQ15.index, y=AQ15['PM10'], name = 'AQ15', xaxis=\"x2\",yaxis = 'y2'),\n",
    "row=1, col=1)\n",
    "fig.add_trace(go.Scatter(x=AQ16.index, y=AQ16['PM10'], name = 'AQ16', xaxis=\"x2\",yaxis = 'y2'),\n",
    " row=1, col=1)\n",
    "fig.add_trace(go.Scatter(x=AQ17.index, y=AQ17['PM10'], name = 'AQ17', xaxis=\"x2\",yaxis = 'y2'),\n",
    "row=1, col=1)\n",
    "fig.add_trace(go.Scatter(x=AQ18.index, y=AQ18['PM10'], name = 'AQ18', xaxis=\"x2\",yaxis = 'y2'),\n",
    "row=1, col=1)\n",
    "fig.add_trace(go.Scatter(x=AQ19.index, y=AQ18['PM10'], name = 'AQ19', xaxis=\"x2\",yaxis = 'y2'),\n",
    "row=1, col=1)\n",
    "#fig.add_trace(go.Scatter(x=AQ20.index, y=AQ20['PM10'], name = 'AQ20', xaxis=\"x2\",yaxis = 'y2'),\n",
    "#row=1, col=1)\n",
    "fig.add_trace(go.Scatter(x=AQ21.index, y=AQ21['PM10'], name = 'AQ21', xaxis=\"x2\",yaxis = 'y2'),\n",
    "row=1, col=1)\n",
    "fig.add_trace(go.Scatter(x=AQ22.index, y=AQ22['PM10'], name = 'AQ22', xaxis=\"x2\",yaxis = 'y2'),\n",
    "row=1, col=1)\n",
    "fig.add_trace(go.Scatter(x=AQ23.index, y=AQ23['PM10'], name = 'AQ23', xaxis=\"x2\",yaxis = 'y2'),\n",
    "row=1, col=1)\n",
    "fig.add_trace(go.Scatter(x=AQ24.index, y=AQ24['PM10'], name = 'AQ24', xaxis=\"x2\",yaxis = 'y2'),\n",
    "row=1, col=1)\n",
    "fig.add_trace(go.Scatter(x=AQ25.index, y=AQ25['PM10'], name = 'AQ25', xaxis=\"x2\",yaxis = 'y2'),\n",
    "row=1, col=1)\n",
    "fig.add_trace(go.Scatter(x=AQ30.index, y=AQ30['PM10'], name = 'AQ30', xaxis=\"x2\",yaxis = 'y2'),\n",
    "row=1, col=1)\n",
    "fig.add_trace(go.Scatter(x=AQ31.index, y=AQ31['PM10'], name = 'AQ31', xaxis=\"x2\",yaxis = 'y2'),\n",
    "row=1, col=1)\n",
    "fig.add_trace(go.Scatter(x=AQ32.index, y=AQ32['PM10'], name = 'AQ32', xaxis=\"x2\",yaxis = 'y2'),\n",
    "row=1, col=1)\n",
    "fig.add_trace(go.Scatter(x=AQ33.index, y=AQ33['PM10'], name = 'AQ33', xaxis=\"x2\",yaxis = 'y2'),\n",
    "row=1, col=1)\n",
    "fig.add_trace(go.Scatter(x=AQ34.index, y=AQ34['PM10'], name = 'AQ34', xaxis=\"x2\",yaxis = 'y2'),\n",
    "row=1, col=1)\n",
    "fig.add_trace(go.Scatter(x=AQ35.index, y=AQ35['PM10'], name = 'AQ35', xaxis=\"x2\",yaxis = 'y2'),\n",
    "row=1, col=1)\n",
    "fig.add_trace(go.Scatter(x=AQ36.index, y=AQ36['PM10'], name = 'AQ36', xaxis=\"x2\",yaxis = 'y2'),\n",
    "row=1, col=1)\n",
    "fig.add_trace(go.Scatter(x=AQ37.index, y=AQ37['PM10'], name = 'AQ37', xaxis=\"x2\",yaxis = 'y2'),\n",
    "row=1, col=1)\n",
    "fig.add_trace(go.Scatter(x=AQ38.index, y=AQ38['PM10'], name = 'AQ38', xaxis=\"x2\",yaxis = 'y2'),\n",
    "row=1, col=1)\n",
    "fig.add_trace(go.Scatter(x=AQ39.index, y=AQ39['PM10'], name = 'AQ39', xaxis=\"x2\",yaxis = 'y2'),\n",
    "row=1, col=1)\n",
    "fig.add_trace(go.Scatter(x=AQ40.index, y=AQ40['PM10'], name = 'AQ40', xaxis=\"x2\",yaxis = 'y2'),\n",
    "row=1, col=1)\n",
    "fig.add_trace(go.Scatter(x=AQ41.index, y=AQ41['PM10'], name = 'AQ41', xaxis=\"x2\",yaxis = 'y2'),\n",
    "row=1, col=1)\n",
    "fig.add_trace(go.Scatter(x=AQ42.index, y=AQ42['PM10'], name = 'AQ42', xaxis=\"x2\",yaxis = 'y2'),\n",
    "row=1, col=1)\n",
    "fig.add_trace(go.Scatter(x=AQ43.index, y=AQ43['PM10'], name = 'AQ43', xaxis=\"x2\",yaxis = 'y2'),\n",
    "row=1, col=1)\n",
    "fig.add_trace(go.Scatter(x=AQ44.index, y=AQ44['PM10'], name = 'AQ44', xaxis=\"x2\",yaxis = 'y2'),\n",
    "row=1, col=1)\n",
    "fig.add_trace(go.Scatter(x=AQ45.index, y=AQ45['PM10'], name = 'AQ45', xaxis=\"x2\",yaxis = 'y2'),\n",
    "row=1, col=1)\n",
    "fig.add_trace(go.Scatter(x=AQ46.index, y=AQ46['PM10'], name = 'AQ46', xaxis=\"x2\",yaxis = 'y2'),\n",
    "row=1, col=1)\n",
    "fig.add_trace(go.Scatter(x=AQ47.index, y=AQ47['PM10'], name = 'AQ47', xaxis=\"x2\",yaxis = 'y2'),\n",
    "row=1, col=1)\n",
    "fig.add_trace(go.Scatter(x=AQ49.index, y=AQ49['PM10'], name = 'AQ49', xaxis=\"x2\",yaxis = 'y2'),\n",
    "row=1, col=1)\n",
    "#fig.add_trace(go.Scatter(x=AQ50.index, y=AQ50['PM10'], name = 'AQ50', xaxis=\"x2\",yaxis = 'y2'),\n",
    "# row=1, col=1)\n",
    "\n",
    "\n",
    "\n",
    "\n",
    "\n",
    "\n",
    "\n",
    "fig.update_layout(height=600, width=1000,\n",
    "title_text=\"1 Week Avg of PM10 September\")\n",
    "\n",
    "\n",
    "\n",
    "\n",
    "\n",
    "# Create axis objects\n",
    "fig.update_layout(\n",
    "xaxis1=dict(title =\"Timestamp\",domain=[0.8, 0.7]),\n",
    "\n",
    "yaxis1 =dict(title=\"PM10\"),\n",
    "\n",
    "\n",
    ")\n",
    "\n",
    "\n",
    "\n",
    "# Update layout properties\n",
    "fig.update_layout(\n",
    "title_text=\"1 Week Avg of PM10 September\",\n",
    "width=800,\n",
    ")\n",
    "\n",
    "\n",
    "\n",
    "\n",
    "fig.show()\n",
    "fig.write_html(\"Sept_1Week_pm10.html\")"
   ]
  },
  {
   "cell_type": "code",
   "execution_count": 32,
   "metadata": {},
   "outputs": [],
   "source": [
    "fig = make_subplots(rows=1, cols=1,\n",
    "shared_xaxes=True,\n",
    "vertical_spacing=0.01)\n",
    "\n",
    "\n",
    "\n",
    "#fig.add_trace(go.Scatter(x=AQ12.index, y=AQ12['PM2.5'], name = 'AQ12', xaxis=\"x2\",yaxis = 'y2'),\n",
    "#row=1, col=1)\n",
    "fig.add_trace(go.Scatter(x=AQ13.index, y=AQ13['PM2.5'], name = 'AQ13', xaxis=\"x2\",yaxis = 'y2'),\n",
    "row=1, col=1)\n",
    "fig.add_trace(go.Scatter(x=AQ14.index, y=AQ14['PM2.5'], name = 'AQ14', xaxis=\"x2\",yaxis = 'y2'),\n",
    "row=1, col=1)\n",
    "fig.add_trace(go.Scatter(x=AQ15.index, y=AQ15['PM2.5'], name = 'AQ15', xaxis=\"x2\",yaxis = 'y2'),\n",
    "row=1, col=1)\n",
    "fig.add_trace(go.Scatter(x=AQ16.index, y=AQ16['PM2.5'], name = 'AQ16', xaxis=\"x2\",yaxis = 'y2'),\n",
    "row=1, col=1)\n",
    "fig.add_trace(go.Scatter(x=AQ17.index, y=AQ17['PM2.5'], name = 'AQ17', xaxis=\"x2\",yaxis = 'y2'),\n",
    "row=1, col=1)\n",
    "fig.add_trace(go.Scatter(x=AQ18.index, y=AQ18['PM2.5'], name = 'AQ18', xaxis=\"x2\",yaxis = 'y2'),\n",
    "row=1, col=1)\n",
    "fig.add_trace(go.Scatter(x=AQ19.index, y=AQ19['PM2.5'], name = 'AQ19', xaxis=\"x2\",yaxis = 'y2'),\n",
    "row=1, col=1)\n",
    "#fig.add_trace(go.Scatter(x=AQ20.index, y=AQ20['PM2.5'], name = 'AQ20', xaxis=\"x2\",yaxis = 'y2'),\n",
    "#row=1, col=1)\n",
    "fig.add_trace(go.Scatter(x=AQ21.index, y=AQ21['PM2.5'], name = 'AQ21', xaxis=\"x2\",yaxis = 'y2'),\n",
    "row=1, col=1)\n",
    "fig.add_trace(go.Scatter(x=AQ22.index, y=AQ22['PM2.5'], name = 'AQ22', xaxis=\"x2\",yaxis = 'y2'),\n",
    "row=1, col=1)\n",
    "fig.add_trace(go.Scatter(x=AQ23.index, y=AQ23['PM2.5'], name = 'AQ23', xaxis=\"x2\",yaxis = 'y2'),\n",
    "row=1, col=1)\n",
    "fig.add_trace(go.Scatter(x=AQ24.index, y=AQ24['PM2.5'], name = 'AQ24', xaxis=\"x2\",yaxis = 'y2'),\n",
    "row=1, col=1)\n",
    "fig.add_trace(go.Scatter(x=AQ25.index, y=AQ25['PM2.5'], name = 'AQ25', xaxis=\"x2\",yaxis = 'y2'),\n",
    "row=1, col=1)\n",
    "fig.add_trace(go.Scatter(x=AQ30.index, y=AQ30['PM2.5'], name = 'AQ30', xaxis=\"x2\",yaxis = 'y2'),\n",
    "row=1, col=1)\n",
    "fig.add_trace(go.Scatter(x=AQ31.index, y=AQ31['PM2.5'], name = 'AQ31', xaxis=\"x2\",yaxis = 'y2'),\n",
    "row=1, col=1)\n",
    "fig.add_trace(go.Scatter(x=AQ32.index, y=AQ32['PM2.5'], name = 'AQ32', xaxis=\"x2\",yaxis = 'y2'),\n",
    "row=1, col=1)\n",
    "fig.add_trace(go.Scatter(x=AQ33.index, y=AQ33['PM2.5'], name = 'AQ33', xaxis=\"x2\",yaxis = 'y2'),\n",
    "row=1, col=1)\n",
    "fig.add_trace(go.Scatter(x=AQ34.index, y=AQ34['PM2.5'], name = 'AQ34', xaxis=\"x2\",yaxis = 'y2'),\n",
    "row=1, col=1)\n",
    "fig.add_trace(go.Scatter(x=AQ35.index, y=AQ35['PM2.5'], name = 'AQ35', xaxis=\"x2\",yaxis = 'y2'),\n",
    "row=1, col=1)\n",
    "fig.add_trace(go.Scatter(x=AQ36.index, y=AQ36['PM2.5'], name = 'AQ36', xaxis=\"x2\",yaxis = 'y2'),\n",
    "row=1, col=1)\n",
    "fig.add_trace(go.Scatter(x=AQ37.index, y=AQ37['PM2.5'], name = 'AQ37', xaxis=\"x2\",yaxis = 'y2'),\n",
    "row=1, col=1)\n",
    "fig.add_trace(go.Scatter(x=AQ38.index, y=AQ38['PM2.5'], name = 'AQ38', xaxis=\"x2\",yaxis = 'y2'),\n",
    "row=1, col=1)\n",
    "fig.add_trace(go.Scatter(x=AQ39.index, y=AQ39['PM2.5'], name = 'AQ39', xaxis=\"x2\",yaxis = 'y2'),\n",
    "row=1, col=1)\n",
    "fig.add_trace(go.Scatter(x=AQ40.index, y=AQ40['PM2.5'], name = 'AQ40', xaxis=\"x2\",yaxis = 'y2'),\n",
    "row=1, col=1)\n",
    "fig.add_trace(go.Scatter(x=AQ41.index, y=AQ41['PM2.5'], name = 'AQ41', xaxis=\"x2\",yaxis = 'y2'),\n",
    "row=1, col=1)\n",
    "fig.add_trace(go.Scatter(x=AQ42.index, y=AQ42['PM2.5'], name = 'AQ42', xaxis=\"x2\",yaxis = 'y2'),\n",
    "row=1, col=1)\n",
    "fig.add_trace(go.Scatter(x=AQ43.index, y=AQ43['PM2.5'], name = 'AQ43', xaxis=\"x2\",yaxis = 'y2'),\n",
    "row=1, col=1)\n",
    "fig.add_trace(go.Scatter(x=AQ44.index, y=AQ44['PM2.5'], name = 'AQ44', xaxis=\"x2\",yaxis = 'y2'),\n",
    "row=1, col=1)\n",
    "fig.add_trace(go.Scatter(x=AQ45.index, y=AQ45['PM2.5'], name = 'AQ45', xaxis=\"x2\",yaxis = 'y2'),\n",
    "row=1, col=1)\n",
    "fig.add_trace(go.Scatter(x=AQ46.index, y=AQ46['PM2.5'], name = 'AQ46', xaxis=\"x2\",yaxis = 'y2'),\n",
    "row=1, col=1)\n",
    "fig.add_trace(go.Scatter(x=AQ47.index, y=AQ47['PM2.5'], name = 'AQ47', xaxis=\"x2\",yaxis = 'y2'),\n",
    "row=1, col=1)\n",
    "fig.add_trace(go.Scatter(x=AQ49.index, y=AQ49['PM2.5'], name = 'AQ49', xaxis=\"x2\",yaxis = 'y2'),\n",
    "row=1, col=1)\n",
    "#fig.add_trace(go.Scatter(x=AQ50.index, y=AQ50['PM2.5'], name = 'AQ50', xaxis=\"x2\",yaxis = 'y2'),\n",
    "#row=1, col=1)\n",
    "\n",
    "\n",
    "\n",
    "\n",
    "\n",
    "\n",
    "\n",
    "fig.update_layout(height=600, width=1000,\n",
    "title_text=\"1 Week Avg of PM2.5 September\")\n",
    "\n",
    "\n",
    "\n",
    "\n",
    "\n",
    "# Create axis objects\n",
    "fig.update_layout(\n",
    "xaxis1=dict(title =\"Timestamp\",domain=[0.8, 0.7]),\n",
    "\n",
    "yaxis1=dict(title=\"PM2.5\"),\n",
    "\n",
    "\n",
    ")\n",
    "\n",
    "\n",
    "\n",
    "# Update layout properties\n",
    "fig.update_layout(\n",
    "title_text=\"1 Week Avg of PM2.5 September\",\n",
    "width=800,\n",
    ")\n",
    "\n",
    "\n",
    "\n",
    "\n",
    "fig.write_html(\"Sept_1Week_pm25.html\")"
   ]
  },
  {
   "cell_type": "code",
   "execution_count": 33,
   "metadata": {},
   "outputs": [],
   "source": [
    "fig = make_subplots(rows=1, cols=1,\n",
    "shared_xaxes=True,\n",
    "vertical_spacing=0.01)\n",
    "\n",
    "\n",
    "\n",
    "#fig.add_trace(go.Scatter(x=AQ12.index, y=AQ12['Temperature'], name = 'AQ12', xaxis=\"x2\",yaxis = 'y2'),\n",
    "#row=1, col=1)\n",
    "fig.add_trace(go.Scatter(x=AQ13.index, y=AQ13['Temperature'], name = 'AQ13', xaxis=\"x2\",yaxis = 'y2'),\n",
    "row=1, col=1)\n",
    "fig.add_trace(go.Scatter(x=AQ14.index, y=AQ14['Temperature'], name = 'AQ14', xaxis=\"x2\",yaxis = 'y2'),\n",
    "row=1, col=1)\n",
    "fig.add_trace(go.Scatter(x=AQ15.index, y=AQ15['Temperature'], name = 'AQ15', xaxis=\"x2\",yaxis = 'y2'),\n",
    "row=1, col=1)\n",
    "fig.add_trace(go.Scatter(x=AQ16.index, y=AQ16['Temperature'], name = 'AQ16', xaxis=\"x2\",yaxis = 'y2'),\n",
    "row=1, col=1)\n",
    "fig.add_trace(go.Scatter(x=AQ17.index, y=AQ17['Temperature'], name = 'AQ17', xaxis=\"x2\",yaxis = 'y2'),\n",
    "row=1, col=1)\n",
    "fig.add_trace(go.Scatter(x=AQ18.index, y=AQ18['Temperature'], name = 'AQ18', xaxis=\"x2\",yaxis = 'y2'),\n",
    "row=1, col=1)\n",
    "fig.add_trace(go.Scatter(x=AQ19.index, y=AQ19['Temperature'], name = 'AQ19', xaxis=\"x2\",yaxis = 'y2'),\n",
    "row=1, col=1)\n",
    "#fig.add_trace(go.Scatter(x=AQ20.index, y=AQ20['Temperature'], name = 'AQ20', xaxis=\"x2\",yaxis = 'y2'),\n",
    "#row=1, col=1)\n",
    "fig.add_trace(go.Scatter(x=AQ21.index, y=AQ21['Temperature'], name = 'AQ21', xaxis=\"x2\",yaxis = 'y2'),\n",
    "row=1, col=1)\n",
    "fig.add_trace(go.Scatter(x=AQ22.index, y=AQ22['Temperature'], name = 'AQ22', xaxis=\"x2\",yaxis = 'y2'),\n",
    "row=1, col=1)\n",
    "fig.add_trace(go.Scatter(x=AQ23.index, y=AQ23['Temperature'], name = 'AQ23', xaxis=\"x2\",yaxis = 'y2'),\n",
    "row=1, col=1)\n",
    "fig.add_trace(go.Scatter(x=AQ24.index, y=AQ24['Temperature'], name = 'AQ24', xaxis=\"x2\",yaxis = 'y2'),\n",
    "row=1, col=1)\n",
    "fig.add_trace(go.Scatter(x=AQ25.index, y=AQ25['Temperature'], name = 'AQ25', xaxis=\"x2\",yaxis = 'y2'),\n",
    "row=1, col=1)\n",
    "fig.add_trace(go.Scatter(x=AQ30.index, y=AQ30['Temperature'], name = 'AQ30', xaxis=\"x2\",yaxis = 'y2'),\n",
    "row=1, col=1)\n",
    "fig.add_trace(go.Scatter(x=AQ31.index, y=AQ31['Temperature'], name = 'AQ31', xaxis=\"x2\",yaxis = 'y2'),\n",
    "row=1, col=1)\n",
    "fig.add_trace(go.Scatter(x=AQ32.index, y=AQ32['Temperature'], name = 'AQ32', xaxis=\"x2\",yaxis = 'y2'),\n",
    "row=1, col=1)\n",
    "fig.add_trace(go.Scatter(x=AQ33.index, y=AQ33['Temperature'], name = 'AQ33', xaxis=\"x2\",yaxis = 'y2'),\n",
    "row=1, col=1)\n",
    "fig.add_trace(go.Scatter(x=AQ34.index, y=AQ34['Temperature'], name = 'AQ34', xaxis=\"x2\",yaxis = 'y2'),\n",
    "row=1, col=1)\n",
    "fig.add_trace(go.Scatter(x=AQ35.index, y=AQ35['Temperature'], name = 'AQ35', xaxis=\"x2\",yaxis = 'y2'),\n",
    "row=1, col=1)\n",
    "fig.add_trace(go.Scatter(x=AQ36.index, y=AQ36['Temperature'], name = 'AQ36', xaxis=\"x2\",yaxis = 'y2'),\n",
    "row=1, col=1)\n",
    "fig.add_trace(go.Scatter(x=AQ37.index, y=AQ37['Temperature'], name = 'AQ37', xaxis=\"x2\",yaxis = 'y2'),\n",
    "row=1, col=1)\n",
    "fig.add_trace(go.Scatter(x=AQ38.index, y=AQ38['Temperature'], name = 'AQ38', xaxis=\"x2\",yaxis = 'y2'),\n",
    "row=1, col=1)\n",
    "fig.add_trace(go.Scatter(x=AQ39.index, y=AQ39['Temperature'], name = 'AQ39', xaxis=\"x2\",yaxis = 'y2'),\n",
    "row=1, col=1)\n",
    "fig.add_trace(go.Scatter(x=AQ40.index, y=AQ40['Temperature'], name = 'AQ40', xaxis=\"x2\",yaxis = 'y2'),\n",
    "row=1, col=1)\n",
    "fig.add_trace(go.Scatter(x=AQ41.index, y=AQ41['Temperature'], name = 'AQ41', xaxis=\"x2\",yaxis = 'y2'),\n",
    "row=1, col=1)\n",
    "fig.add_trace(go.Scatter(x=AQ42.index, y=AQ42['Temperature'], name = 'AQ42', xaxis=\"x2\",yaxis = 'y2'),\n",
    "row=1, col=1)\n",
    "fig.add_trace(go.Scatter(x=AQ43.index, y=AQ43['Temperature'], name = 'AQ43', xaxis=\"x2\",yaxis = 'y2'),\n",
    "row=1, col=1)\n",
    "fig.add_trace(go.Scatter(x=AQ44.index, y=AQ44['Temperature'], name = 'AQ44', xaxis=\"x2\",yaxis = 'y2'),\n",
    "row=1, col=1)\n",
    "fig.add_trace(go.Scatter(x=AQ45.index, y=AQ45['Temperature'], name = 'AQ45', xaxis=\"x2\",yaxis = 'y2'),\n",
    "row=1, col=1)\n",
    "fig.add_trace(go.Scatter(x=AQ46.index, y=AQ46['Temperature'], name = 'AQ46', xaxis=\"x2\",yaxis = 'y2'),\n",
    "row=1, col=1)\n",
    "fig.add_trace(go.Scatter(x=AQ47.index, y=AQ47['Temperature'], name = 'AQ47', xaxis=\"x2\",yaxis = 'y2'),\n",
    "row=1, col=1)\n",
    "fig.add_trace(go.Scatter(x=AQ49.index, y=AQ49['Temperature'], name = 'AQ49', xaxis=\"x2\",yaxis = 'y2'),\n",
    "row=1, col=1)\n",
    "#fig.add_trace(go.Scatter(x=AQ50.index, y=AQ50['Temperature'], name = 'AQ50', xaxis=\"x2\",yaxis = 'y2'),\n",
    "#row=1, col=1)\n",
    "\n",
    "\n",
    "\n",
    "\n",
    "\n",
    "\n",
    "\n",
    "fig.update_layout(height=600, width=1000,\n",
    "title_text=\"1 Week Avg of Temperature September\")\n",
    "\n",
    "\n",
    "\n",
    "\n",
    "\n",
    "# Create axis objects\n",
    "fig.update_layout(\n",
    "xaxis1=dict(title =\"Timestamp\",domain=[0.8, 0.7]),\n",
    "\n",
    "yaxis1=dict(title='Temperature'),\n",
    "\n",
    "\n",
    ")\n",
    "\n",
    "\n",
    "\n",
    "# Update layout properties\n",
    "fig.update_layout(\n",
    "title_text=\"1 Week Avg of Temperature September\",\n",
    "width=800,\n",
    ")\n",
    "\n",
    "\n",
    "\n",
    "\n",
    "fig.write_html(\"Sept_1Week_Temperature.html\")"
   ]
  },
  {
   "cell_type": "code",
   "execution_count": 34,
   "metadata": {},
   "outputs": [],
   "source": [
    "fig = make_subplots(rows=1, cols=1,\n",
    "shared_xaxes=True,\n",
    "vertical_spacing=0.01)\n",
    "\n",
    "\n",
    "\n",
    "#fig.add_trace(go.Scatter(x=AQ12.index, y=AQ12['RH'], name = 'AQ12', xaxis=\"x2\",yaxis = 'y2'),\n",
    "#row=1, col=1)\n",
    "fig.add_trace(go.Scatter(x=AQ13.index, y=AQ13['RH'], name = 'AQ13', xaxis=\"x2\",yaxis = 'y2'),\n",
    "row=1, col=1)\n",
    "fig.add_trace(go.Scatter(x=AQ14.index, y=AQ14['RH'], name = 'AQ14', xaxis=\"x2\",yaxis = 'y2'),\n",
    "row=1, col=1)\n",
    "fig.add_trace(go.Scatter(x=AQ15.index, y=AQ15['RH'], name = 'AQ15', xaxis=\"x2\",yaxis = 'y2'),\n",
    "row=1, col=1)\n",
    "fig.add_trace(go.Scatter(x=AQ16.index, y=AQ16['RH'], name = 'AQ16', xaxis=\"x2\",yaxis = 'y2'),\n",
    "row=1, col=1)\n",
    "fig.add_trace(go.Scatter(x=AQ17.index, y=AQ17['RH'], name = 'AQ17', xaxis=\"x2\",yaxis = 'y2'),\n",
    "row=1, col=1)\n",
    "fig.add_trace(go.Scatter(x=AQ18.index, y=AQ18['RH'], name = 'AQ18', xaxis=\"x2\",yaxis = 'y2'),\n",
    "row=1, col=1)\n",
    "fig.add_trace(go.Scatter(x=AQ19.index, y=AQ19['RH'], name = 'AQ19', xaxis=\"x2\",yaxis = 'y2'),\n",
    "row=1, col=1)\n",
    "#fig.add_trace(go.Scatter(x=AQ20.index, y=AQ20['RH'], name = 'AQ20', xaxis=\"x2\",yaxis = 'y2'),\n",
    "#row=1, col=1)\n",
    "fig.add_trace(go.Scatter(x=AQ21.index, y=AQ21['RH'], name = 'AQ21', xaxis=\"x2\",yaxis = 'y2'),\n",
    "row=1, col=1)\n",
    "fig.add_trace(go.Scatter(x=AQ22.index, y=AQ22['RH'], name = 'AQ22', xaxis=\"x2\",yaxis = 'y2'),\n",
    "row=1, col=1)\n",
    "fig.add_trace(go.Scatter(x=AQ23.index, y=AQ23['RH'], name = 'AQ23', xaxis=\"x2\",yaxis = 'y2'),\n",
    "row=1, col=1)\n",
    "fig.add_trace(go.Scatter(x=AQ24.index, y=AQ24['RH'], name = 'AQ24', xaxis=\"x2\",yaxis = 'y2'),\n",
    "row=1, col=1)\n",
    "fig.add_trace(go.Scatter(x=AQ25.index, y=AQ25['RH'], name = 'AQ25', xaxis=\"x2\",yaxis = 'y2'),\n",
    "row=1, col=1)\n",
    "fig.add_trace(go.Scatter(x=AQ30.index, y=AQ30['RH'], name = 'AQ30', xaxis=\"x2\",yaxis = 'y2'),\n",
    "row=1, col=1)\n",
    "fig.add_trace(go.Scatter(x=AQ31.index, y=AQ31['RH'], name = 'AQ31', xaxis=\"x2\",yaxis = 'y2'),\n",
    "row=1, col=1)\n",
    "fig.add_trace(go.Scatter(x=AQ32.index, y=AQ32['RH'], name = 'AQ32', xaxis=\"x2\",yaxis = 'y2'),\n",
    "row=1, col=1)\n",
    "fig.add_trace(go.Scatter(x=AQ33.index, y=AQ33['RH'], name = 'AQ33', xaxis=\"x2\",yaxis = 'y2'),\n",
    "row=1, col=1)\n",
    "fig.add_trace(go.Scatter(x=AQ34.index, y=AQ34['RH'], name = 'AQ34', xaxis=\"x2\",yaxis = 'y2'),\n",
    "row=1, col=1)\n",
    "fig.add_trace(go.Scatter(x=AQ35.index, y=AQ35['RH'], name = 'AQ35', xaxis=\"x2\",yaxis = 'y2'),\n",
    "row=1, col=1)\n",
    "fig.add_trace(go.Scatter(x=AQ36.index, y=AQ36['RH'], name = 'AQ36', xaxis=\"x2\",yaxis = 'y2'),\n",
    "row=1, col=1)\n",
    "fig.add_trace(go.Scatter(x=AQ37.index, y=AQ37['RH'], name = 'AQ37', xaxis=\"x2\",yaxis = 'y2'),\n",
    "row=1, col=1)\n",
    "fig.add_trace(go.Scatter(x=AQ38.index, y=AQ38['RH'], name = 'AQ38', xaxis=\"x2\",yaxis = 'y2'),\n",
    "row=1, col=1)\n",
    "fig.add_trace(go.Scatter(x=AQ39.index, y=AQ39['RH'], name = 'AQ39', xaxis=\"x2\",yaxis = 'y2'),\n",
    "row=1, col=1)\n",
    "fig.add_trace(go.Scatter(x=AQ40.index, y=AQ40['RH'], name = 'AQ40', xaxis=\"x2\",yaxis = 'y2'),\n",
    "row=1, col=1)\n",
    "fig.add_trace(go.Scatter(x=AQ41.index, y=AQ41['RH'], name = 'AQ41', xaxis=\"x2\",yaxis = 'y2'),\n",
    "row=1, col=1)\n",
    "fig.add_trace(go.Scatter(x=AQ42.index, y=AQ42['RH'], name = 'AQ42', xaxis=\"x2\",yaxis = 'y2'),\n",
    "row=1, col=1)\n",
    "fig.add_trace(go.Scatter(x=AQ43.index, y=AQ43['RH'], name = 'AQ43', xaxis=\"x2\",yaxis = 'y2'),\n",
    "row=1, col=1)\n",
    "fig.add_trace(go.Scatter(x=AQ44.index, y=AQ44['RH'], name = 'AQ44', xaxis=\"x2\",yaxis = 'y2'),\n",
    "row=1, col=1)\n",
    "fig.add_trace(go.Scatter(x=AQ45.index, y=AQ45['RH'], name = 'AQ45', xaxis=\"x2\",yaxis = 'y2'),\n",
    "row=1, col=1)\n",
    "fig.add_trace(go.Scatter(x=AQ46.index, y=AQ46['RH'], name = 'AQ46', xaxis=\"x2\",yaxis = 'y2'),\n",
    "row=1, col=1)\n",
    "fig.add_trace(go.Scatter(x=AQ47.index, y=AQ47['RH'], name = 'AQ47', xaxis=\"x2\",yaxis = 'y2'),\n",
    "row=1, col=1)\n",
    "fig.add_trace(go.Scatter(x=AQ49.index, y=AQ49['RH'], name = 'AQ49', xaxis=\"x2\",yaxis = 'y2'),\n",
    "row=1, col=1)\n",
    "#fig.add_trace(go.Scatter(x=AQ50.index, y=AQ50['RH'], name = 'AQ50', xaxis=\"x2\",yaxis = 'y2'),\n",
    "#row=1, col=1)\n",
    "\n",
    "\n",
    "\n",
    "\n",
    "\n",
    "\n",
    "\n",
    "fig.update_layout(height=600, width=1000,\n",
    "title_text=\"1 Week Avg of RH September\")\n",
    "\n",
    "\n",
    "\n",
    "\n",
    "\n",
    "# Create axis objects\n",
    "fig.update_layout(\n",
    "xaxis1=dict(title =\"Timestamp\",domain=[0.8, 0.7]),\n",
    "\n",
    "yaxis1=dict(title='RH'),\n",
    "\n",
    "\n",
    ")\n",
    "\n",
    "\n",
    "\n",
    "# Update layout properties\n",
    "fig.update_layout(\n",
    "title_text=\"1 Week Avg of RH September\",\n",
    "width=800,\n",
    ")\n",
    "\n",
    "\n",
    "\n",
    "\n",
    "fig.write_html(\"Sept_1Week_RH.html\")"
   ]
  },
  {
   "cell_type": "markdown",
   "metadata": {},
   "source": [
    "## 1 Hour Average"
   ]
  },
  {
   "cell_type": "code",
   "execution_count": 17,
   "metadata": {},
   "outputs": [],
   "source": [
    "#AQ12 = renaming_columns_avg(AQ12, 'H')\n",
    "AQ13 = renaming_columns_avg(AQ13, 'H')\n",
    "AQ14 = renaming_columns_avg(AQ14, 'H')\n",
    "AQ15 = renaming_columns_avg(AQ15, 'H')\n",
    "AQ16 = renaming_columns_avg(AQ16, 'H')\n",
    "AQ17 = renaming_columns_avg(AQ17, 'H')\n",
    "AQ18 = renaming_columns_avg(AQ18, 'H')\n",
    "AQ19 = renaming_columns_avg(AQ19, 'H')\n",
    "#AQ20 = renaming_columns_avg(AQ20, 'H')\n",
    "AQ21 = renaming_columns_avg(AQ21, 'H')\n",
    "AQ22 = renaming_columns_avg(AQ22, 'H')\n",
    "AQ23 = renaming_columns_avg(AQ23, 'H')\n",
    "AQ24 = renaming_columns_avg(AQ24, 'H')\n",
    "AQ25 = renaming_columns_avg(AQ25, 'H')\n",
    "AQ26 = renaming_columns_avg(AQ26, 'H')\n",
    "AQ30 = renaming_columns_avg(AQ30, 'H')\n",
    "AQ31 = renaming_columns_avg(AQ31, 'H')\n",
    "AQ32 = renaming_columns_avg(AQ32, 'H')\n",
    "AQ33 = renaming_columns_avg(AQ33, 'H')\n",
    "AQ34 = renaming_columns_avg(AQ34, 'H')\n",
    "AQ35 = renaming_columns_avg(AQ35, 'H')\n",
    "AQ36 = renaming_columns_avg(AQ36, 'H')\n",
    "AQ37 = renaming_columns_avg(AQ37, 'H')\n",
    "AQ38 = renaming_columns_avg(AQ38, 'H')\n",
    "AQ39 = renaming_columns_avg(AQ39, 'H')\n",
    "AQ40 = renaming_columns_avg(AQ40, 'H')\n",
    "AQ41 = renaming_columns_avg(AQ41, 'H')\n",
    "AQ42 = renaming_columns_avg(AQ42, 'H')\n",
    "AQ43 = renaming_columns_avg(AQ43, 'H')\n",
    "AQ44 = renaming_columns_avg(AQ44, 'H')\n",
    "AQ45 = renaming_columns_avg(AQ45, 'H')\n",
    "AQ46 = renaming_columns_avg(AQ46, 'H')\n",
    "AQ47 = renaming_columns_avg(AQ47, 'H')\n",
    "AQ49 = renaming_columns_avg(AQ49, 'H')\n",
    "#AQ50 = renaming_columns_avg(AQ50, 'H')"
   ]
  },
  {
   "cell_type": "markdown",
   "metadata": {},
   "source": [
    "# 1 Day Average"
   ]
  },
  {
   "cell_type": "code",
   "execution_count": 23,
   "metadata": {},
   "outputs": [],
   "source": [
    "#AQ12 = renaming_columns_avg(AQ12, 'D')\n",
    "AQ13 = renaming_columns_avg(AQ13, 'D')\n",
    "AQ14 = renaming_columns_avg(AQ14, 'D')\n",
    "AQ15 = renaming_columns_avg(AQ15, 'D')\n",
    "AQ16 = renaming_columns_avg(AQ16, 'D')\n",
    "AQ17 = renaming_columns_avg(AQ17, 'D')\n",
    "AQ18 = renaming_columns_avg(AQ18, 'D')\n",
    "AQ19 = renaming_columns_avg(AQ19, 'D')\n",
    "#AQ20 = renaming_columns_avg(AQ20, 'D')\n",
    "AQ21 = renaming_columns_avg(AQ21, 'D')\n",
    "AQ22 = renaming_columns_avg(AQ22, 'D')\n",
    "AQ23 = renaming_columns_avg(AQ23, 'D')\n",
    "AQ24 = renaming_columns_avg(AQ24, 'D')\n",
    "AQ25 = renaming_columns_avg(AQ25, 'D')\n",
    "AQ26 = renaming_columns_avg(AQ26, 'D')\n",
    "AQ30 = renaming_columns_avg(AQ30, 'D')\n",
    "AQ31 = renaming_columns_avg(AQ31, 'D')\n",
    "AQ32 = renaming_columns_avg(AQ32, 'D')\n",
    "AQ33 = renaming_columns_avg(AQ33, 'D')\n",
    "AQ34 = renaming_columns_avg(AQ34, 'D')\n",
    "AQ35 = renaming_columns_avg(AQ35, 'D')\n",
    "AQ36 = renaming_columns_avg(AQ36, 'D')\n",
    "AQ37 = renaming_columns_avg(AQ37, 'D')\n",
    "AQ38 = renaming_columns_avg(AQ38, 'D')\n",
    "AQ39 = renaming_columns_avg(AQ39, 'D')\n",
    "AQ40 = renaming_columns_avg(AQ40, 'D')\n",
    "AQ41 = renaming_columns_avg(AQ41, 'D')\n",
    "AQ42 = renaming_columns_avg(AQ42, 'D')\n",
    "AQ43 = renaming_columns_avg(AQ43, 'D')\n",
    "AQ44 = renaming_columns_avg(AQ44, 'D')\n",
    "AQ45 = renaming_columns_avg(AQ45, 'D')\n",
    "AQ46 = renaming_columns_avg(AQ46, 'D')\n",
    "AQ47 = renaming_columns_avg(AQ47, 'D')\n",
    "AQ49 = renaming_columns_avg(AQ49, 'D')\n",
    "#AQ50 = renaming_columns_avg(AQ50, 'D')"
   ]
  },
  {
   "cell_type": "markdown",
   "metadata": {},
   "source": [
    "# 1 Week Average"
   ]
  },
  {
   "cell_type": "code",
   "execution_count": 30,
   "metadata": {},
   "outputs": [],
   "source": [
    "#AQ12 = renaming_columns_avg(AQ12, 'W')\n",
    "AQ13 = renaming_columns_avg(AQ13, 'W')\n",
    "AQ14 = renaming_columns_avg(AQ14, 'W')\n",
    "AQ15 = renaming_columns_avg(AQ15, 'W')\n",
    "AQ16 = renaming_columns_avg(AQ16, 'W')\n",
    "AQ17 = renaming_columns_avg(AQ17, 'W')\n",
    "AQ18 = renaming_columns_avg(AQ18, 'W')\n",
    "AQ19 = renaming_columns_avg(AQ19, 'W')\n",
    "#AQ20 = renaming_columns_avg(AQ20, 'W')\n",
    "AQ21 = renaming_columns_avg(AQ21, 'W')\n",
    "AQ22 = renaming_columns_avg(AQ22, 'W')\n",
    "AQ23 = renaming_columns_avg(AQ23, 'W')\n",
    "AQ24 = renaming_columns_avg(AQ24, 'W')\n",
    "AQ25 = renaming_columns_avg(AQ25, 'W')\n",
    "AQ26 = renaming_columns_avg(AQ26, 'W')\n",
    "AQ30 = renaming_columns_avg(AQ30, 'W')\n",
    "AQ31 = renaming_columns_avg(AQ31, 'W')\n",
    "AQ32 = renaming_columns_avg(AQ32, 'W')\n",
    "AQ33 = renaming_columns_avg(AQ33, 'W')\n",
    "AQ34 = renaming_columns_avg(AQ34, 'W')\n",
    "AQ35 = renaming_columns_avg(AQ35, 'W')\n",
    "AQ36 = renaming_columns_avg(AQ36, 'W')\n",
    "AQ37 = renaming_columns_avg(AQ37, 'W')\n",
    "AQ38 = renaming_columns_avg(AQ38, 'W')\n",
    "AQ39 = renaming_columns_avg(AQ39, 'W')\n",
    "AQ40 = renaming_columns_avg(AQ40, 'W')\n",
    "AQ41 = renaming_columns_avg(AQ41, 'W')\n",
    "AQ42 = renaming_columns_avg(AQ42, 'W')\n",
    "AQ43 = renaming_columns_avg(AQ43, 'W')\n",
    "AQ44 = renaming_columns_avg(AQ44, 'W')\n",
    "AQ45 = renaming_columns_avg(AQ45, 'W')\n",
    "AQ46 = renaming_columns_avg(AQ46, 'W')\n",
    "AQ47 = renaming_columns_avg(AQ47, 'W')\n",
    "AQ49 = renaming_columns_avg(AQ49, 'W')\n",
    "#AQ50 = renaming_columns_avg(AQ50, 'W')"
   ]
  },
  {
   "cell_type": "code",
   "execution_count": null,
   "metadata": {},
   "outputs": [],
   "source": []
  }
 ],
 "metadata": {
  "kernelspec": {
   "display_name": "Python 3",
   "language": "python",
   "name": "python3"
  },
  "language_info": {
   "codemirror_mode": {
    "name": "ipython",
    "version": 3
   },
   "file_extension": ".py",
   "mimetype": "text/x-python",
   "name": "python",
   "nbconvert_exporter": "python",
   "pygments_lexer": "ipython3",
   "version": "3.8.5"
  }
 },
 "nbformat": 4,
 "nbformat_minor": 4
}
