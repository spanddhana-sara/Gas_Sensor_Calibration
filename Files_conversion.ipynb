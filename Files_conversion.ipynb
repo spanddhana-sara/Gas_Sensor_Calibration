{
 "cells": [
  {
   "cell_type": "markdown",
   "metadata": {},
   "source": [
    "# Json to CSV conversion"
   ]
  },
  {
   "cell_type": "code",
   "execution_count": 1,
   "metadata": {},
   "outputs": [
    {
     "name": "stderr",
     "output_type": "stream",
     "text": [
      "<ipython-input-1-8888d702a53f>:10: FutureWarning: pandas.io.json.json_normalize is deprecated, use pandas.json_normalize instead\n",
      "  df1 = json_normalize(data)\n"
     ]
    }
   ],
   "source": [
    "import pandas as pd\n",
    "import json\n",
    "from pandas.io.json import json_normalize\n",
    "from datetime import datetime\n",
    "import time\n",
    "\n",
    "\n",
    "# Device 1(D0:31:F7:A1:15:76)\n",
    "data = [json.loads(line) for line in open('device1_data_2sep.json', 'r')]\n",
    "df1 = json_normalize(data)\n",
    "t= []\n",
    "epoch_time = df1['data.timestamp'].astype(int)\n",
    "time_formatted = epoch_time.apply(lambda t: time.strftime('%Y-%m-%d %H:%M:%S', time.localtime(t/1000.0)))\n",
    "df1 = df1.drop(columns = {'receivedTimestamp', 'key'})\n",
    "df1.insert(0, 'Date Time',time_formatted)\n",
    "df1.tail()\n",
    "df1.to_csv('device1_data_2sep.csv')"
   ]
  },
  {
   "cell_type": "code",
   "execution_count": 2,
   "metadata": {},
   "outputs": [
    {
     "name": "stderr",
     "output_type": "stream",
     "text": [
      "<ipython-input-2-84857e89b741>:3: FutureWarning: pandas.io.json.json_normalize is deprecated, use pandas.json_normalize instead\n",
      "  df1 = json_normalize(data)\n"
     ]
    }
   ],
   "source": [
    "# Device 2(D0:31:F7:A1:15:76)\n",
    "data = [json.loads(line) for line in open('device2_data_2sep.json', 'r')]\n",
    "df1 = json_normalize(data)\n",
    "t= []\n",
    "epoch_time = df1['data.timestamp'].astype(int)\n",
    "time_formatted = epoch_time.apply(lambda t: time.strftime('%Y-%m-%d %H:%M:%S', time.localtime(t/1000.0)))\n",
    "df1 = df1.drop(columns = {'receivedTimestamp', 'key'})\n",
    "df1.insert(0, 'Date Time',time_formatted)\n",
    "df1.tail()\n",
    "df1.to_csv('device2_data_2sep.csv', index = False)"
   ]
  },
  {
   "cell_type": "code",
   "execution_count": 3,
   "metadata": {},
   "outputs": [
    {
     "name": "stderr",
     "output_type": "stream",
     "text": [
      "<ipython-input-3-198fdb0fd912>:3: FutureWarning: pandas.io.json.json_normalize is deprecated, use pandas.json_normalize instead\n",
      "  df1 = json_normalize(data)\n"
     ]
    }
   ],
   "source": [
    "# Device 3(D0:31:F7:A1:15:76)\n",
    "data = [json.loads(line) for line in open('device3_data_2sep.json', 'r')]\n",
    "df1 = json_normalize(data)\n",
    "t= []\n",
    "epoch_time = df1['data.timestamp'].astype(int)\n",
    "time_formatted = epoch_time.apply(lambda t: time.strftime('%Y-%m-%d %H:%M:%S', time.localtime(t/1000.0)))\n",
    "df1 = df1.drop(columns = {'receivedTimestamp', 'key'})\n",
    "df1.insert(0, 'Date Time',time_formatted)\n",
    "df1.tail()\n",
    "df1.to_csv('device3_data_2sep.csv', index = False)"
   ]
  },
  {
   "cell_type": "markdown",
   "metadata": {},
   "source": [
    "# Aeroqual and Megasense Data combined"
   ]
  },
  {
   "cell_type": "markdown",
   "metadata": {},
   "source": [
    "## Laboratory NO2 Data"
   ]
  },
  {
   "cell_type": "code",
   "execution_count": 10,
   "metadata": {},
   "outputs": [],
   "source": [
    "d1 = pd.read_csv(\"Megasense_device76//device1_data_2sep.csv\",parse_dates=['Date Time'])\n",
    "d2 = pd.read_csv(\"Megasense_device61//device2_data_2sep.csv\", parse_dates=['Date Time'])\n"
   ]
  },
  {
   "cell_type": "code",
   "execution_count": 11,
   "metadata": {},
   "outputs": [
    {
     "name": "stdout",
     "output_type": "stream",
     "text": [
      "Date Time       datetime64[ns]\n",
      " Monitor ID              int64\n",
      " Location ID             int64\n",
      " NO2(ppm)              float64\n",
      "NO2_ppb                  int64\n",
      "dtype: object\n",
      "            Date Time   Monitor ID   Location ID   NO2(ppm)  NO2_ppb\n",
      "0 2021-06-22 10:49:00            1             1      0.023       23\n",
      "1 2021-06-22 10:50:00            1             1      0.013       13\n",
      "2 2021-06-22 10:51:00            1             1      0.017       17\n",
      "3 2021-06-22 10:52:00            1             1      0.017       17\n",
      "4 2021-06-22 10:53:00            1             1      0.018       18\n"
     ]
    }
   ],
   "source": [
    "# Laboratory NO2\n",
    "aero = pd.read_csv(\"Data//Aeroqual_NO2.csv\",parse_dates=['Date Time'])\n",
    "print(aero.dtypes)\n",
    "print(aero.head())\n"
   ]
  },
  {
   "cell_type": "code",
   "execution_count": 16,
   "metadata": {},
   "outputs": [],
   "source": [
    "d1.set_index(\"Date Time\", inplace = True)\n",
    "D1 = d1.resample('T').mean().round(3)\n",
    "d2.set_index(\"Date Time\", inplace = True)\n",
    "D2 = d2.resample('T').mean().round(3)"
   ]
  },
  {
   "cell_type": "code",
   "execution_count": 17,
   "metadata": {},
   "outputs": [
    {
     "name": "stdout",
     "output_type": "stream",
     "text": [
      "                     Unnamed: 0  data.temp_c  data.hum_prcnt  data.press_hpa  \\\n",
      "Date Time                                                                      \n",
      "2021-07-19 15:00:00         0.5       30.635          54.945         935.490   \n",
      "2021-07-19 15:01:00         2.0       30.430          55.417         935.476   \n",
      "2021-07-19 15:02:00         NaN          NaN             NaN             NaN   \n",
      "2021-07-19 15:03:00         3.0       30.330          55.816         935.434   \n",
      "2021-07-19 15:04:00         4.5       30.250          56.131         935.397   \n",
      "\n",
      "                     data.eq_db  data.onesmin_db  data.onesmax_db  \\\n",
      "Date Time                                                           \n",
      "2021-07-19 15:00:00      41.351           39.411           48.490   \n",
      "2021-07-19 15:01:00      44.281           40.191           55.782   \n",
      "2021-07-19 15:02:00         NaN              NaN              NaN   \n",
      "2021-07-19 15:03:00      54.582           39.780           73.578   \n",
      "2021-07-19 15:04:00      49.205           40.016           66.113   \n",
      "\n",
      "                     data.co_ppm  data.no2_ppb  data.co_mv  ...  data.leds_on  \\\n",
      "Date Time                                                   ...                 \n",
      "2021-07-19 15:00:00        462.5        2547.5      1796.0  ...           1.0   \n",
      "2021-07-19 15:01:00        465.0        2496.0      1805.0  ...           1.0   \n",
      "2021-07-19 15:02:00          NaN           NaN         NaN  ...           NaN   \n",
      "2021-07-19 15:03:00        469.0        2400.0      1815.0  ...           1.0   \n",
      "2021-07-19 15:04:00        642.0        2526.5      2301.5  ...           1.0   \n",
      "\n",
      "                     data.code_version  data.gps_avg_snr  \\\n",
      "Date Time                                                  \n",
      "2021-07-19 15:00:00                1.0               0.0   \n",
      "2021-07-19 15:01:00                1.0               0.0   \n",
      "2021-07-19 15:02:00                NaN               NaN   \n",
      "2021-07-19 15:03:00                1.0               0.0   \n",
      "2021-07-19 15:04:00                1.0               0.0   \n",
      "\n",
      "                     data.cell_strength_dbm  data.wifi_strength_dbm  \\\n",
      "Date Time                                                             \n",
      "2021-07-19 15:00:00                   -97.5                   -85.5   \n",
      "2021-07-19 15:01:00                   -94.0                   -86.0   \n",
      "2021-07-19 15:02:00                     NaN                     NaN   \n",
      "2021-07-19 15:03:00                   -97.0                   -86.0   \n",
      "2021-07-19 15:04:00                   -96.5                   -87.5   \n",
      "\n",
      "                     data.wifi_strength_asl  data.location.lat  \\\n",
      "Date Time                                                        \n",
      "2021-07-19 15:00:00                     1.0             17.445   \n",
      "2021-07-19 15:01:00                     1.0             17.445   \n",
      "2021-07-19 15:02:00                     NaN                NaN   \n",
      "2021-07-19 15:03:00                     1.0             17.445   \n",
      "2021-07-19 15:04:00                     0.5             17.445   \n",
      "\n",
      "                     data.location.lon  data.location.acc  data.timestamp  \n",
      "Date Time                                                                  \n",
      "2021-07-19 15:00:00              78.35             14.711    1.626687e+12  \n",
      "2021-07-19 15:01:00              78.35             15.851    1.626687e+12  \n",
      "2021-07-19 15:02:00                NaN                NaN             NaN  \n",
      "2021-07-19 15:03:00              78.35             15.615    1.626687e+12  \n",
      "2021-07-19 15:04:00              78.35             15.432    1.626687e+12  \n",
      "\n",
      "[5 rows x 55 columns]\n",
      "                     data.temp_c  data.hum_prcnt  data.press_hpa  data.eq_db  \\\n",
      "Date Time                                                                      \n",
      "2021-06-17 15:32:00        28.61          39.587         935.927      56.352   \n",
      "2021-06-17 15:33:00        28.80          39.513         935.951      61.767   \n",
      "2021-06-17 15:34:00        28.96          38.836         935.956      64.295   \n",
      "2021-06-17 15:35:00        29.01          38.384         935.912      61.676   \n",
      "2021-06-17 15:36:00        29.03          38.272         935.935      62.543   \n",
      "\n",
      "                     data.onesmin_db  data.onesmax_db  data.co_ppm  \\\n",
      "Date Time                                                            \n",
      "2021-06-17 15:32:00           46.254           66.106        471.0   \n",
      "2021-06-17 15:33:00           46.646           72.002        471.0   \n",
      "2021-06-17 15:34:00           47.092           75.892        472.0   \n",
      "2021-06-17 15:35:00           46.992           74.429        476.0   \n",
      "2021-06-17 15:36:00           47.308           73.534        476.0   \n",
      "\n",
      "                     data.no2_ppb  data.co_mv  data.no2_mv  ...  data.leds_on  \\\n",
      "Date Time                                                   ...                 \n",
      "2021-06-17 15:32:00        2557.0      1820.0       1218.0  ...           1.0   \n",
      "2021-06-17 15:33:00        2560.0      1817.0       1213.5  ...           1.0   \n",
      "2021-06-17 15:34:00        2557.0      1821.0       1215.0  ...           1.0   \n",
      "2021-06-17 15:35:00        2603.0      1831.0       1224.0  ...           1.0   \n",
      "2021-06-17 15:36:00        2606.5      1832.0       1229.5  ...           1.0   \n",
      "\n",
      "                     data.code_version  data.gps_avg_snr  \\\n",
      "Date Time                                                  \n",
      "2021-06-17 15:32:00                1.0            25.350   \n",
      "2021-06-17 15:33:00                1.0            23.885   \n",
      "2021-06-17 15:34:00                1.0            23.300   \n",
      "2021-06-17 15:35:00                1.0            23.300   \n",
      "2021-06-17 15:36:00                1.0            27.644   \n",
      "\n",
      "                     data.cell_strength_dbm  data.wifi_strength_dbm  \\\n",
      "Date Time                                                             \n",
      "2021-06-17 15:32:00           -5.100000e+01                   -29.0   \n",
      "2021-06-17 15:33:00           -5.800000e+01                   -41.0   \n",
      "2021-06-17 15:34:00                     NaN                   -48.0   \n",
      "2021-06-17 15:35:00                     NaN                   -53.0   \n",
      "2021-06-17 15:36:00            1.073742e+09                   -52.5   \n",
      "\n",
      "                     data.wifi_strength_asl  data.location.lat  \\\n",
      "Date Time                                                        \n",
      "2021-06-17 15:32:00                     4.0             17.445   \n",
      "2021-06-17 15:33:00                     4.0             17.445   \n",
      "2021-06-17 15:34:00                     4.0             17.446   \n",
      "2021-06-17 15:35:00                     4.0             17.446   \n",
      "2021-06-17 15:36:00                     4.0             17.445   \n",
      "\n",
      "                     data.location.lon  data.location.acc  data.timestamp  \n",
      "Date Time                                                                  \n",
      "2021-06-17 15:32:00              78.35                4.8    1.623924e+12  \n",
      "2021-06-17 15:33:00              78.35                6.5    1.623924e+12  \n",
      "2021-06-17 15:34:00              78.35                7.0    1.623924e+12  \n",
      "2021-06-17 15:35:00              78.35                7.0    1.623924e+12  \n",
      "2021-06-17 15:36:00              78.35                6.3    1.623924e+12  \n",
      "\n",
      "[5 rows x 54 columns]\n"
     ]
    }
   ],
   "source": [
    "print(D1.head())\n",
    "print(D2.head())"
   ]
  },
  {
   "cell_type": "code",
   "execution_count": null,
   "metadata": {},
   "outputs": [],
   "source": []
  },
  {
   "cell_type": "code",
   "execution_count": 18,
   "metadata": {},
   "outputs": [
    {
     "name": "stdout",
     "output_type": "stream",
     "text": [
      "Empty DataFrame\n",
      "Columns: [Date Time,  Monitor ID,  Location ID,  NO2(ppm), NO2_ppb, Unnamed: 0, data.temp_c, data.hum_prcnt, data.press_hpa, data.eq_db, data.onesmin_db, data.onesmax_db, data.co_ppm, data.no2_ppb, data.co_mv, data.no2_mv, data.x_g, data.y_g, data.z_g, data.x_raw, data.y_raw, data.z_raw, data.lux_lx, data.uv_mwpm2, data.nc0p5_npcm3, data.nc1p0_npcm3, data.nc2p5_npcm3, data.nc4p0_npcm3, data.nc10p0_npcm3, data.mc1p0_ugpm3, data.mc2p5_ugpm3, data.mc4p0_ugpm3, data.mc10p0_ugpm3, data.typ_pm_um, data.ozone_ppm, data.ozone_volt_mv, data.tvoc_ppb, data.batt_prcnt, data.batt_volt, data.bme280_int, data.speco3_int, data.mic_int, data.mic4514_int, data.mic4514pre_int, data.sgpc3_int, data.sps30_int, data.sps30pre_int, data.lis3dh_int, data.si1133_int, data.batt_int, data.leds_on, data.code_version, data.gps_avg_snr, data.cell_strength_dbm, data.wifi_strength_dbm, data.wifi_strength_asl, data.location.lat, data.location.lon, data.location.acc, data.timestamp]\n",
      "Index: []\n",
      "\n",
      "[0 rows x 60 columns]\n",
      "            Date Time   Monitor ID   Location ID   NO2(ppm)  NO2_ppb  \\\n",
      "0 2021-06-22 10:49:00            1             1      0.023       23   \n",
      "1 2021-06-22 10:50:00            1             1      0.013       13   \n",
      "2 2021-06-22 10:51:00            1             1      0.017       17   \n",
      "3 2021-06-22 10:52:00            1             1      0.017       17   \n",
      "4 2021-06-22 10:53:00            1             1      0.018       18   \n",
      "\n",
      "   data.temp_c  data.hum_prcnt  data.press_hpa  data.eq_db  data.onesmin_db  \\\n",
      "0          NaN             NaN             NaN         NaN              NaN   \n",
      "1        28.44          42.271         941.618      47.509           46.193   \n",
      "2        31.23          36.754         941.599      47.598           46.377   \n",
      "3          NaN             NaN             NaN         NaN              NaN   \n",
      "4        34.03          31.274         941.568      50.994           46.921   \n",
      "\n",
      "   ...  data.leds_on  data.code_version  data.gps_avg_snr  \\\n",
      "0  ...           NaN                NaN               NaN   \n",
      "1  ...           1.0                1.0               0.0   \n",
      "2  ...           1.0                1.0               0.0   \n",
      "3  ...           NaN                NaN               NaN   \n",
      "4  ...           1.0                1.0               0.0   \n",
      "\n",
      "   data.cell_strength_dbm  data.wifi_strength_dbm  data.wifi_strength_asl  \\\n",
      "0                     NaN                     NaN                     NaN   \n",
      "1                   -55.0                   -58.5                     4.0   \n",
      "2                   -61.0                   -55.0                     4.0   \n",
      "3                     NaN                     NaN                     NaN   \n",
      "4                   -56.0                   -52.0                     4.0   \n",
      "\n",
      "   data.location.lat  data.location.lon  data.location.acc  data.timestamp  \n",
      "0                NaN                NaN                NaN             NaN  \n",
      "1             17.445              78.35             17.032    1.624339e+12  \n",
      "2             17.445              78.35             14.090    1.624339e+12  \n",
      "3                NaN                NaN                NaN             NaN  \n",
      "4             17.445              78.35             14.700    1.624339e+12  \n",
      "\n",
      "[5 rows x 59 columns]\n"
     ]
    }
   ],
   "source": [
    "O1 = pd.merge(aero, D1, on = 'Date Time', how = 'inner')\n",
    "O2 = pd.merge(aero, D2, on = 'Date Time', how = 'inner')\n",
    "print(O1.head())\n",
    "print(O2.head())"
   ]
  },
  {
   "cell_type": "code",
   "execution_count": 19,
   "metadata": {},
   "outputs": [
    {
     "data": {
      "text/plain": [
       "5671"
      ]
     },
     "execution_count": 19,
     "metadata": {},
     "output_type": "execute_result"
    }
   ],
   "source": [
    "len(O2)"
   ]
  },
  {
   "cell_type": "code",
   "execution_count": 20,
   "metadata": {},
   "outputs": [
    {
     "data": {
      "text/plain": [
       "['Date Time',\n",
       " ' Monitor ID',\n",
       " ' Location ID',\n",
       " ' NO2(ppm)',\n",
       " 'NO2_ppb',\n",
       " 'data.temp_c',\n",
       " 'data.hum_prcnt',\n",
       " 'data.press_hpa',\n",
       " 'data.eq_db',\n",
       " 'data.onesmin_db',\n",
       " 'data.onesmax_db',\n",
       " 'data.co_ppm',\n",
       " 'data.no2_ppb',\n",
       " 'data.co_mv',\n",
       " 'data.no2_mv',\n",
       " 'data.x_g',\n",
       " 'data.y_g',\n",
       " 'data.z_g',\n",
       " 'data.x_raw',\n",
       " 'data.y_raw',\n",
       " 'data.z_raw',\n",
       " 'data.lux_lx',\n",
       " 'data.uv_mwpm2',\n",
       " 'data.nc0p5_npcm3',\n",
       " 'data.nc1p0_npcm3',\n",
       " 'data.nc2p5_npcm3',\n",
       " 'data.nc4p0_npcm3',\n",
       " 'data.nc10p0_npcm3',\n",
       " 'data.mc1p0_ugpm3',\n",
       " 'data.mc2p5_ugpm3',\n",
       " 'data.mc4p0_ugpm3',\n",
       " 'data.mc10p0_ugpm3',\n",
       " 'data.typ_pm_um',\n",
       " 'data.ozone_ppm',\n",
       " 'data.ozone_volt_mv',\n",
       " 'data.tvoc_ppb',\n",
       " 'data.batt_prcnt',\n",
       " 'data.batt_volt',\n",
       " 'data.bme280_int',\n",
       " 'data.speco3_int',\n",
       " 'data.mic_int',\n",
       " 'data.mic4514_int',\n",
       " 'data.mic4514pre_int',\n",
       " 'data.sgpc3_int',\n",
       " 'data.sps30_int',\n",
       " 'data.sps30pre_int',\n",
       " 'data.lis3dh_int',\n",
       " 'data.si1133_int',\n",
       " 'data.batt_int',\n",
       " 'data.leds_on',\n",
       " 'data.code_version',\n",
       " 'data.gps_avg_snr',\n",
       " 'data.cell_strength_dbm',\n",
       " 'data.wifi_strength_dbm',\n",
       " 'data.wifi_strength_asl',\n",
       " 'data.location.lat',\n",
       " 'data.location.lon',\n",
       " 'data.location.acc',\n",
       " 'data.timestamp']"
      ]
     },
     "execution_count": 20,
     "metadata": {},
     "output_type": "execute_result"
    }
   ],
   "source": [
    "list(O2)"
   ]
  },
  {
   "cell_type": "code",
   "execution_count": 21,
   "metadata": {},
   "outputs": [],
   "source": [
    "O2 = O2[O2['data.temp_c'].notna()]"
   ]
  },
  {
   "cell_type": "code",
   "execution_count": 22,
   "metadata": {},
   "outputs": [
    {
     "data": {
      "text/plain": [
       "814"
      ]
     },
     "execution_count": 22,
     "metadata": {},
     "output_type": "execute_result"
    }
   ],
   "source": [
    "len(O2)"
   ]
  },
  {
   "cell_type": "code",
   "execution_count": 23,
   "metadata": {},
   "outputs": [],
   "source": [
    "O2.to_csv('Mega_Aero_NO2.csv')"
   ]
  },
  {
   "cell_type": "markdown",
   "metadata": {},
   "source": [
    "# Laboratory"
   ]
  },
  {
   "cell_type": "code",
   "execution_count": 25,
   "metadata": {},
   "outputs": [
    {
     "name": "stdout",
     "output_type": "stream",
     "text": [
      "Date Time       datetime64[ns]\n",
      " Monitor ID              int64\n",
      " Location ID             int64\n",
      " CO_ppm                float64\n",
      "dtype: object\n",
      "            Date Time   Monitor ID   Location ID   CO_ppm\n",
      "0 2021-06-26 19:38:00            1             1     1.04\n",
      "1 2021-06-26 19:39:00            1             1     1.17\n",
      "2 2021-06-26 19:40:00            1             1     1.17\n",
      "3 2021-06-26 19:41:00            1             1     1.20\n",
      "4 2021-06-26 19:42:00            1             1     1.19\n"
     ]
    }
   ],
   "source": [
    "# Laboratory CO\n",
    "aero = pd.read_csv(\"Data//Aeroqual_CO.csv\",parse_dates=['Date Time'])\n",
    "print(aero.dtypes)\n",
    "print(aero.head())"
   ]
  },
  {
   "cell_type": "code",
   "execution_count": 26,
   "metadata": {},
   "outputs": [
    {
     "name": "stdout",
     "output_type": "stream",
     "text": [
      "            Date Time   Monitor ID   Location ID   CO_ppm  data.temp_c  \\\n",
      "0 2021-06-26 19:38:00            1             1     1.04          NaN   \n",
      "1 2021-06-26 19:39:00            1             1     1.17          NaN   \n",
      "2 2021-06-26 19:40:00            1             1     1.17          NaN   \n",
      "3 2021-06-26 19:41:00            1             1     1.20          NaN   \n",
      "4 2021-06-26 19:42:00            1             1     1.19        31.56   \n",
      "\n",
      "   data.hum_prcnt  data.press_hpa  data.eq_db  data.onesmin_db  \\\n",
      "0             NaN             NaN         NaN              NaN   \n",
      "1             NaN             NaN         NaN              NaN   \n",
      "2             NaN             NaN         NaN              NaN   \n",
      "3             NaN             NaN         NaN              NaN   \n",
      "4          33.685         938.261      52.168           50.082   \n",
      "\n",
      "   data.onesmax_db  ...  data.leds_on  data.code_version  data.gps_avg_snr  \\\n",
      "0              NaN  ...           NaN                NaN               NaN   \n",
      "1              NaN  ...           NaN                NaN               NaN   \n",
      "2              NaN  ...           NaN                NaN               NaN   \n",
      "3              NaN  ...           NaN                NaN               NaN   \n",
      "4            53.45  ...           1.0                1.0               0.0   \n",
      "\n",
      "   data.cell_strength_dbm  data.wifi_strength_dbm  data.wifi_strength_asl  \\\n",
      "0                     NaN                     NaN                     NaN   \n",
      "1                     NaN                     NaN                     NaN   \n",
      "2                     NaN                     NaN                     NaN   \n",
      "3                     NaN                     NaN                     NaN   \n",
      "4                     NaN                   -56.0                     4.0   \n",
      "\n",
      "   data.location.lat  data.location.lon  data.location.acc  data.timestamp  \n",
      "0                NaN                NaN                NaN             NaN  \n",
      "1                NaN                NaN                NaN             NaN  \n",
      "2                NaN                NaN                NaN             NaN  \n",
      "3                NaN                NaN                NaN             NaN  \n",
      "4             17.445              78.35             14.542    1.624717e+12  \n",
      "\n",
      "[5 rows x 58 columns]\n",
      "4975\n",
      "             Date Time   Monitor ID   Location ID   CO_ppm  data.temp_c  \\\n",
      "4  2021-06-26 19:42:00            1             1     1.19        31.56   \n",
      "7  2021-06-26 19:45:00            1             1     1.06        31.34   \n",
      "14 2021-06-26 19:52:00            1             1     0.83        30.96   \n",
      "33 2021-06-26 20:11:00            1             1     0.46        31.10   \n",
      "40 2021-06-26 20:18:00            1             1     0.90        31.09   \n",
      "\n",
      "    data.hum_prcnt  data.press_hpa  data.eq_db  data.onesmin_db  \\\n",
      "4           33.685         938.261      52.168           50.082   \n",
      "7           32.749         938.188      50.987           49.935   \n",
      "14          32.153         937.925      52.858           48.236   \n",
      "33          35.502         938.235      53.000           37.374   \n",
      "40          39.140         938.451      55.379           48.817   \n",
      "\n",
      "    data.onesmax_db  ...  data.leds_on  data.code_version  data.gps_avg_snr  \\\n",
      "4            53.450  ...           1.0                1.0               0.0   \n",
      "7            52.002  ...           1.0                1.0               0.0   \n",
      "14           56.880  ...           1.0                1.0               0.0   \n",
      "33           58.714  ...           1.0                1.0               0.0   \n",
      "40           59.667  ...           1.0                1.0               0.0   \n",
      "\n",
      "    data.cell_strength_dbm  data.wifi_strength_dbm  data.wifi_strength_asl  \\\n",
      "4                      NaN                   -56.0                     4.0   \n",
      "7                      NaN                   -56.0                     4.0   \n",
      "14                     NaN                   -56.0                     4.0   \n",
      "33                     NaN                   -56.0                     4.0   \n",
      "40                     NaN                   -56.0                     4.0   \n",
      "\n",
      "    data.location.lat  data.location.lon  data.location.acc  data.timestamp  \n",
      "4              17.445              78.35             14.542    1.624717e+12  \n",
      "7              17.445              78.35             14.542    1.624717e+12  \n",
      "14             17.445              78.35             14.542    1.624717e+12  \n",
      "33             17.445              78.35             14.542    1.624718e+12  \n",
      "40             17.445              78.35             14.542    1.624719e+12  \n",
      "\n",
      "[5 rows x 58 columns]\n"
     ]
    }
   ],
   "source": [
    "O2 = pd.merge(aero, D2, on = 'Date Time', how = 'inner')\n",
    "print(O2.head())\n",
    "print(len(O2))\n",
    "O2 = O2[O2['data.temp_c'].notna()]\n",
    "print(O2.head())"
   ]
  },
  {
   "cell_type": "code",
   "execution_count": 27,
   "metadata": {},
   "outputs": [
    {
     "data": {
      "text/plain": [
       "213"
      ]
     },
     "execution_count": 27,
     "metadata": {},
     "output_type": "execute_result"
    }
   ],
   "source": [
    "len(O2)"
   ]
  },
  {
   "cell_type": "code",
   "execution_count": 28,
   "metadata": {},
   "outputs": [],
   "source": [
    "O2.to_csv('Mega_Aero_CO.csv')"
   ]
  },
  {
   "cell_type": "code",
   "execution_count": null,
   "metadata": {},
   "outputs": [],
   "source": []
  },
  {
   "cell_type": "code",
   "execution_count": 29,
   "metadata": {},
   "outputs": [
    {
     "name": "stdout",
     "output_type": "stream",
     "text": [
      "Date Time       datetime64[ns]\n",
      " Monitor ID              int64\n",
      " Location ID             int64\n",
      " CO_ppm                float64\n",
      "dtype: object\n",
      "            Date Time   Monitor ID   Location ID   CO_ppm\n",
      "0 2021-07-27 13:29:00            1             1      0.0\n",
      "1 2021-07-27 13:30:00            1             1      0.0\n",
      "2 2021-07-27 13:31:00            1             1      0.0\n",
      "3 2021-07-27 13:32:00            1             1      0.0\n",
      "4 2021-07-27 13:33:00            1             1      0.0\n"
     ]
    }
   ],
   "source": [
    "# Mobile CO\n",
    "aero= pd.read_csv(\"Aeroqual_data//aeroqualco_270721.csv\",parse_dates=['Date Time'])\n",
    "print(aero.dtypes)\n",
    "print(aero.head())"
   ]
  },
  {
   "cell_type": "code",
   "execution_count": 30,
   "metadata": {},
   "outputs": [
    {
     "name": "stdout",
     "output_type": "stream",
     "text": [
      "            Date Time   Monitor ID   Location ID   CO_ppm  Unnamed: 0  \\\n",
      "0 2021-07-27 13:29:00            1             1      0.0         NaN   \n",
      "1 2021-07-27 13:30:00            1             1      0.0         NaN   \n",
      "2 2021-07-27 13:31:00            1             1      0.0         NaN   \n",
      "3 2021-07-27 13:32:00            1             1      0.0         NaN   \n",
      "4 2021-07-27 13:33:00            1             1      0.0         NaN   \n",
      "\n",
      "   data.temp_c  data.hum_prcnt  data.press_hpa  data.eq_db  data.onesmin_db  \\\n",
      "0          NaN             NaN             NaN         NaN              NaN   \n",
      "1          NaN             NaN             NaN         NaN              NaN   \n",
      "2          NaN             NaN             NaN         NaN              NaN   \n",
      "3          NaN             NaN             NaN         NaN              NaN   \n",
      "4          NaN             NaN             NaN         NaN              NaN   \n",
      "\n",
      "   ...  data.leds_on  data.code_version  data.gps_avg_snr  \\\n",
      "0  ...           NaN                NaN               NaN   \n",
      "1  ...           NaN                NaN               NaN   \n",
      "2  ...           NaN                NaN               NaN   \n",
      "3  ...           NaN                NaN               NaN   \n",
      "4  ...           NaN                NaN               NaN   \n",
      "\n",
      "   data.cell_strength_dbm  data.wifi_strength_dbm  data.wifi_strength_asl  \\\n",
      "0                     NaN                     NaN                     NaN   \n",
      "1                     NaN                     NaN                     NaN   \n",
      "2                     NaN                     NaN                     NaN   \n",
      "3                     NaN                     NaN                     NaN   \n",
      "4                     NaN                     NaN                     NaN   \n",
      "\n",
      "   data.location.lat  data.location.lon  data.location.acc  data.timestamp  \n",
      "0                NaN                NaN                NaN             NaN  \n",
      "1                NaN                NaN                NaN             NaN  \n",
      "2                NaN                NaN                NaN             NaN  \n",
      "3                NaN                NaN                NaN             NaN  \n",
      "4                NaN                NaN                NaN             NaN  \n",
      "\n",
      "[5 rows x 59 columns]\n",
      "241\n",
      "             Date Time   Monitor ID   Location ID   CO_ppm  Unnamed: 0  \\\n",
      "49 2021-07-27 14:18:00            1             1      0.0      2959.5   \n",
      "50 2021-07-27 14:19:00            1             1      0.0      2961.5   \n",
      "51 2021-07-27 14:20:00            1             1      0.0      2963.0   \n",
      "52 2021-07-27 14:21:00            1             1      0.0      2964.5   \n",
      "53 2021-07-27 14:22:00            1             1      0.0      2966.5   \n",
      "\n",
      "    data.temp_c  data.hum_prcnt  data.press_hpa  data.eq_db  data.onesmin_db  \\\n",
      "49       37.480          38.549         939.701      68.916           65.355   \n",
      "50       37.805          38.441         939.638      66.783           62.261   \n",
      "51       38.310          38.355         939.723      71.880           68.010   \n",
      "52       38.795          34.649         939.984      78.353           73.852   \n",
      "53       38.535          35.217         940.696      76.910           72.225   \n",
      "\n",
      "    ...  data.leds_on  data.code_version  data.gps_avg_snr  \\\n",
      "49  ...           1.0                1.0            26.700   \n",
      "50  ...           1.0                1.0            26.925   \n",
      "51  ...           1.0                1.0            16.878   \n",
      "52  ...           1.0                1.0            18.538   \n",
      "53  ...           1.0                1.0            19.404   \n",
      "\n",
      "    data.cell_strength_dbm  data.wifi_strength_dbm  data.wifi_strength_asl  \\\n",
      "49                   -77.0                   -28.5                     4.0   \n",
      "50                   -81.5                   -31.0                     4.0   \n",
      "51                   -70.0                   -31.0                     4.0   \n",
      "52                   -96.0                   -31.0                     4.0   \n",
      "53                   -74.0                   -31.0                     4.0   \n",
      "\n",
      "    data.location.lat  data.location.lon  data.location.acc  data.timestamp  \n",
      "49             17.490             78.408               1.55    1.627376e+12  \n",
      "50             17.490             78.408               1.75    1.627376e+12  \n",
      "51             17.489             78.409               3.30    1.627376e+12  \n",
      "52             17.486             78.411               3.50    1.627376e+12  \n",
      "53             17.484             78.414               5.35    1.627376e+12  \n",
      "\n",
      "[5 rows x 59 columns]\n"
     ]
    }
   ],
   "source": [
    "O1 = pd.merge(aero, D1, on = 'Date Time', how = 'inner')\n",
    "print(O1.head())\n",
    "print(len(O1))\n",
    "O1 = O1[O1['data.temp_c'].notna()]\n",
    "print(O1.head())"
   ]
  },
  {
   "cell_type": "code",
   "execution_count": 31,
   "metadata": {},
   "outputs": [
    {
     "name": "stdout",
     "output_type": "stream",
     "text": [
      "            Date Time   Monitor ID   Location ID   CO_ppm  data.temp_c  \\\n",
      "0 2021-07-27 13:29:00            1             1      0.0          NaN   \n",
      "1 2021-07-27 13:30:00            1             1      0.0          NaN   \n",
      "2 2021-07-27 13:31:00            1             1      0.0          NaN   \n",
      "3 2021-07-27 13:32:00            1             1      0.0          NaN   \n",
      "4 2021-07-27 13:33:00            1             1      0.0          NaN   \n",
      "\n",
      "   data.hum_prcnt  data.press_hpa  data.eq_db  data.onesmin_db  \\\n",
      "0             NaN             NaN         NaN              NaN   \n",
      "1             NaN             NaN         NaN              NaN   \n",
      "2             NaN             NaN         NaN              NaN   \n",
      "3             NaN             NaN         NaN              NaN   \n",
      "4             NaN             NaN         NaN              NaN   \n",
      "\n",
      "   data.onesmax_db  ...  data.leds_on  data.code_version  data.gps_avg_snr  \\\n",
      "0              NaN  ...           NaN                NaN               NaN   \n",
      "1              NaN  ...           NaN                NaN               NaN   \n",
      "2              NaN  ...           NaN                NaN               NaN   \n",
      "3              NaN  ...           NaN                NaN               NaN   \n",
      "4              NaN  ...           NaN                NaN               NaN   \n",
      "\n",
      "   data.cell_strength_dbm  data.wifi_strength_dbm  data.wifi_strength_asl  \\\n",
      "0                     NaN                     NaN                     NaN   \n",
      "1                     NaN                     NaN                     NaN   \n",
      "2                     NaN                     NaN                     NaN   \n",
      "3                     NaN                     NaN                     NaN   \n",
      "4                     NaN                     NaN                     NaN   \n",
      "\n",
      "   data.location.lat  data.location.lon  data.location.acc  data.timestamp  \n",
      "0                NaN                NaN                NaN             NaN  \n",
      "1                NaN                NaN                NaN             NaN  \n",
      "2                NaN                NaN                NaN             NaN  \n",
      "3                NaN                NaN                NaN             NaN  \n",
      "4                NaN                NaN                NaN             NaN  \n",
      "\n",
      "[5 rows x 58 columns]\n",
      "241\n",
      "             Date Time   Monitor ID   Location ID   CO_ppm  data.temp_c  \\\n",
      "16 2021-07-27 13:45:00            1             1      0.0       33.390   \n",
      "18 2021-07-27 13:47:00            1             1      0.0       34.160   \n",
      "25 2021-07-27 13:54:00            1             1      0.0       35.790   \n",
      "26 2021-07-27 13:55:00            1             1      0.0       35.865   \n",
      "30 2021-07-27 13:59:00            1             1      0.0       29.300   \n",
      "\n",
      "    data.hum_prcnt  data.press_hpa  data.eq_db  data.onesmin_db  \\\n",
      "16          46.863         939.582      78.793           74.685   \n",
      "18          42.819         939.913      75.194           70.242   \n",
      "25          37.652         938.847      77.189           73.023   \n",
      "26          38.501         940.070      76.147           70.778   \n",
      "30          60.484         937.859      56.246           48.258   \n",
      "\n",
      "    data.onesmax_db  ...  data.leds_on  data.code_version  data.gps_avg_snr  \\\n",
      "16           84.507  ...           1.0                1.0            29.020   \n",
      "18           81.069  ...           1.0                1.0            26.531   \n",
      "25           80.760  ...           1.0                1.0            34.900   \n",
      "26           80.774  ...           1.0                1.0            33.122   \n",
      "30           63.355  ...           1.0                1.0            27.550   \n",
      "\n",
      "    data.cell_strength_dbm  data.wifi_strength_dbm  data.wifi_strength_asl  \\\n",
      "16            1.073742e+09                   -34.5                     4.0   \n",
      "18                     NaN                   -36.0                     4.0   \n",
      "25            2.147484e+09                   -30.0                     4.0   \n",
      "26            2.147484e+09                   -13.0                     4.0   \n",
      "30           -5.900000e+01                   -59.0                     4.0   \n",
      "\n",
      "    data.location.lat  data.location.lon  data.location.acc  data.timestamp  \n",
      "16             17.443             78.356           1100.000    1.627374e+12  \n",
      "18             17.443             78.356           1100.000    1.627374e+12  \n",
      "25             17.443             78.356           1100.000    1.627374e+12  \n",
      "26             17.443             78.356           1100.000    1.627374e+12  \n",
      "30             17.445             78.350             13.782    1.627375e+12  \n",
      "\n",
      "[5 rows x 58 columns]\n"
     ]
    }
   ],
   "source": [
    "O2 = pd.merge(aero, D2, on = 'Date Time', how = 'inner')\n",
    "print(O2.head())\n",
    "print(len(O2))\n",
    "O2 = O2[O2['data.temp_c'].notna()]\n",
    "print(O2.head())"
   ]
  },
  {
   "cell_type": "code",
   "execution_count": 35,
   "metadata": {},
   "outputs": [
    {
     "name": "stdout",
     "output_type": "stream",
     "text": [
      "182\n",
      "29\n"
     ]
    }
   ],
   "source": [
    "print(len(O1))\n",
    "print(len(O2))"
   ]
  },
  {
   "cell_type": "code",
   "execution_count": 34,
   "metadata": {},
   "outputs": [],
   "source": [
    "O1.to_csv('Device1_Mobile&Aeroqual_CO.csv')\n",
    "O2.to_csv('Device2_Mobile&Aeroqula_CO.csv')"
   ]
  },
  {
   "cell_type": "code",
   "execution_count": 33,
   "metadata": {},
   "outputs": [
    {
     "name": "stdout",
     "output_type": "stream",
     "text": [
      "Date Time       datetime64[ns]\n",
      " Monitor ID              int64\n",
      " Location ID             int64\n",
      " NO2(ppm)              float64\n",
      "dtype: object\n",
      "            Date Time   Monitor ID   Location ID   NO2(ppm)\n",
      "0 2021-08-19 11:21:00            1             1      0.011\n",
      "1 2021-08-19 11:22:00            1             1      0.006\n",
      "2 2021-08-19 11:23:00            1             1      0.010\n",
      "3 2021-08-19 11:24:00            1             1      0.012\n",
      "4 2021-08-19 11:25:00            1             1      0.014\n"
     ]
    }
   ],
   "source": [
    "# MObile NO2\n",
    "\n",
    "aero= pd.read_csv(\"Aeroqual_data//aeroqual210821.csv\",parse_dates=['Date Time'])\n",
    "print(aero.dtypes)\n",
    "print(aero.head())"
   ]
  },
  {
   "cell_type": "code",
   "execution_count": 36,
   "metadata": {},
   "outputs": [
    {
     "name": "stdout",
     "output_type": "stream",
     "text": [
      "            Date Time   Monitor ID   Location ID   NO2(ppm)  Unnamed: 0  \\\n",
      "0 2021-08-19 11:21:00            1             1      0.011      7984.5   \n",
      "1 2021-08-19 11:22:00            1             1      0.006      7986.5   \n",
      "2 2021-08-19 11:23:00            1             1      0.010      7988.5   \n",
      "3 2021-08-19 11:24:00            1             1      0.012         NaN   \n",
      "4 2021-08-19 11:25:00            1             1      0.014         NaN   \n",
      "\n",
      "   data.temp_c  data.hum_prcnt  data.press_hpa  data.eq_db  data.onesmin_db  \\\n",
      "0       35.695          39.449         938.045      58.665           41.994   \n",
      "1       34.510          41.587         937.927      56.919           41.756   \n",
      "2       33.770          43.105         937.933      58.127           43.612   \n",
      "3          NaN             NaN             NaN         NaN              NaN   \n",
      "4          NaN             NaN             NaN         NaN              NaN   \n",
      "\n",
      "   ...  data.leds_on  data.code_version  data.gps_avg_snr  \\\n",
      "0  ...           1.0                1.0            20.039   \n",
      "1  ...           1.0                1.0             8.567   \n",
      "2  ...           1.0                1.0             0.000   \n",
      "3  ...           NaN                NaN               NaN   \n",
      "4  ...           NaN                NaN               NaN   \n",
      "\n",
      "   data.cell_strength_dbm  data.wifi_strength_dbm  data.wifi_strength_asl  \\\n",
      "0                  -104.5                   -51.0                     4.0   \n",
      "1                   -99.0                   -51.0                     4.0   \n",
      "2                  -107.0                   -51.0                     4.0   \n",
      "3                     NaN                     NaN                     NaN   \n",
      "4                     NaN                     NaN                     NaN   \n",
      "\n",
      "   data.location.lat  data.location.lon  data.location.acc  data.timestamp  \n",
      "0             17.446              78.35               5.35    1.629352e+12  \n",
      "1             17.446              78.35               5.20    1.629352e+12  \n",
      "2             17.446              78.35               5.50    1.629352e+12  \n",
      "3                NaN                NaN                NaN             NaN  \n",
      "4                NaN                NaN                NaN             NaN  \n",
      "\n",
      "[5 rows x 59 columns]\n",
      "398\n",
      "             Date Time   Monitor ID   Location ID   NO2(ppm)  Unnamed: 0  \\\n",
      "0  2021-08-19 11:21:00            1             1      0.011      7984.5   \n",
      "1  2021-08-19 11:22:00            1             1      0.006      7986.5   \n",
      "2  2021-08-19 11:23:00            1             1      0.010      7988.5   \n",
      "11 2021-08-19 11:32:00            1             1      0.008      7990.0   \n",
      "12 2021-08-19 11:33:00            1             1      0.000      7991.5   \n",
      "\n",
      "    data.temp_c  data.hum_prcnt  data.press_hpa  data.eq_db  data.onesmin_db  \\\n",
      "0        35.695          39.449         938.045      58.665           41.994   \n",
      "1        34.510          41.587         937.927      56.919           41.756   \n",
      "2        33.770          43.105         937.933      58.127           43.612   \n",
      "11       31.670          49.693         938.379      63.525           56.930   \n",
      "12       31.750          49.538         938.376      60.851           57.067   \n",
      "\n",
      "    ...  data.leds_on  data.code_version  data.gps_avg_snr  \\\n",
      "0   ...           1.0                1.0            20.039   \n",
      "1   ...           1.0                1.0             8.567   \n",
      "2   ...           1.0                1.0             0.000   \n",
      "11  ...           1.0                1.0            17.192   \n",
      "12  ...           1.0                1.0            18.936   \n",
      "\n",
      "    data.cell_strength_dbm  data.wifi_strength_dbm  data.wifi_strength_asl  \\\n",
      "0                   -104.5                   -51.0                     4.0   \n",
      "1                    -99.0                   -51.0                     4.0   \n",
      "2                   -107.0                   -51.0                     4.0   \n",
      "11                   -96.0                   -72.0                     2.0   \n",
      "12                   -93.0                   -78.0                     1.5   \n",
      "\n",
      "    data.location.lat  data.location.lon  data.location.acc  data.timestamp  \n",
      "0              17.446              78.35               5.35    1.629352e+12  \n",
      "1              17.446              78.35               5.20    1.629352e+12  \n",
      "2              17.446              78.35               5.50    1.629352e+12  \n",
      "11             17.445              78.35               2.40    1.629353e+12  \n",
      "12             17.445              78.35               3.40    1.629353e+12  \n",
      "\n",
      "[5 rows x 59 columns]\n"
     ]
    }
   ],
   "source": [
    "O1 = pd.merge(aero, D1, on = 'Date Time', how = 'inner')\n",
    "print(O1.head())\n",
    "print(len(O1))\n",
    "O1 = O1[O1['data.temp_c'].notna()]\n",
    "print(O1.head())"
   ]
  },
  {
   "cell_type": "code",
   "execution_count": 37,
   "metadata": {},
   "outputs": [
    {
     "name": "stdout",
     "output_type": "stream",
     "text": [
      "            Date Time   Monitor ID   Location ID   NO2(ppm)  data.temp_c  \\\n",
      "0 2021-08-19 11:21:00            1             1      0.011          NaN   \n",
      "1 2021-08-19 11:22:00            1             1      0.006          NaN   \n",
      "2 2021-08-19 11:23:00            1             1      0.010          NaN   \n",
      "3 2021-08-19 11:24:00            1             1      0.012          NaN   \n",
      "4 2021-08-19 11:25:00            1             1      0.014          NaN   \n",
      "\n",
      "   data.hum_prcnt  data.press_hpa  data.eq_db  data.onesmin_db  \\\n",
      "0             NaN             NaN         NaN              NaN   \n",
      "1             NaN             NaN         NaN              NaN   \n",
      "2             NaN             NaN         NaN              NaN   \n",
      "3             NaN             NaN         NaN              NaN   \n",
      "4             NaN             NaN         NaN              NaN   \n",
      "\n",
      "   data.onesmax_db  ...  data.leds_on  data.code_version  data.gps_avg_snr  \\\n",
      "0              NaN  ...           NaN                NaN               NaN   \n",
      "1              NaN  ...           NaN                NaN               NaN   \n",
      "2              NaN  ...           NaN                NaN               NaN   \n",
      "3              NaN  ...           NaN                NaN               NaN   \n",
      "4              NaN  ...           NaN                NaN               NaN   \n",
      "\n",
      "   data.cell_strength_dbm  data.wifi_strength_dbm  data.wifi_strength_asl  \\\n",
      "0                     NaN                     NaN                     NaN   \n",
      "1                     NaN                     NaN                     NaN   \n",
      "2                     NaN                     NaN                     NaN   \n",
      "3                     NaN                     NaN                     NaN   \n",
      "4                     NaN                     NaN                     NaN   \n",
      "\n",
      "   data.location.lat  data.location.lon  data.location.acc  data.timestamp  \n",
      "0                NaN                NaN                NaN             NaN  \n",
      "1                NaN                NaN                NaN             NaN  \n",
      "2                NaN                NaN                NaN             NaN  \n",
      "3                NaN                NaN                NaN             NaN  \n",
      "4                NaN                NaN                NaN             NaN  \n",
      "\n",
      "[5 rows x 58 columns]\n",
      "398\n",
      "             Date Time   Monitor ID   Location ID   NO2(ppm)  data.temp_c  \\\n",
      "34 2021-08-19 11:55:00            1             1      0.019       32.925   \n",
      "35 2021-08-19 11:56:00            1             1      0.031       32.810   \n",
      "36 2021-08-19 11:57:00            1             1      0.028       32.780   \n",
      "38 2021-08-19 11:59:00            1             1      0.046       32.690   \n",
      "40 2021-08-19 12:01:00            1             1      0.031       32.670   \n",
      "\n",
      "    data.hum_prcnt  data.press_hpa  data.eq_db  data.onesmin_db  \\\n",
      "34          47.579         940.476      75.562           70.496   \n",
      "35          47.246         941.913      71.971           67.374   \n",
      "36          47.110         942.922      72.399           68.511   \n",
      "38          48.007         942.665      76.461           71.229   \n",
      "40          46.832         942.762      74.993           69.613   \n",
      "\n",
      "    data.onesmax_db  ...  data.leds_on  data.code_version  data.gps_avg_snr  \\\n",
      "34           80.376  ...           1.0                1.0            31.459   \n",
      "35           84.616  ...           1.0                1.0            30.360   \n",
      "36           76.901  ...           1.0                1.0            30.360   \n",
      "38           84.480  ...           1.0                1.0            30.360   \n",
      "40           84.638  ...           1.0                1.0            30.360   \n",
      "\n",
      "    data.cell_strength_dbm  data.wifi_strength_dbm  data.wifi_strength_asl  \\\n",
      "34            1.073742e+09                   -47.0                     4.0   \n",
      "35                     NaN                   -46.0                     4.0   \n",
      "36                     NaN                   -46.0                     4.0   \n",
      "38                     NaN                   -46.0                     4.0   \n",
      "40                     NaN                   -46.0                     4.0   \n",
      "\n",
      "    data.location.lat  data.location.lon  data.location.acc  data.timestamp  \n",
      "34             17.463             78.335                1.7    1.629354e+12  \n",
      "35             17.466             78.333                2.0    1.629354e+12  \n",
      "36             17.466             78.333                2.0    1.629354e+12  \n",
      "38             17.466             78.333                2.0    1.629355e+12  \n",
      "40             17.466             78.333                2.0    1.629355e+12  \n",
      "\n",
      "[5 rows x 58 columns]\n"
     ]
    }
   ],
   "source": [
    "O2 = pd.merge(aero, D2, on = 'Date Time', how = 'inner')\n",
    "print(O2.head())\n",
    "print(len(O2))\n",
    "O2 = O2[O2['data.temp_c'].notna()]\n",
    "print(O2.head())"
   ]
  },
  {
   "cell_type": "code",
   "execution_count": 38,
   "metadata": {},
   "outputs": [
    {
     "name": "stdout",
     "output_type": "stream",
     "text": [
      "286\n",
      "87\n"
     ]
    }
   ],
   "source": [
    "print(len(O1))\n",
    "print(len(O2))"
   ]
  },
  {
   "cell_type": "code",
   "execution_count": 39,
   "metadata": {},
   "outputs": [],
   "source": [
    "O1.to_csv('Device1_Mobile&Aeroqual_NO2.csv')\n",
    "O2.to_csv('Device2_Mobile&Aeroqula_NO2.csv')"
   ]
  },
  {
   "cell_type": "code",
   "execution_count": null,
   "metadata": {},
   "outputs": [],
   "source": []
  }
 ],
 "metadata": {
  "kernelspec": {
   "display_name": "Python 3",
   "language": "python",
   "name": "python3"
  },
  "language_info": {
   "codemirror_mode": {
    "name": "ipython",
    "version": 3
   },
   "file_extension": ".py",
   "mimetype": "text/x-python",
   "name": "python",
   "nbconvert_exporter": "python",
   "pygments_lexer": "ipython3",
   "version": "3.8.5"
  }
 },
 "nbformat": 4,
 "nbformat_minor": 4
}
