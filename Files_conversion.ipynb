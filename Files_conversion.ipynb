{
 "cells": [
  {
   "cell_type": "markdown",
   "metadata": {},
   "source": [
    "# Json to CSV conversion"
   ]
  },
  {
   "cell_type": "code",
   "execution_count": 2,
   "metadata": {},
   "outputs": [
    {
     "name": "stderr",
     "output_type": "stream",
     "text": [
      "<ipython-input-2-e4b8ac4e1278>:10: FutureWarning: pandas.io.json.json_normalize is deprecated, use pandas.json_normalize instead\n",
      "  df1 = json_normalize(data)\n"
     ]
    }
   ],
   "source": [
    "import pandas as pd\n",
    "import json\n",
    "from pandas.io.json import json_normalize\n",
    "from datetime import datetime\n",
    "import time\n",
    "\n",
    "\n",
    "# Device 1(D0:31:F7:A1:15:76)\n",
    "data = [json.loads(line) for line in open('output_filename.json', 'r')]\n",
    "df1 = json_normalize(data)\n",
    "t= []\n",
    "epoch_time = df1['data.timestamp'].astype(int)\n",
    "time_formatted = epoch_time.apply(lambda t: time.strftime('%Y-%m-%d %H:%M:%S', time.localtime(t/1000.0)))\n",
    "df1 = df1.drop(columns = {'receivedTimestamp', 'key'})\n",
    "df1.insert(0, 'Date Time',time_formatted)\n",
    "df1.tail()\n",
    "df1.to_csv('device76_sep20.csv')"
   ]
  },
  {
   "cell_type": "code",
   "execution_count": 2,
   "metadata": {},
   "outputs": [
    {
     "name": "stderr",
     "output_type": "stream",
     "text": [
      "<ipython-input-2-4c0313e09613>:3: FutureWarning: pandas.io.json.json_normalize is deprecated, use pandas.json_normalize instead\n",
      "  df1 = json_normalize(data)\n"
     ]
    }
   ],
   "source": [
    "# Device 2(D0:31:F7:A1:15:76)\n",
    "data = [json.loads(line) for line in open('device61_sep17.json', 'r')]\n",
    "df1 = json_normalize(data)\n",
    "t= []\n",
    "epoch_time = df1['data.timestamp'].astype(int)\n",
    "time_formatted = epoch_time.apply(lambda t: time.strftime('%Y-%m-%d %H:%M:%S', time.localtime(t/1000.0)))\n",
    "df1 = df1.drop(columns = {'receivedTimestamp', 'key'})\n",
    "df1.insert(0, 'Date Time',time_formatted)\n",
    "df1.tail()\n",
    "df1.to_csv('device61_sep17.csv', index = False)"
   ]
  },
  {
   "cell_type": "code",
   "execution_count": 3,
   "metadata": {},
   "outputs": [
    {
     "name": "stderr",
     "output_type": "stream",
     "text": [
      "<ipython-input-3-72b720dcaa36>:3: FutureWarning: pandas.io.json.json_normalize is deprecated, use pandas.json_normalize instead\n",
      "  df1 = json_normalize(data)\n"
     ]
    }
   ],
   "source": [
    "# Device 3(D0:31:F7:A1:15:76)\n",
    "data = [json.loads(line) for line in open('devicec5_sep17.json', 'r')]\n",
    "df1 = json_normalize(data)\n",
    "t= []\n",
    "epoch_time = df1['data.timestamp'].astype(int)\n",
    "time_formatted = epoch_time.apply(lambda t: time.strftime('%Y-%m-%d %H:%M:%S', time.localtime(t/1000.0)))\n",
    "df1 = df1.drop(columns = {'receivedTimestamp', 'key'})\n",
    "df1.insert(0, 'Date Time',time_formatted)\n",
    "df1.tail()\n",
    "df1.to_csv('devicec5_sep17.csv', index = False)"
   ]
  },
  {
   "cell_type": "markdown",
   "metadata": {},
   "source": [
    "# Aeroqual and Megasense Data combined"
   ]
  },
  {
   "cell_type": "markdown",
   "metadata": {},
   "source": [
    "## Laboratory NO2 Data"
   ]
  },
  {
   "cell_type": "code",
   "execution_count": 7,
   "metadata": {},
   "outputs": [],
   "source": [
    "d1 = pd.read_csv(\"Megasense_device76//device1_data_2sep.csv\",parse_dates=['Date Time'])\n",
    "d2 = pd.read_csv(\"Megasense_device61//device2_data_2sep.csv\", parse_dates=['Date Time'])\n"
   ]
  },
  {
   "cell_type": "code",
   "execution_count": 11,
   "metadata": {},
   "outputs": [
    {
     "name": "stdout",
     "output_type": "stream",
     "text": [
      "Date Time       datetime64[ns]\n",
      " Monitor ID              int64\n",
      " Location ID             int64\n",
      " NO2(ppm)              float64\n",
      "NO2_ppb                  int64\n",
      "dtype: object\n",
      "            Date Time   Monitor ID   Location ID   NO2(ppm)  NO2_ppb\n",
      "0 2021-06-22 10:49:00            1             1      0.023       23\n",
      "1 2021-06-22 10:50:00            1             1      0.013       13\n",
      "2 2021-06-22 10:51:00            1             1      0.017       17\n",
      "3 2021-06-22 10:52:00            1             1      0.017       17\n",
      "4 2021-06-22 10:53:00            1             1      0.018       18\n"
     ]
    }
   ],
   "source": [
    "# Laboratory NO2\n",
    "aero = pd.read_csv(\"Data//Aeroqual_NO2.csv\",parse_dates=['Date Time'])\n",
    "print(aero.dtypes)\n",
    "print(aero.head())\n"
   ]
  },
  {
   "cell_type": "code",
   "execution_count": 16,
   "metadata": {},
   "outputs": [],
   "source": [
    "d1.set_index(\"Date Time\", inplace = True)\n",
    "D1 = d1.resample('T').mean().round(3)\n",
    "d2.set_index(\"Date Time\", inplace = True)\n",
    "D2 = d2.resample('T').mean().round(3)"
   ]
  },
  {
   "cell_type": "code",
   "execution_count": 17,
   "metadata": {},
   "outputs": [
    {
     "name": "stdout",
     "output_type": "stream",
     "text": [
      "                     Unnamed: 0  data.temp_c  data.hum_prcnt  data.press_hpa  \\\n",
      "Date Time                                                                      \n",
      "2021-07-19 15:00:00         0.5       30.635          54.945         935.490   \n",
      "2021-07-19 15:01:00         2.0       30.430          55.417         935.476   \n",
      "2021-07-19 15:02:00         NaN          NaN             NaN             NaN   \n",
      "2021-07-19 15:03:00         3.0       30.330          55.816         935.434   \n",
      "2021-07-19 15:04:00         4.5       30.250          56.131         935.397   \n",
      "\n",
      "                     data.eq_db  data.onesmin_db  data.onesmax_db  \\\n",
      "Date Time                                                           \n",
      "2021-07-19 15:00:00      41.351           39.411           48.490   \n",
      "2021-07-19 15:01:00      44.281           40.191           55.782   \n",
      "2021-07-19 15:02:00         NaN              NaN              NaN   \n",
      "2021-07-19 15:03:00      54.582           39.780           73.578   \n",
      "2021-07-19 15:04:00      49.205           40.016           66.113   \n",
      "\n",
      "                     data.co_ppm  data.no2_ppb  data.co_mv  ...  data.leds_on  \\\n",
      "Date Time                                                   ...                 \n",
      "2021-07-19 15:00:00        462.5        2547.5      1796.0  ...           1.0   \n",
      "2021-07-19 15:01:00        465.0        2496.0      1805.0  ...           1.0   \n",
      "2021-07-19 15:02:00          NaN           NaN         NaN  ...           NaN   \n",
      "2021-07-19 15:03:00        469.0        2400.0      1815.0  ...           1.0   \n",
      "2021-07-19 15:04:00        642.0        2526.5      2301.5  ...           1.0   \n",
      "\n",
      "                     data.code_version  data.gps_avg_snr  \\\n",
      "Date Time                                                  \n",
      "2021-07-19 15:00:00                1.0               0.0   \n",
      "2021-07-19 15:01:00                1.0               0.0   \n",
      "2021-07-19 15:02:00                NaN               NaN   \n",
      "2021-07-19 15:03:00                1.0               0.0   \n",
      "2021-07-19 15:04:00                1.0               0.0   \n",
      "\n",
      "                     data.cell_strength_dbm  data.wifi_strength_dbm  \\\n",
      "Date Time                                                             \n",
      "2021-07-19 15:00:00                   -97.5                   -85.5   \n",
      "2021-07-19 15:01:00                   -94.0                   -86.0   \n",
      "2021-07-19 15:02:00                     NaN                     NaN   \n",
      "2021-07-19 15:03:00                   -97.0                   -86.0   \n",
      "2021-07-19 15:04:00                   -96.5                   -87.5   \n",
      "\n",
      "                     data.wifi_strength_asl  data.location.lat  \\\n",
      "Date Time                                                        \n",
      "2021-07-19 15:00:00                     1.0             17.445   \n",
      "2021-07-19 15:01:00                     1.0             17.445   \n",
      "2021-07-19 15:02:00                     NaN                NaN   \n",
      "2021-07-19 15:03:00                     1.0             17.445   \n",
      "2021-07-19 15:04:00                     0.5             17.445   \n",
      "\n",
      "                     data.location.lon  data.location.acc  data.timestamp  \n",
      "Date Time                                                                  \n",
      "2021-07-19 15:00:00              78.35             14.711    1.626687e+12  \n",
      "2021-07-19 15:01:00              78.35             15.851    1.626687e+12  \n",
      "2021-07-19 15:02:00                NaN                NaN             NaN  \n",
      "2021-07-19 15:03:00              78.35             15.615    1.626687e+12  \n",
      "2021-07-19 15:04:00              78.35             15.432    1.626687e+12  \n",
      "\n",
      "[5 rows x 55 columns]\n",
      "                     data.temp_c  data.hum_prcnt  data.press_hpa  data.eq_db  \\\n",
      "Date Time                                                                      \n",
      "2021-06-17 15:32:00        28.61          39.587         935.927      56.352   \n",
      "2021-06-17 15:33:00        28.80          39.513         935.951      61.767   \n",
      "2021-06-17 15:34:00        28.96          38.836         935.956      64.295   \n",
      "2021-06-17 15:35:00        29.01          38.384         935.912      61.676   \n",
      "2021-06-17 15:36:00        29.03          38.272         935.935      62.543   \n",
      "\n",
      "                     data.onesmin_db  data.onesmax_db  data.co_ppm  \\\n",
      "Date Time                                                            \n",
      "2021-06-17 15:32:00           46.254           66.106        471.0   \n",
      "2021-06-17 15:33:00           46.646           72.002        471.0   \n",
      "2021-06-17 15:34:00           47.092           75.892        472.0   \n",
      "2021-06-17 15:35:00           46.992           74.429        476.0   \n",
      "2021-06-17 15:36:00           47.308           73.534        476.0   \n",
      "\n",
      "                     data.no2_ppb  data.co_mv  data.no2_mv  ...  data.leds_on  \\\n",
      "Date Time                                                   ...                 \n",
      "2021-06-17 15:32:00        2557.0      1820.0       1218.0  ...           1.0   \n",
      "2021-06-17 15:33:00        2560.0      1817.0       1213.5  ...           1.0   \n",
      "2021-06-17 15:34:00        2557.0      1821.0       1215.0  ...           1.0   \n",
      "2021-06-17 15:35:00        2603.0      1831.0       1224.0  ...           1.0   \n",
      "2021-06-17 15:36:00        2606.5      1832.0       1229.5  ...           1.0   \n",
      "\n",
      "                     data.code_version  data.gps_avg_snr  \\\n",
      "Date Time                                                  \n",
      "2021-06-17 15:32:00                1.0            25.350   \n",
      "2021-06-17 15:33:00                1.0            23.885   \n",
      "2021-06-17 15:34:00                1.0            23.300   \n",
      "2021-06-17 15:35:00                1.0            23.300   \n",
      "2021-06-17 15:36:00                1.0            27.644   \n",
      "\n",
      "                     data.cell_strength_dbm  data.wifi_strength_dbm  \\\n",
      "Date Time                                                             \n",
      "2021-06-17 15:32:00           -5.100000e+01                   -29.0   \n",
      "2021-06-17 15:33:00           -5.800000e+01                   -41.0   \n",
      "2021-06-17 15:34:00                     NaN                   -48.0   \n",
      "2021-06-17 15:35:00                     NaN                   -53.0   \n",
      "2021-06-17 15:36:00            1.073742e+09                   -52.5   \n",
      "\n",
      "                     data.wifi_strength_asl  data.location.lat  \\\n",
      "Date Time                                                        \n",
      "2021-06-17 15:32:00                     4.0             17.445   \n",
      "2021-06-17 15:33:00                     4.0             17.445   \n",
      "2021-06-17 15:34:00                     4.0             17.446   \n",
      "2021-06-17 15:35:00                     4.0             17.446   \n",
      "2021-06-17 15:36:00                     4.0             17.445   \n",
      "\n",
      "                     data.location.lon  data.location.acc  data.timestamp  \n",
      "Date Time                                                                  \n",
      "2021-06-17 15:32:00              78.35                4.8    1.623924e+12  \n",
      "2021-06-17 15:33:00              78.35                6.5    1.623924e+12  \n",
      "2021-06-17 15:34:00              78.35                7.0    1.623924e+12  \n",
      "2021-06-17 15:35:00              78.35                7.0    1.623924e+12  \n",
      "2021-06-17 15:36:00              78.35                6.3    1.623924e+12  \n",
      "\n",
      "[5 rows x 54 columns]\n"
     ]
    }
   ],
   "source": [
    "print(D1.head())\n",
    "print(D2.head())"
   ]
  },
  {
   "cell_type": "code",
   "execution_count": null,
   "metadata": {},
   "outputs": [],
   "source": []
  },
  {
   "cell_type": "code",
   "execution_count": 18,
   "metadata": {},
   "outputs": [
    {
     "name": "stdout",
     "output_type": "stream",
     "text": [
      "Empty DataFrame\n",
      "Columns: [Date Time,  Monitor ID,  Location ID,  NO2(ppm), NO2_ppb, Unnamed: 0, data.temp_c, data.hum_prcnt, data.press_hpa, data.eq_db, data.onesmin_db, data.onesmax_db, data.co_ppm, data.no2_ppb, data.co_mv, data.no2_mv, data.x_g, data.y_g, data.z_g, data.x_raw, data.y_raw, data.z_raw, data.lux_lx, data.uv_mwpm2, data.nc0p5_npcm3, data.nc1p0_npcm3, data.nc2p5_npcm3, data.nc4p0_npcm3, data.nc10p0_npcm3, data.mc1p0_ugpm3, data.mc2p5_ugpm3, data.mc4p0_ugpm3, data.mc10p0_ugpm3, data.typ_pm_um, data.ozone_ppm, data.ozone_volt_mv, data.tvoc_ppb, data.batt_prcnt, data.batt_volt, data.bme280_int, data.speco3_int, data.mic_int, data.mic4514_int, data.mic4514pre_int, data.sgpc3_int, data.sps30_int, data.sps30pre_int, data.lis3dh_int, data.si1133_int, data.batt_int, data.leds_on, data.code_version, data.gps_avg_snr, data.cell_strength_dbm, data.wifi_strength_dbm, data.wifi_strength_asl, data.location.lat, data.location.lon, data.location.acc, data.timestamp]\n",
      "Index: []\n",
      "\n",
      "[0 rows x 60 columns]\n",
      "            Date Time   Monitor ID   Location ID   NO2(ppm)  NO2_ppb  \\\n",
      "0 2021-06-22 10:49:00            1             1      0.023       23   \n",
      "1 2021-06-22 10:50:00            1             1      0.013       13   \n",
      "2 2021-06-22 10:51:00            1             1      0.017       17   \n",
      "3 2021-06-22 10:52:00            1             1      0.017       17   \n",
      "4 2021-06-22 10:53:00            1             1      0.018       18   \n",
      "\n",
      "   data.temp_c  data.hum_prcnt  data.press_hpa  data.eq_db  data.onesmin_db  \\\n",
      "0          NaN             NaN             NaN         NaN              NaN   \n",
      "1        28.44          42.271         941.618      47.509           46.193   \n",
      "2        31.23          36.754         941.599      47.598           46.377   \n",
      "3          NaN             NaN             NaN         NaN              NaN   \n",
      "4        34.03          31.274         941.568      50.994           46.921   \n",
      "\n",
      "   ...  data.leds_on  data.code_version  data.gps_avg_snr  \\\n",
      "0  ...           NaN                NaN               NaN   \n",
      "1  ...           1.0                1.0               0.0   \n",
      "2  ...           1.0                1.0               0.0   \n",
      "3  ...           NaN                NaN               NaN   \n",
      "4  ...           1.0                1.0               0.0   \n",
      "\n",
      "   data.cell_strength_dbm  data.wifi_strength_dbm  data.wifi_strength_asl  \\\n",
      "0                     NaN                     NaN                     NaN   \n",
      "1                   -55.0                   -58.5                     4.0   \n",
      "2                   -61.0                   -55.0                     4.0   \n",
      "3                     NaN                     NaN                     NaN   \n",
      "4                   -56.0                   -52.0                     4.0   \n",
      "\n",
      "   data.location.lat  data.location.lon  data.location.acc  data.timestamp  \n",
      "0                NaN                NaN                NaN             NaN  \n",
      "1             17.445              78.35             17.032    1.624339e+12  \n",
      "2             17.445              78.35             14.090    1.624339e+12  \n",
      "3                NaN                NaN                NaN             NaN  \n",
      "4             17.445              78.35             14.700    1.624339e+12  \n",
      "\n",
      "[5 rows x 59 columns]\n"
     ]
    }
   ],
   "source": [
    "O1 = pd.merge(aero, D1, on = 'Date Time', how = 'inner')\n",
    "O2 = pd.merge(aero, D2, on = 'Date Time', how = 'inner')\n",
    "print(O1.head())\n",
    "print(O2.head())"
   ]
  },
  {
   "cell_type": "code",
   "execution_count": 19,
   "metadata": {},
   "outputs": [
    {
     "data": {
      "text/plain": [
       "5671"
      ]
     },
     "execution_count": 19,
     "metadata": {},
     "output_type": "execute_result"
    }
   ],
   "source": [
    "len(O2)"
   ]
  },
  {
   "cell_type": "code",
   "execution_count": 20,
   "metadata": {},
   "outputs": [
    {
     "data": {
      "text/plain": [
       "['Date Time',\n",
       " ' Monitor ID',\n",
       " ' Location ID',\n",
       " ' NO2(ppm)',\n",
       " 'NO2_ppb',\n",
       " 'data.temp_c',\n",
       " 'data.hum_prcnt',\n",
       " 'data.press_hpa',\n",
       " 'data.eq_db',\n",
       " 'data.onesmin_db',\n",
       " 'data.onesmax_db',\n",
       " 'data.co_ppm',\n",
       " 'data.no2_ppb',\n",
       " 'data.co_mv',\n",
       " 'data.no2_mv',\n",
       " 'data.x_g',\n",
       " 'data.y_g',\n",
       " 'data.z_g',\n",
       " 'data.x_raw',\n",
       " 'data.y_raw',\n",
       " 'data.z_raw',\n",
       " 'data.lux_lx',\n",
       " 'data.uv_mwpm2',\n",
       " 'data.nc0p5_npcm3',\n",
       " 'data.nc1p0_npcm3',\n",
       " 'data.nc2p5_npcm3',\n",
       " 'data.nc4p0_npcm3',\n",
       " 'data.nc10p0_npcm3',\n",
       " 'data.mc1p0_ugpm3',\n",
       " 'data.mc2p5_ugpm3',\n",
       " 'data.mc4p0_ugpm3',\n",
       " 'data.mc10p0_ugpm3',\n",
       " 'data.typ_pm_um',\n",
       " 'data.ozone_ppm',\n",
       " 'data.ozone_volt_mv',\n",
       " 'data.tvoc_ppb',\n",
       " 'data.batt_prcnt',\n",
       " 'data.batt_volt',\n",
       " 'data.bme280_int',\n",
       " 'data.speco3_int',\n",
       " 'data.mic_int',\n",
       " 'data.mic4514_int',\n",
       " 'data.mic4514pre_int',\n",
       " 'data.sgpc3_int',\n",
       " 'data.sps30_int',\n",
       " 'data.sps30pre_int',\n",
       " 'data.lis3dh_int',\n",
       " 'data.si1133_int',\n",
       " 'data.batt_int',\n",
       " 'data.leds_on',\n",
       " 'data.code_version',\n",
       " 'data.gps_avg_snr',\n",
       " 'data.cell_strength_dbm',\n",
       " 'data.wifi_strength_dbm',\n",
       " 'data.wifi_strength_asl',\n",
       " 'data.location.lat',\n",
       " 'data.location.lon',\n",
       " 'data.location.acc',\n",
       " 'data.timestamp']"
      ]
     },
     "execution_count": 20,
     "metadata": {},
     "output_type": "execute_result"
    }
   ],
   "source": [
    "list(O2)"
   ]
  },
  {
   "cell_type": "code",
   "execution_count": 21,
   "metadata": {},
   "outputs": [],
   "source": [
    "O2 = O2[O2['data.temp_c'].notna()]"
   ]
  },
  {
   "cell_type": "code",
   "execution_count": 22,
   "metadata": {},
   "outputs": [
    {
     "data": {
      "text/plain": [
       "814"
      ]
     },
     "execution_count": 22,
     "metadata": {},
     "output_type": "execute_result"
    }
   ],
   "source": [
    "len(O2)"
   ]
  },
  {
   "cell_type": "code",
   "execution_count": 23,
   "metadata": {},
   "outputs": [],
   "source": [
    "O2.to_csv('Mega_Aero_NO2.csv')"
   ]
  },
  {
   "cell_type": "markdown",
   "metadata": {},
   "source": [
    "# Laboratory"
   ]
  },
  {
   "cell_type": "code",
   "execution_count": 25,
   "metadata": {},
   "outputs": [
    {
     "name": "stdout",
     "output_type": "stream",
     "text": [
      "Date Time       datetime64[ns]\n",
      " Monitor ID              int64\n",
      " Location ID             int64\n",
      " CO_ppm                float64\n",
      "dtype: object\n",
      "            Date Time   Monitor ID   Location ID   CO_ppm\n",
      "0 2021-06-26 19:38:00            1             1     1.04\n",
      "1 2021-06-26 19:39:00            1             1     1.17\n",
      "2 2021-06-26 19:40:00            1             1     1.17\n",
      "3 2021-06-26 19:41:00            1             1     1.20\n",
      "4 2021-06-26 19:42:00            1             1     1.19\n"
     ]
    }
   ],
   "source": [
    "# Laboratory CO\n",
    "aero = pd.read_csv(\"Data//Aeroqual_CO.csv\",parse_dates=['Date Time'])\n",
    "print(aero.dtypes)\n",
    "print(aero.head())"
   ]
  },
  {
   "cell_type": "code",
   "execution_count": 26,
   "metadata": {},
   "outputs": [
    {
     "name": "stdout",
     "output_type": "stream",
     "text": [
      "            Date Time   Monitor ID   Location ID   CO_ppm  data.temp_c  \\\n",
      "0 2021-06-26 19:38:00            1             1     1.04          NaN   \n",
      "1 2021-06-26 19:39:00            1             1     1.17          NaN   \n",
      "2 2021-06-26 19:40:00            1             1     1.17          NaN   \n",
      "3 2021-06-26 19:41:00            1             1     1.20          NaN   \n",
      "4 2021-06-26 19:42:00            1             1     1.19        31.56   \n",
      "\n",
      "   data.hum_prcnt  data.press_hpa  data.eq_db  data.onesmin_db  \\\n",
      "0             NaN             NaN         NaN              NaN   \n",
      "1             NaN             NaN         NaN              NaN   \n",
      "2             NaN             NaN         NaN              NaN   \n",
      "3             NaN             NaN         NaN              NaN   \n",
      "4          33.685         938.261      52.168           50.082   \n",
      "\n",
      "   data.onesmax_db  ...  data.leds_on  data.code_version  data.gps_avg_snr  \\\n",
      "0              NaN  ...           NaN                NaN               NaN   \n",
      "1              NaN  ...           NaN                NaN               NaN   \n",
      "2              NaN  ...           NaN                NaN               NaN   \n",
      "3              NaN  ...           NaN                NaN               NaN   \n",
      "4            53.45  ...           1.0                1.0               0.0   \n",
      "\n",
      "   data.cell_strength_dbm  data.wifi_strength_dbm  data.wifi_strength_asl  \\\n",
      "0                     NaN                     NaN                     NaN   \n",
      "1                     NaN                     NaN                     NaN   \n",
      "2                     NaN                     NaN                     NaN   \n",
      "3                     NaN                     NaN                     NaN   \n",
      "4                     NaN                   -56.0                     4.0   \n",
      "\n",
      "   data.location.lat  data.location.lon  data.location.acc  data.timestamp  \n",
      "0                NaN                NaN                NaN             NaN  \n",
      "1                NaN                NaN                NaN             NaN  \n",
      "2                NaN                NaN                NaN             NaN  \n",
      "3                NaN                NaN                NaN             NaN  \n",
      "4             17.445              78.35             14.542    1.624717e+12  \n",
      "\n",
      "[5 rows x 58 columns]\n",
      "4975\n",
      "             Date Time   Monitor ID   Location ID   CO_ppm  data.temp_c  \\\n",
      "4  2021-06-26 19:42:00            1             1     1.19        31.56   \n",
      "7  2021-06-26 19:45:00            1             1     1.06        31.34   \n",
      "14 2021-06-26 19:52:00            1             1     0.83        30.96   \n",
      "33 2021-06-26 20:11:00            1             1     0.46        31.10   \n",
      "40 2021-06-26 20:18:00            1             1     0.90        31.09   \n",
      "\n",
      "    data.hum_prcnt  data.press_hpa  data.eq_db  data.onesmin_db  \\\n",
      "4           33.685         938.261      52.168           50.082   \n",
      "7           32.749         938.188      50.987           49.935   \n",
      "14          32.153         937.925      52.858           48.236   \n",
      "33          35.502         938.235      53.000           37.374   \n",
      "40          39.140         938.451      55.379           48.817   \n",
      "\n",
      "    data.onesmax_db  ...  data.leds_on  data.code_version  data.gps_avg_snr  \\\n",
      "4            53.450  ...           1.0                1.0               0.0   \n",
      "7            52.002  ...           1.0                1.0               0.0   \n",
      "14           56.880  ...           1.0                1.0               0.0   \n",
      "33           58.714  ...           1.0                1.0               0.0   \n",
      "40           59.667  ...           1.0                1.0               0.0   \n",
      "\n",
      "    data.cell_strength_dbm  data.wifi_strength_dbm  data.wifi_strength_asl  \\\n",
      "4                      NaN                   -56.0                     4.0   \n",
      "7                      NaN                   -56.0                     4.0   \n",
      "14                     NaN                   -56.0                     4.0   \n",
      "33                     NaN                   -56.0                     4.0   \n",
      "40                     NaN                   -56.0                     4.0   \n",
      "\n",
      "    data.location.lat  data.location.lon  data.location.acc  data.timestamp  \n",
      "4              17.445              78.35             14.542    1.624717e+12  \n",
      "7              17.445              78.35             14.542    1.624717e+12  \n",
      "14             17.445              78.35             14.542    1.624717e+12  \n",
      "33             17.445              78.35             14.542    1.624718e+12  \n",
      "40             17.445              78.35             14.542    1.624719e+12  \n",
      "\n",
      "[5 rows x 58 columns]\n"
     ]
    }
   ],
   "source": [
    "O2 = pd.merge(aero, D2, on = 'Date Time', how = 'inner')\n",
    "print(O2.head())\n",
    "print(len(O2))\n",
    "O2 = O2[O2['data.temp_c'].notna()]\n",
    "print(O2.head())"
   ]
  },
  {
   "cell_type": "code",
   "execution_count": 27,
   "metadata": {},
   "outputs": [
    {
     "data": {
      "text/plain": [
       "213"
      ]
     },
     "execution_count": 27,
     "metadata": {},
     "output_type": "execute_result"
    }
   ],
   "source": [
    "len(O2)"
   ]
  },
  {
   "cell_type": "code",
   "execution_count": 28,
   "metadata": {},
   "outputs": [],
   "source": [
    "O2.to_csv('Mega_Aero_CO.csv')"
   ]
  },
  {
   "cell_type": "code",
   "execution_count": null,
   "metadata": {},
   "outputs": [],
   "source": []
  },
  {
   "cell_type": "code",
   "execution_count": 29,
   "metadata": {},
   "outputs": [
    {
     "name": "stdout",
     "output_type": "stream",
     "text": [
      "Date Time       datetime64[ns]\n",
      " Monitor ID              int64\n",
      " Location ID             int64\n",
      " CO_ppm                float64\n",
      "dtype: object\n",
      "            Date Time   Monitor ID   Location ID   CO_ppm\n",
      "0 2021-07-27 13:29:00            1             1      0.0\n",
      "1 2021-07-27 13:30:00            1             1      0.0\n",
      "2 2021-07-27 13:31:00            1             1      0.0\n",
      "3 2021-07-27 13:32:00            1             1      0.0\n",
      "4 2021-07-27 13:33:00            1             1      0.0\n"
     ]
    }
   ],
   "source": [
    "# Mobile CO\n",
    "aero= pd.read_csv(\"Aeroqual_data//aeroqualco_270721.csv\",parse_dates=['Date Time'])\n",
    "print(aero.dtypes)\n",
    "print(aero.head())"
   ]
  },
  {
   "cell_type": "code",
   "execution_count": 30,
   "metadata": {},
   "outputs": [
    {
     "name": "stdout",
     "output_type": "stream",
     "text": [
      "            Date Time   Monitor ID   Location ID   CO_ppm  Unnamed: 0  \\\n",
      "0 2021-07-27 13:29:00            1             1      0.0         NaN   \n",
      "1 2021-07-27 13:30:00            1             1      0.0         NaN   \n",
      "2 2021-07-27 13:31:00            1             1      0.0         NaN   \n",
      "3 2021-07-27 13:32:00            1             1      0.0         NaN   \n",
      "4 2021-07-27 13:33:00            1             1      0.0         NaN   \n",
      "\n",
      "   data.temp_c  data.hum_prcnt  data.press_hpa  data.eq_db  data.onesmin_db  \\\n",
      "0          NaN             NaN             NaN         NaN              NaN   \n",
      "1          NaN             NaN             NaN         NaN              NaN   \n",
      "2          NaN             NaN             NaN         NaN              NaN   \n",
      "3          NaN             NaN             NaN         NaN              NaN   \n",
      "4          NaN             NaN             NaN         NaN              NaN   \n",
      "\n",
      "   ...  data.leds_on  data.code_version  data.gps_avg_snr  \\\n",
      "0  ...           NaN                NaN               NaN   \n",
      "1  ...           NaN                NaN               NaN   \n",
      "2  ...           NaN                NaN               NaN   \n",
      "3  ...           NaN                NaN               NaN   \n",
      "4  ...           NaN                NaN               NaN   \n",
      "\n",
      "   data.cell_strength_dbm  data.wifi_strength_dbm  data.wifi_strength_asl  \\\n",
      "0                     NaN                     NaN                     NaN   \n",
      "1                     NaN                     NaN                     NaN   \n",
      "2                     NaN                     NaN                     NaN   \n",
      "3                     NaN                     NaN                     NaN   \n",
      "4                     NaN                     NaN                     NaN   \n",
      "\n",
      "   data.location.lat  data.location.lon  data.location.acc  data.timestamp  \n",
      "0                NaN                NaN                NaN             NaN  \n",
      "1                NaN                NaN                NaN             NaN  \n",
      "2                NaN                NaN                NaN             NaN  \n",
      "3                NaN                NaN                NaN             NaN  \n",
      "4                NaN                NaN                NaN             NaN  \n",
      "\n",
      "[5 rows x 59 columns]\n",
      "241\n",
      "             Date Time   Monitor ID   Location ID   CO_ppm  Unnamed: 0  \\\n",
      "49 2021-07-27 14:18:00            1             1      0.0      2959.5   \n",
      "50 2021-07-27 14:19:00            1             1      0.0      2961.5   \n",
      "51 2021-07-27 14:20:00            1             1      0.0      2963.0   \n",
      "52 2021-07-27 14:21:00            1             1      0.0      2964.5   \n",
      "53 2021-07-27 14:22:00            1             1      0.0      2966.5   \n",
      "\n",
      "    data.temp_c  data.hum_prcnt  data.press_hpa  data.eq_db  data.onesmin_db  \\\n",
      "49       37.480          38.549         939.701      68.916           65.355   \n",
      "50       37.805          38.441         939.638      66.783           62.261   \n",
      "51       38.310          38.355         939.723      71.880           68.010   \n",
      "52       38.795          34.649         939.984      78.353           73.852   \n",
      "53       38.535          35.217         940.696      76.910           72.225   \n",
      "\n",
      "    ...  data.leds_on  data.code_version  data.gps_avg_snr  \\\n",
      "49  ...           1.0                1.0            26.700   \n",
      "50  ...           1.0                1.0            26.925   \n",
      "51  ...           1.0                1.0            16.878   \n",
      "52  ...           1.0                1.0            18.538   \n",
      "53  ...           1.0                1.0            19.404   \n",
      "\n",
      "    data.cell_strength_dbm  data.wifi_strength_dbm  data.wifi_strength_asl  \\\n",
      "49                   -77.0                   -28.5                     4.0   \n",
      "50                   -81.5                   -31.0                     4.0   \n",
      "51                   -70.0                   -31.0                     4.0   \n",
      "52                   -96.0                   -31.0                     4.0   \n",
      "53                   -74.0                   -31.0                     4.0   \n",
      "\n",
      "    data.location.lat  data.location.lon  data.location.acc  data.timestamp  \n",
      "49             17.490             78.408               1.55    1.627376e+12  \n",
      "50             17.490             78.408               1.75    1.627376e+12  \n",
      "51             17.489             78.409               3.30    1.627376e+12  \n",
      "52             17.486             78.411               3.50    1.627376e+12  \n",
      "53             17.484             78.414               5.35    1.627376e+12  \n",
      "\n",
      "[5 rows x 59 columns]\n"
     ]
    }
   ],
   "source": [
    "O1 = pd.merge(aero, D1, on = 'Date Time', how = 'inner')\n",
    "print(O1.head())\n",
    "print(len(O1))\n",
    "O1 = O1[O1['data.temp_c'].notna()]\n",
    "print(O1.head())"
   ]
  },
  {
   "cell_type": "code",
   "execution_count": 31,
   "metadata": {},
   "outputs": [
    {
     "name": "stdout",
     "output_type": "stream",
     "text": [
      "            Date Time   Monitor ID   Location ID   CO_ppm  data.temp_c  \\\n",
      "0 2021-07-27 13:29:00            1             1      0.0          NaN   \n",
      "1 2021-07-27 13:30:00            1             1      0.0          NaN   \n",
      "2 2021-07-27 13:31:00            1             1      0.0          NaN   \n",
      "3 2021-07-27 13:32:00            1             1      0.0          NaN   \n",
      "4 2021-07-27 13:33:00            1             1      0.0          NaN   \n",
      "\n",
      "   data.hum_prcnt  data.press_hpa  data.eq_db  data.onesmin_db  \\\n",
      "0             NaN             NaN         NaN              NaN   \n",
      "1             NaN             NaN         NaN              NaN   \n",
      "2             NaN             NaN         NaN              NaN   \n",
      "3             NaN             NaN         NaN              NaN   \n",
      "4             NaN             NaN         NaN              NaN   \n",
      "\n",
      "   data.onesmax_db  ...  data.leds_on  data.code_version  data.gps_avg_snr  \\\n",
      "0              NaN  ...           NaN                NaN               NaN   \n",
      "1              NaN  ...           NaN                NaN               NaN   \n",
      "2              NaN  ...           NaN                NaN               NaN   \n",
      "3              NaN  ...           NaN                NaN               NaN   \n",
      "4              NaN  ...           NaN                NaN               NaN   \n",
      "\n",
      "   data.cell_strength_dbm  data.wifi_strength_dbm  data.wifi_strength_asl  \\\n",
      "0                     NaN                     NaN                     NaN   \n",
      "1                     NaN                     NaN                     NaN   \n",
      "2                     NaN                     NaN                     NaN   \n",
      "3                     NaN                     NaN                     NaN   \n",
      "4                     NaN                     NaN                     NaN   \n",
      "\n",
      "   data.location.lat  data.location.lon  data.location.acc  data.timestamp  \n",
      "0                NaN                NaN                NaN             NaN  \n",
      "1                NaN                NaN                NaN             NaN  \n",
      "2                NaN                NaN                NaN             NaN  \n",
      "3                NaN                NaN                NaN             NaN  \n",
      "4                NaN                NaN                NaN             NaN  \n",
      "\n",
      "[5 rows x 58 columns]\n",
      "241\n",
      "             Date Time   Monitor ID   Location ID   CO_ppm  data.temp_c  \\\n",
      "16 2021-07-27 13:45:00            1             1      0.0       33.390   \n",
      "18 2021-07-27 13:47:00            1             1      0.0       34.160   \n",
      "25 2021-07-27 13:54:00            1             1      0.0       35.790   \n",
      "26 2021-07-27 13:55:00            1             1      0.0       35.865   \n",
      "30 2021-07-27 13:59:00            1             1      0.0       29.300   \n",
      "\n",
      "    data.hum_prcnt  data.press_hpa  data.eq_db  data.onesmin_db  \\\n",
      "16          46.863         939.582      78.793           74.685   \n",
      "18          42.819         939.913      75.194           70.242   \n",
      "25          37.652         938.847      77.189           73.023   \n",
      "26          38.501         940.070      76.147           70.778   \n",
      "30          60.484         937.859      56.246           48.258   \n",
      "\n",
      "    data.onesmax_db  ...  data.leds_on  data.code_version  data.gps_avg_snr  \\\n",
      "16           84.507  ...           1.0                1.0            29.020   \n",
      "18           81.069  ...           1.0                1.0            26.531   \n",
      "25           80.760  ...           1.0                1.0            34.900   \n",
      "26           80.774  ...           1.0                1.0            33.122   \n",
      "30           63.355  ...           1.0                1.0            27.550   \n",
      "\n",
      "    data.cell_strength_dbm  data.wifi_strength_dbm  data.wifi_strength_asl  \\\n",
      "16            1.073742e+09                   -34.5                     4.0   \n",
      "18                     NaN                   -36.0                     4.0   \n",
      "25            2.147484e+09                   -30.0                     4.0   \n",
      "26            2.147484e+09                   -13.0                     4.0   \n",
      "30           -5.900000e+01                   -59.0                     4.0   \n",
      "\n",
      "    data.location.lat  data.location.lon  data.location.acc  data.timestamp  \n",
      "16             17.443             78.356           1100.000    1.627374e+12  \n",
      "18             17.443             78.356           1100.000    1.627374e+12  \n",
      "25             17.443             78.356           1100.000    1.627374e+12  \n",
      "26             17.443             78.356           1100.000    1.627374e+12  \n",
      "30             17.445             78.350             13.782    1.627375e+12  \n",
      "\n",
      "[5 rows x 58 columns]\n"
     ]
    }
   ],
   "source": [
    "O2 = pd.merge(aero, D2, on = 'Date Time', how = 'inner')\n",
    "print(O2.head())\n",
    "print(len(O2))\n",
    "O2 = O2[O2['data.temp_c'].notna()]\n",
    "print(O2.head())"
   ]
  },
  {
   "cell_type": "code",
   "execution_count": 35,
   "metadata": {},
   "outputs": [
    {
     "name": "stdout",
     "output_type": "stream",
     "text": [
      "182\n",
      "29\n"
     ]
    }
   ],
   "source": [
    "print(len(O1))\n",
    "print(len(O2))"
   ]
  },
  {
   "cell_type": "code",
   "execution_count": 34,
   "metadata": {},
   "outputs": [],
   "source": [
    "O1.to_csv('Device1_Mobile&Aeroqual_CO.csv')\n",
    "O2.to_csv('Device2_Mobile&Aeroqula_CO.csv')"
   ]
  },
  {
   "cell_type": "code",
   "execution_count": 33,
   "metadata": {},
   "outputs": [
    {
     "name": "stdout",
     "output_type": "stream",
     "text": [
      "Date Time       datetime64[ns]\n",
      " Monitor ID              int64\n",
      " Location ID             int64\n",
      " NO2(ppm)              float64\n",
      "dtype: object\n",
      "            Date Time   Monitor ID   Location ID   NO2(ppm)\n",
      "0 2021-08-19 11:21:00            1             1      0.011\n",
      "1 2021-08-19 11:22:00            1             1      0.006\n",
      "2 2021-08-19 11:23:00            1             1      0.010\n",
      "3 2021-08-19 11:24:00            1             1      0.012\n",
      "4 2021-08-19 11:25:00            1             1      0.014\n"
     ]
    }
   ],
   "source": [
    "# MObile NO2\n",
    "\n",
    "aero= pd.read_csv(\"Aeroqual_data//aeroqual210821.csv\",parse_dates=['Date Time'])\n",
    "print(aero.dtypes)\n",
    "print(aero.head())"
   ]
  },
  {
   "cell_type": "code",
   "execution_count": 36,
   "metadata": {},
   "outputs": [
    {
     "name": "stdout",
     "output_type": "stream",
     "text": [
      "            Date Time   Monitor ID   Location ID   NO2(ppm)  Unnamed: 0  \\\n",
      "0 2021-08-19 11:21:00            1             1      0.011      7984.5   \n",
      "1 2021-08-19 11:22:00            1             1      0.006      7986.5   \n",
      "2 2021-08-19 11:23:00            1             1      0.010      7988.5   \n",
      "3 2021-08-19 11:24:00            1             1      0.012         NaN   \n",
      "4 2021-08-19 11:25:00            1             1      0.014         NaN   \n",
      "\n",
      "   data.temp_c  data.hum_prcnt  data.press_hpa  data.eq_db  data.onesmin_db  \\\n",
      "0       35.695          39.449         938.045      58.665           41.994   \n",
      "1       34.510          41.587         937.927      56.919           41.756   \n",
      "2       33.770          43.105         937.933      58.127           43.612   \n",
      "3          NaN             NaN             NaN         NaN              NaN   \n",
      "4          NaN             NaN             NaN         NaN              NaN   \n",
      "\n",
      "   ...  data.leds_on  data.code_version  data.gps_avg_snr  \\\n",
      "0  ...           1.0                1.0            20.039   \n",
      "1  ...           1.0                1.0             8.567   \n",
      "2  ...           1.0                1.0             0.000   \n",
      "3  ...           NaN                NaN               NaN   \n",
      "4  ...           NaN                NaN               NaN   \n",
      "\n",
      "   data.cell_strength_dbm  data.wifi_strength_dbm  data.wifi_strength_asl  \\\n",
      "0                  -104.5                   -51.0                     4.0   \n",
      "1                   -99.0                   -51.0                     4.0   \n",
      "2                  -107.0                   -51.0                     4.0   \n",
      "3                     NaN                     NaN                     NaN   \n",
      "4                     NaN                     NaN                     NaN   \n",
      "\n",
      "   data.location.lat  data.location.lon  data.location.acc  data.timestamp  \n",
      "0             17.446              78.35               5.35    1.629352e+12  \n",
      "1             17.446              78.35               5.20    1.629352e+12  \n",
      "2             17.446              78.35               5.50    1.629352e+12  \n",
      "3                NaN                NaN                NaN             NaN  \n",
      "4                NaN                NaN                NaN             NaN  \n",
      "\n",
      "[5 rows x 59 columns]\n",
      "398\n",
      "             Date Time   Monitor ID   Location ID   NO2(ppm)  Unnamed: 0  \\\n",
      "0  2021-08-19 11:21:00            1             1      0.011      7984.5   \n",
      "1  2021-08-19 11:22:00            1             1      0.006      7986.5   \n",
      "2  2021-08-19 11:23:00            1             1      0.010      7988.5   \n",
      "11 2021-08-19 11:32:00            1             1      0.008      7990.0   \n",
      "12 2021-08-19 11:33:00            1             1      0.000      7991.5   \n",
      "\n",
      "    data.temp_c  data.hum_prcnt  data.press_hpa  data.eq_db  data.onesmin_db  \\\n",
      "0        35.695          39.449         938.045      58.665           41.994   \n",
      "1        34.510          41.587         937.927      56.919           41.756   \n",
      "2        33.770          43.105         937.933      58.127           43.612   \n",
      "11       31.670          49.693         938.379      63.525           56.930   \n",
      "12       31.750          49.538         938.376      60.851           57.067   \n",
      "\n",
      "    ...  data.leds_on  data.code_version  data.gps_avg_snr  \\\n",
      "0   ...           1.0                1.0            20.039   \n",
      "1   ...           1.0                1.0             8.567   \n",
      "2   ...           1.0                1.0             0.000   \n",
      "11  ...           1.0                1.0            17.192   \n",
      "12  ...           1.0                1.0            18.936   \n",
      "\n",
      "    data.cell_strength_dbm  data.wifi_strength_dbm  data.wifi_strength_asl  \\\n",
      "0                   -104.5                   -51.0                     4.0   \n",
      "1                    -99.0                   -51.0                     4.0   \n",
      "2                   -107.0                   -51.0                     4.0   \n",
      "11                   -96.0                   -72.0                     2.0   \n",
      "12                   -93.0                   -78.0                     1.5   \n",
      "\n",
      "    data.location.lat  data.location.lon  data.location.acc  data.timestamp  \n",
      "0              17.446              78.35               5.35    1.629352e+12  \n",
      "1              17.446              78.35               5.20    1.629352e+12  \n",
      "2              17.446              78.35               5.50    1.629352e+12  \n",
      "11             17.445              78.35               2.40    1.629353e+12  \n",
      "12             17.445              78.35               3.40    1.629353e+12  \n",
      "\n",
      "[5 rows x 59 columns]\n"
     ]
    }
   ],
   "source": [
    "O1 = pd.merge(aero, D1, on = 'Date Time', how = 'inner')\n",
    "print(O1.head())\n",
    "print(len(O1))\n",
    "O1 = O1[O1['data.temp_c'].notna()]\n",
    "print(O1.head())"
   ]
  },
  {
   "cell_type": "code",
   "execution_count": 37,
   "metadata": {},
   "outputs": [
    {
     "name": "stdout",
     "output_type": "stream",
     "text": [
      "            Date Time   Monitor ID   Location ID   NO2(ppm)  data.temp_c  \\\n",
      "0 2021-08-19 11:21:00            1             1      0.011          NaN   \n",
      "1 2021-08-19 11:22:00            1             1      0.006          NaN   \n",
      "2 2021-08-19 11:23:00            1             1      0.010          NaN   \n",
      "3 2021-08-19 11:24:00            1             1      0.012          NaN   \n",
      "4 2021-08-19 11:25:00            1             1      0.014          NaN   \n",
      "\n",
      "   data.hum_prcnt  data.press_hpa  data.eq_db  data.onesmin_db  \\\n",
      "0             NaN             NaN         NaN              NaN   \n",
      "1             NaN             NaN         NaN              NaN   \n",
      "2             NaN             NaN         NaN              NaN   \n",
      "3             NaN             NaN         NaN              NaN   \n",
      "4             NaN             NaN         NaN              NaN   \n",
      "\n",
      "   data.onesmax_db  ...  data.leds_on  data.code_version  data.gps_avg_snr  \\\n",
      "0              NaN  ...           NaN                NaN               NaN   \n",
      "1              NaN  ...           NaN                NaN               NaN   \n",
      "2              NaN  ...           NaN                NaN               NaN   \n",
      "3              NaN  ...           NaN                NaN               NaN   \n",
      "4              NaN  ...           NaN                NaN               NaN   \n",
      "\n",
      "   data.cell_strength_dbm  data.wifi_strength_dbm  data.wifi_strength_asl  \\\n",
      "0                     NaN                     NaN                     NaN   \n",
      "1                     NaN                     NaN                     NaN   \n",
      "2                     NaN                     NaN                     NaN   \n",
      "3                     NaN                     NaN                     NaN   \n",
      "4                     NaN                     NaN                     NaN   \n",
      "\n",
      "   data.location.lat  data.location.lon  data.location.acc  data.timestamp  \n",
      "0                NaN                NaN                NaN             NaN  \n",
      "1                NaN                NaN                NaN             NaN  \n",
      "2                NaN                NaN                NaN             NaN  \n",
      "3                NaN                NaN                NaN             NaN  \n",
      "4                NaN                NaN                NaN             NaN  \n",
      "\n",
      "[5 rows x 58 columns]\n",
      "398\n",
      "             Date Time   Monitor ID   Location ID   NO2(ppm)  data.temp_c  \\\n",
      "34 2021-08-19 11:55:00            1             1      0.019       32.925   \n",
      "35 2021-08-19 11:56:00            1             1      0.031       32.810   \n",
      "36 2021-08-19 11:57:00            1             1      0.028       32.780   \n",
      "38 2021-08-19 11:59:00            1             1      0.046       32.690   \n",
      "40 2021-08-19 12:01:00            1             1      0.031       32.670   \n",
      "\n",
      "    data.hum_prcnt  data.press_hpa  data.eq_db  data.onesmin_db  \\\n",
      "34          47.579         940.476      75.562           70.496   \n",
      "35          47.246         941.913      71.971           67.374   \n",
      "36          47.110         942.922      72.399           68.511   \n",
      "38          48.007         942.665      76.461           71.229   \n",
      "40          46.832         942.762      74.993           69.613   \n",
      "\n",
      "    data.onesmax_db  ...  data.leds_on  data.code_version  data.gps_avg_snr  \\\n",
      "34           80.376  ...           1.0                1.0            31.459   \n",
      "35           84.616  ...           1.0                1.0            30.360   \n",
      "36           76.901  ...           1.0                1.0            30.360   \n",
      "38           84.480  ...           1.0                1.0            30.360   \n",
      "40           84.638  ...           1.0                1.0            30.360   \n",
      "\n",
      "    data.cell_strength_dbm  data.wifi_strength_dbm  data.wifi_strength_asl  \\\n",
      "34            1.073742e+09                   -47.0                     4.0   \n",
      "35                     NaN                   -46.0                     4.0   \n",
      "36                     NaN                   -46.0                     4.0   \n",
      "38                     NaN                   -46.0                     4.0   \n",
      "40                     NaN                   -46.0                     4.0   \n",
      "\n",
      "    data.location.lat  data.location.lon  data.location.acc  data.timestamp  \n",
      "34             17.463             78.335                1.7    1.629354e+12  \n",
      "35             17.466             78.333                2.0    1.629354e+12  \n",
      "36             17.466             78.333                2.0    1.629354e+12  \n",
      "38             17.466             78.333                2.0    1.629355e+12  \n",
      "40             17.466             78.333                2.0    1.629355e+12  \n",
      "\n",
      "[5 rows x 58 columns]\n"
     ]
    }
   ],
   "source": [
    "O2 = pd.merge(aero, D2, on = 'Date Time', how = 'inner')\n",
    "print(O2.head())\n",
    "print(len(O2))\n",
    "O2 = O2[O2['data.temp_c'].notna()]\n",
    "print(O2.head())"
   ]
  },
  {
   "cell_type": "code",
   "execution_count": 38,
   "metadata": {},
   "outputs": [
    {
     "name": "stdout",
     "output_type": "stream",
     "text": [
      "286\n",
      "87\n"
     ]
    }
   ],
   "source": [
    "print(len(O1))\n",
    "print(len(O2))"
   ]
  },
  {
   "cell_type": "code",
   "execution_count": 39,
   "metadata": {},
   "outputs": [],
   "source": [
    "O1.to_csv('Device1_Mobile&Aeroqual_NO2.csv')\n",
    "O2.to_csv('Device2_Mobile&Aeroqula_NO2.csv')"
   ]
  },
  {
   "cell_type": "code",
   "execution_count": null,
   "metadata": {},
   "outputs": [],
   "source": []
  },
  {
   "cell_type": "markdown",
   "metadata": {},
   "source": [
    "# 6th to 12th September"
   ]
  },
  {
   "cell_type": "code",
   "execution_count": 3,
   "metadata": {},
   "outputs": [],
   "source": [
    "d1 = pd.read_csv(\"Megasense_device76//device76_sep17.csv\",parse_dates=['Date Time'])\n",
    "d2 = pd.read_csv(\"Megasense_device61//device61_sep17.csv\", parse_dates=['Date Time'])\n",
    "d3 = pd.read_csv(\"Megasense_deviceC5//devicec5_sep17.csv\", parse_dates = ['Date Time'])\n"
   ]
  },
  {
   "cell_type": "code",
   "execution_count": 4,
   "metadata": {},
   "outputs": [
    {
     "data": {
      "text/plain": [
       "Date Time       datetime64[ns]\n",
       " Monitor ID              int64\n",
       " Location ID             int64\n",
       " CO(ppm)               float64\n",
       "dtype: object"
      ]
     },
     "execution_count": 4,
     "metadata": {},
     "output_type": "execute_result"
    }
   ],
   "source": [
    "aero = pd.read_csv('Aeroqual_data//aeroqual_co_180921.csv', parse_dates = ['Date Time'])\n",
    "aero.dtypes"
   ]
  },
  {
   "cell_type": "code",
   "execution_count": 5,
   "metadata": {},
   "outputs": [
    {
     "data": {
      "text/html": [
       "<div>\n",
       "<style scoped>\n",
       "    .dataframe tbody tr th:only-of-type {\n",
       "        vertical-align: middle;\n",
       "    }\n",
       "\n",
       "    .dataframe tbody tr th {\n",
       "        vertical-align: top;\n",
       "    }\n",
       "\n",
       "    .dataframe thead th {\n",
       "        text-align: right;\n",
       "    }\n",
       "</style>\n",
       "<table border=\"1\" class=\"dataframe\">\n",
       "  <thead>\n",
       "    <tr style=\"text-align: right;\">\n",
       "      <th></th>\n",
       "      <th>Date Time</th>\n",
       "      <th>Monitor ID</th>\n",
       "      <th>Location ID</th>\n",
       "      <th>CO(ppm)</th>\n",
       "    </tr>\n",
       "  </thead>\n",
       "  <tbody>\n",
       "    <tr>\n",
       "      <th>0</th>\n",
       "      <td>2021-09-16 17:54:00</td>\n",
       "      <td>1</td>\n",
       "      <td>1</td>\n",
       "      <td>0.00</td>\n",
       "    </tr>\n",
       "    <tr>\n",
       "      <th>1</th>\n",
       "      <td>2021-09-16 17:55:00</td>\n",
       "      <td>1</td>\n",
       "      <td>1</td>\n",
       "      <td>0.00</td>\n",
       "    </tr>\n",
       "    <tr>\n",
       "      <th>2</th>\n",
       "      <td>2021-09-16 17:56:00</td>\n",
       "      <td>1</td>\n",
       "      <td>1</td>\n",
       "      <td>4.36</td>\n",
       "    </tr>\n",
       "    <tr>\n",
       "      <th>3</th>\n",
       "      <td>2021-09-16 17:57:00</td>\n",
       "      <td>1</td>\n",
       "      <td>1</td>\n",
       "      <td>5.07</td>\n",
       "    </tr>\n",
       "    <tr>\n",
       "      <th>4</th>\n",
       "      <td>2021-09-16 17:58:00</td>\n",
       "      <td>1</td>\n",
       "      <td>1</td>\n",
       "      <td>3.47</td>\n",
       "    </tr>\n",
       "  </tbody>\n",
       "</table>\n",
       "</div>"
      ],
      "text/plain": [
       "            Date Time   Monitor ID   Location ID   CO(ppm)\n",
       "0 2021-09-16 17:54:00            1             1      0.00\n",
       "1 2021-09-16 17:55:00            1             1      0.00\n",
       "2 2021-09-16 17:56:00            1             1      4.36\n",
       "3 2021-09-16 17:57:00            1             1      5.07\n",
       "4 2021-09-16 17:58:00            1             1      3.47"
      ]
     },
     "execution_count": 5,
     "metadata": {},
     "output_type": "execute_result"
    }
   ],
   "source": [
    "aero.head()"
   ]
  },
  {
   "cell_type": "code",
   "execution_count": 6,
   "metadata": {},
   "outputs": [],
   "source": [
    "d1.set_index(\"Date Time\", inplace = True)\n",
    "D1 = d1.resample('T').mean().round(3)\n",
    "d2.set_index(\"Date Time\", inplace = True)\n",
    "D2 = d2.resample('T').mean().round(3)\n",
    "d3.set_index(\"Date Time\", inplace = True)\n",
    "D3 = d3.resample('T').mean().round(3)"
   ]
  },
  {
   "cell_type": "code",
   "execution_count": 7,
   "metadata": {},
   "outputs": [
    {
     "name": "stdout",
     "output_type": "stream",
     "text": [
      "Empty DataFrame\n",
      "Columns: [Date Time,  Monitor ID,  Location ID,  CO(ppm), Unnamed: 0, data.temp_c, data.hum_prcnt, data.press_hpa, data.eq_db, data.onesmin_db, data.onesmax_db, data.co_ppm, data.no2_ppb, data.co_mv, data.no2_mv, data.x_g, data.y_g, data.z_g, data.x_raw, data.y_raw, data.z_raw, data.lux_lx, data.uv_mwpm2, data.nc0p5_npcm3, data.nc1p0_npcm3, data.nc2p5_npcm3, data.nc4p0_npcm3, data.nc10p0_npcm3, data.mc1p0_ugpm3, data.mc2p5_ugpm3, data.mc4p0_ugpm3, data.mc10p0_ugpm3, data.typ_pm_um, data.ozone_ppm, data.ozone_volt_mv, data.tvoc_ppb, data.batt_prcnt, data.batt_volt, data.bme280_int, data.speco3_int, data.mic_int, data.mic4514_int, data.mic4514pre_int, data.sgpc3_int, data.sps30_int, data.sps30pre_int, data.lis3dh_int, data.si1133_int, data.batt_int, data.leds_on, data.code_version, data.gps_avg_snr, data.cell_strength_dbm, data.wifi_strength_dbm, data.wifi_strength_asl, data.location.lat, data.location.lon, data.location.acc, data.timestamp]\n",
      "Index: []\n",
      "\n",
      "[0 rows x 59 columns]\n",
      "              Date Time   Monitor ID   Location ID   CO(ppm)  data.temp_c  \\\n",
      "0   2021-09-16 17:54:00            1             1      0.00          NaN   \n",
      "1   2021-09-16 17:55:00            1             1      0.00          NaN   \n",
      "2   2021-09-16 17:56:00            1             1      4.36          NaN   \n",
      "3   2021-09-16 17:57:00            1             1      5.07          NaN   \n",
      "4   2021-09-16 17:58:00            1             1      3.47          NaN   \n",
      "..                  ...          ...           ...       ...          ...   \n",
      "647 2021-09-18 00:46:00            1             1      0.00          NaN   \n",
      "648 2021-09-18 00:47:00            1             1      0.00          NaN   \n",
      "649 2021-09-18 00:48:00            1             1      0.00          NaN   \n",
      "650 2021-09-18 00:49:00            1             1      0.00        33.24   \n",
      "651 2021-09-18 00:50:00            1             1      0.00          NaN   \n",
      "\n",
      "     data.hum_prcnt  data.press_hpa  data.eq_db  data.onesmin_db  \\\n",
      "0               NaN             NaN         NaN              NaN   \n",
      "1               NaN             NaN         NaN              NaN   \n",
      "2               NaN             NaN         NaN              NaN   \n",
      "3               NaN             NaN         NaN              NaN   \n",
      "4               NaN             NaN         NaN              NaN   \n",
      "..              ...             ...         ...              ...   \n",
      "647             NaN             NaN         NaN              NaN   \n",
      "648             NaN             NaN         NaN              NaN   \n",
      "649             NaN             NaN         NaN              NaN   \n",
      "650          43.255         940.473      45.939            45.36   \n",
      "651             NaN             NaN         NaN              NaN   \n",
      "\n",
      "     data.onesmax_db  ...  data.leds_on  data.code_version  data.gps_avg_snr  \\\n",
      "0                NaN  ...           NaN                NaN               NaN   \n",
      "1                NaN  ...           NaN                NaN               NaN   \n",
      "2                NaN  ...           NaN                NaN               NaN   \n",
      "3                NaN  ...           NaN                NaN               NaN   \n",
      "4                NaN  ...           NaN                NaN               NaN   \n",
      "..               ...  ...           ...                ...               ...   \n",
      "647              NaN  ...           NaN                NaN               NaN   \n",
      "648              NaN  ...           NaN                NaN               NaN   \n",
      "649              NaN  ...           NaN                NaN               NaN   \n",
      "650           49.603  ...           1.0                1.0               0.0   \n",
      "651              NaN  ...           NaN                NaN               NaN   \n",
      "\n",
      "     data.cell_strength_dbm  data.wifi_strength_dbm  data.wifi_strength_asl  \\\n",
      "0                       NaN                     NaN                     NaN   \n",
      "1                       NaN                     NaN                     NaN   \n",
      "2                       NaN                     NaN                     NaN   \n",
      "3                       NaN                     NaN                     NaN   \n",
      "4                       NaN                     NaN                     NaN   \n",
      "..                      ...                     ...                     ...   \n",
      "647                     NaN                     NaN                     NaN   \n",
      "648                     NaN                     NaN                     NaN   \n",
      "649                     NaN                     NaN                     NaN   \n",
      "650                     NaN                   -23.0                     4.0   \n",
      "651                     NaN                     NaN                     NaN   \n",
      "\n",
      "     data.location.lat  data.location.lon  data.location.acc  data.timestamp  \n",
      "0                  NaN                NaN                NaN             NaN  \n",
      "1                  NaN                NaN                NaN             NaN  \n",
      "2                  NaN                NaN                NaN             NaN  \n",
      "3                  NaN                NaN                NaN             NaN  \n",
      "4                  NaN                NaN                NaN             NaN  \n",
      "..                 ...                ...                ...             ...  \n",
      "647                NaN                NaN                NaN             NaN  \n",
      "648                NaN                NaN                NaN             NaN  \n",
      "649                NaN                NaN                NaN             NaN  \n",
      "650             17.445              78.35             16.779    1.631906e+12  \n",
      "651                NaN                NaN                NaN             NaN  \n",
      "\n",
      "[652 rows x 58 columns]\n",
      "              Date Time   Monitor ID   Location ID   CO(ppm)  data.temp_c  \\\n",
      "0   2021-09-16 17:54:00            1             1      0.00          NaN   \n",
      "1   2021-09-16 17:55:00            1             1      0.00          NaN   \n",
      "2   2021-09-16 17:56:00            1             1      4.36        30.41   \n",
      "3   2021-09-16 17:57:00            1             1      5.07          NaN   \n",
      "4   2021-09-16 17:58:00            1             1      3.47          NaN   \n",
      "..                  ...          ...           ...       ...          ...   \n",
      "296 2021-09-16 22:50:00            1             1      0.07          NaN   \n",
      "297 2021-09-16 22:51:00            1             1      0.17          NaN   \n",
      "298 2021-09-16 22:52:00            1             1      0.27          NaN   \n",
      "299 2021-09-16 22:53:00            1             1      0.46        33.09   \n",
      "300 2021-09-16 22:54:00            1             1      0.88          NaN   \n",
      "\n",
      "     data.hum_prcnt  data.press_hpa  data.eq_db  data.onesmin_db  \\\n",
      "0               NaN             NaN         NaN              NaN   \n",
      "1               NaN             NaN         NaN              NaN   \n",
      "2            51.707         937.623      55.425           49.062   \n",
      "3               NaN             NaN         NaN              NaN   \n",
      "4               NaN             NaN         NaN              NaN   \n",
      "..              ...             ...         ...              ...   \n",
      "296             NaN             NaN         NaN              NaN   \n",
      "297             NaN             NaN         NaN              NaN   \n",
      "298             NaN             NaN         NaN              NaN   \n",
      "299          40.692         939.547      51.836           45.998   \n",
      "300             NaN             NaN         NaN              NaN   \n",
      "\n",
      "     data.onesmax_db  ...  data.leds_on  data.code_version  data.gps_avg_snr  \\\n",
      "0                NaN  ...           NaN                NaN               NaN   \n",
      "1                NaN  ...           NaN                NaN               NaN   \n",
      "2             61.811  ...           1.0                1.0              0.00   \n",
      "3                NaN  ...           NaN                NaN               NaN   \n",
      "4                NaN  ...           NaN                NaN               NaN   \n",
      "..               ...  ...           ...                ...               ...   \n",
      "296              NaN  ...           NaN                NaN               NaN   \n",
      "297              NaN  ...           NaN                NaN               NaN   \n",
      "298              NaN  ...           NaN                NaN               NaN   \n",
      "299           61.765  ...           1.0                1.0             24.36   \n",
      "300              NaN  ...           NaN                NaN               NaN   \n",
      "\n",
      "     data.cell_strength_dbm  data.wifi_strength_dbm  data.wifi_strength_asl  \\\n",
      "0                       NaN                     NaN                     NaN   \n",
      "1                       NaN                     NaN                     NaN   \n",
      "2                       NaN                   -52.0                     4.0   \n",
      "3                       NaN                     NaN                     NaN   \n",
      "4                       NaN                     NaN                     NaN   \n",
      "..                      ...                     ...                     ...   \n",
      "296                     NaN                     NaN                     NaN   \n",
      "297                     NaN                     NaN                     NaN   \n",
      "298                     NaN                     NaN                     NaN   \n",
      "299                     NaN                   -49.0                     4.0   \n",
      "300                     NaN                     NaN                     NaN   \n",
      "\n",
      "     data.location.lat  data.location.lon  data.location.acc  data.timestamp  \n",
      "0                  NaN                NaN                NaN             NaN  \n",
      "1                  NaN                NaN                NaN             NaN  \n",
      "2               17.445              78.35             14.991    1.631795e+12  \n",
      "3                  NaN                NaN                NaN             NaN  \n",
      "4                  NaN                NaN                NaN             NaN  \n",
      "..                 ...                ...                ...             ...  \n",
      "296                NaN                NaN                NaN             NaN  \n",
      "297                NaN                NaN                NaN             NaN  \n",
      "298                NaN                NaN                NaN             NaN  \n",
      "299             17.445              78.35              7.900    1.631813e+12  \n",
      "300                NaN                NaN                NaN             NaN  \n",
      "\n",
      "[301 rows x 58 columns]\n"
     ]
    }
   ],
   "source": [
    "\n",
    "\n",
    "O1 = pd.merge(aero, D1, on = 'Date Time', how = 'inner')\n",
    "O2 = pd.merge(aero, D2, on = 'Date Time', how = 'inner')\n",
    "O3 = pd.merge(aero, D3, on = 'Date Time', how = 'inner')\n",
    "print(O1)\n",
    "print(O2)\n",
    "print(O3)"
   ]
  },
  {
   "cell_type": "code",
   "execution_count": 8,
   "metadata": {},
   "outputs": [
    {
     "name": "stdout",
     "output_type": "stream",
     "text": [
      "0\n",
      "652\n",
      "301\n"
     ]
    }
   ],
   "source": [
    "print(len(O1))\n",
    "print(len(O2))\n",
    "print(len(O3))"
   ]
  },
  {
   "cell_type": "code",
   "execution_count": 9,
   "metadata": {},
   "outputs": [
    {
     "data": {
      "text/plain": [
       "660"
      ]
     },
     "execution_count": 9,
     "metadata": {},
     "output_type": "execute_result"
    }
   ],
   "source": [
    "len(aero)"
   ]
  },
  {
   "cell_type": "code",
   "execution_count": 10,
   "metadata": {},
   "outputs": [
    {
     "name": "stdout",
     "output_type": "stream",
     "text": [
      "             Date Time   Monitor ID   Location ID   CO(ppm)  data.temp_c  \\\n",
      "32 2021-09-16 18:26:00            1             1      0.00       31.150   \n",
      "35 2021-09-16 18:29:00            1             1     24.05       31.125   \n",
      "36 2021-09-16 18:30:00            1             1     24.23       31.130   \n",
      "37 2021-09-16 18:31:00            1             1     24.25       31.180   \n",
      "38 2021-09-16 18:32:00            1             1     24.30       31.225   \n",
      "\n",
      "    data.hum_prcnt  data.press_hpa  data.eq_db  data.onesmin_db  \\\n",
      "32          35.809         938.258      61.134           49.402   \n",
      "35          36.122         938.273      56.861           53.295   \n",
      "36          35.929         938.872      61.401           49.656   \n",
      "37          35.932         938.316      49.309           48.265   \n",
      "38          36.021         938.310      48.733           47.710   \n",
      "\n",
      "    data.onesmax_db  ...  data.leds_on  data.code_version  data.gps_avg_snr  \\\n",
      "32           76.696  ...           1.0                1.0               0.0   \n",
      "35           68.080  ...           1.0                1.0               0.0   \n",
      "36           78.638  ...           1.0                1.0               0.0   \n",
      "37           50.192  ...           1.0                1.0               0.0   \n",
      "38           49.957  ...           1.0                1.0               0.0   \n",
      "\n",
      "    data.cell_strength_dbm  data.wifi_strength_dbm  data.wifi_strength_asl  \\\n",
      "32                     NaN                   -41.0                     4.0   \n",
      "35                     NaN                   -47.5                     4.0   \n",
      "36                     NaN                   -45.0                     4.0   \n",
      "37                     NaN                   -44.0                     4.0   \n",
      "38                     NaN                   -48.5                     4.0   \n",
      "\n",
      "    data.location.lat  data.location.lon  data.location.acc  data.timestamp  \n",
      "32             17.445              78.35             15.058    1.631797e+12  \n",
      "35             17.445              78.35             14.574    1.631797e+12  \n",
      "36             17.445              78.35             12.753    1.631797e+12  \n",
      "37             17.445              78.35             14.057    1.631797e+12  \n",
      "38             17.445              78.35             13.852    1.631797e+12  \n",
      "\n",
      "[5 rows x 58 columns]\n"
     ]
    }
   ],
   "source": [
    "\n",
    "len(O2)\n",
    "O2 = O2[O2['data.temp_c'].notna()]\n",
    "print(O2.head())"
   ]
  },
  {
   "cell_type": "code",
   "execution_count": 11,
   "metadata": {},
   "outputs": [
    {
     "data": {
      "text/plain": [
       "208"
      ]
     },
     "execution_count": 11,
     "metadata": {},
     "output_type": "execute_result"
    }
   ],
   "source": [
    "len(O2)"
   ]
  },
  {
   "cell_type": "code",
   "execution_count": 12,
   "metadata": {},
   "outputs": [
    {
     "name": "stdout",
     "output_type": "stream",
     "text": [
      "            Date Time   Monitor ID   Location ID   CO(ppm)  data.temp_c  \\\n",
      "2 2021-09-16 17:56:00            1             1      4.36        30.41   \n",
      "6 2021-09-16 18:00:00            1             1      0.00        30.40   \n",
      "7 2021-09-16 18:01:00            1             1      0.00        30.42   \n",
      "8 2021-09-16 18:02:00            1             1      0.00        30.32   \n",
      "9 2021-09-16 18:03:00            1             1      0.00        30.39   \n",
      "\n",
      "   data.hum_prcnt  data.press_hpa  data.eq_db  data.onesmin_db  \\\n",
      "2          51.707         937.623      55.425           49.062   \n",
      "6          51.732         937.700      53.692           48.732   \n",
      "7          47.386         937.741      59.878           42.308   \n",
      "8          47.376         937.735      61.991           47.298   \n",
      "9          45.892         937.784      56.570           51.352   \n",
      "\n",
      "   data.onesmax_db  ...  data.leds_on  data.code_version  data.gps_avg_snr  \\\n",
      "2           61.811  ...           1.0                1.0               0.0   \n",
      "6           60.474  ...           1.0                1.0               0.0   \n",
      "7           79.338  ...           1.0                1.0               0.0   \n",
      "8           74.946  ...           1.0                1.0               0.0   \n",
      "9           65.799  ...           1.0                1.0               0.0   \n",
      "\n",
      "   data.cell_strength_dbm  data.wifi_strength_dbm  data.wifi_strength_asl  \\\n",
      "2                     NaN                   -52.0                     4.0   \n",
      "6                     NaN                   -40.0                     4.0   \n",
      "7            2.147484e+09                   -44.0                     4.0   \n",
      "8                     NaN                   -37.0                     4.0   \n",
      "9            2.147484e+09                   -38.0                     4.0   \n",
      "\n",
      "   data.location.lat  data.location.lon  data.location.acc  data.timestamp  \n",
      "2             17.445              78.35             14.991    1.631795e+12  \n",
      "6             17.445              78.35             14.991    1.631795e+12  \n",
      "7             17.445              78.35             20.000    1.631795e+12  \n",
      "8             17.445              78.35             15.218    1.631796e+12  \n",
      "9             17.445              78.35             17.451    1.631796e+12  \n",
      "\n",
      "[5 rows x 58 columns]\n",
      "75\n"
     ]
    }
   ],
   "source": [
    "O3 = O3[O3['data.temp_c'].notna()]\n",
    "print(O3.head())\n",
    "print(len(O3))"
   ]
  },
  {
   "cell_type": "code",
   "execution_count": 13,
   "metadata": {},
   "outputs": [],
   "source": [
    "O2.to_csv('device61_sep17_Mega&Aero_CO.csv')\n",
    "O3.to_csv('devicec5_sep17_Mega&Aero_CO.csv')"
   ]
  },
  {
   "cell_type": "code",
   "execution_count": 22,
   "metadata": {},
   "outputs": [
    {
     "data": {
      "image/png": "[encoded data removed]",
      "text/plain": [
       "<Figure size 1440x360 with 1 Axes>"
      ]
     },
     "metadata": {
      "needs_background": "light"
     },
     "output_type": "display_data"
    },
    {
     "data": {
      "image/png": "[encoded data removed]",
      "text/plain": [
       "<Figure size 1440x360 with 1 Axes>"
      ]
     },
     "metadata": {
      "needs_background": "light"
     },
     "output_type": "display_data"
    },
    {
     "data": {
      "text/plain": [
       "Text(0.5, 1.0, 'CO Aeroqual')"
      ]
     },
     "execution_count": 22,
     "metadata": {},
     "output_type": "execute_result"
    },
    {
     "data": {
      "image/png": "[encoded data removed]",
      "text/plain": [
       "<Figure size 1440x360 with 1 Axes>"
      ]
     },
     "metadata": {
      "needs_background": "light"
     },
     "output_type": "display_data"
    }
   ],
   "source": [
    "import matplotlib.pyplot as plt\n",
    "x = O2['Date Time']\n",
    "y1 = O2[' CO(ppm)']\n",
    "y2 = O2['data.co_ppm']\n",
    "\n",
    "fig = plt.figure(figsize = (20,5))\n",
    "plt.plot(x, y1,'-b')\n",
    "plt.plot(x, y2, '-r')\n",
    "plt.xlabel('Timestamp')\n",
    "plt.ylabel('CO in ppm')\n",
    "plt.title('CO device 61', fontsize = 24)\n",
    "plt.legend(['Aeroqual', 'Megasense device 61'])\n",
    "plt.show()\n",
    "fig= plt.figure(figsize=(20,5))\n",
    "# plotting points as a scatter plot\n",
    "plt.plot(x, y2, '-or')\n",
    "plt.xlabel('timestamp', fontsize=18)\n",
    "plt.ylabel('CO in ppm', fontsize=18)\n",
    "#plt.legend([\"Megasense\", \"Aeroqual\"])\n",
    "plt.title('CO Megasense', fontsize=20)\n",
    "plt.show()\n",
    "\n",
    "fig= plt.figure(figsize=(20,5))\n",
    "plt.plot(x, y1, '-ob')\n",
    "\n",
    "plt.xlabel('timestamp', fontsize=18)\n",
    "plt.ylabel('CO in ppm', fontsize=18)\n",
    "#plt.legend([\"Aeroqual\"])\n",
    "plt.title('CO Aeroqual', fontsize=20)"
   ]
  },
  {
   "cell_type": "code",
   "execution_count": 23,
   "metadata": {},
   "outputs": [
    {
     "name": "stdout",
     "output_type": "stream",
     "text": [
      "max correlation is at lag 2\n",
      "max correlation is  0.713\n",
      "Pearsons correlation: 0.584\n",
      "MSE CO:  352393.805575\n",
      "MAE CO:  583.7061538461538\n",
      "RMSE CO:  593.6276657762844\n"
     ]
    },
    {
     "data": {
      "image/png": "[encoded data removed]",
      "text/plain": [
       "<Figure size 1080x360 with 1 Axes>"
      ]
     },
     "metadata": {
      "needs_background": "light"
     },
     "output_type": "display_data"
    }
   ],
   "source": [
    "import numpy as np\n",
    "from scipy.stats import pearsonr\n",
    "from sklearn.metrics import r2_score\n",
    "from sklearn import linear_model\n",
    "from sklearn.metrics import mean_absolute_error\n",
    "from sklearn.metrics import mean_squared_error\n",
    "npts = len(O2)\n",
    "lags = np.arange(-npts + 1, npts)\n",
    "ccov = np.correlate(y2 - y2.mean(), y1 - y1.mean(), mode='full')\n",
    "ccor = ccov / (npts * y2.std() * y1.std())\n",
    "fig= plt.figure(figsize=(15,5))\n",
    "plt.plot(lags, ccor)\n",
    "plt.ylabel('cross-correlation', fontsize = 18)\n",
    "plt.xlabel('lag of y2 relative to y1', fontsize =18)\n",
    "\n",
    "maxlag = lags[np.argmax(ccor)]\n",
    "print(\"max correlation is at lag %d\" % maxlag)\n",
    "print(\"max correlation is \", round(max(ccor),3))\n",
    "corr, _ = pearsonr(y2, y1) \n",
    "print('Pearsons correlation: %.3f' % corr) \n",
    "MSE = mean_squared_error(y2, y1)\n",
    "MAE = mean_absolute_error(y2, y1)\n",
    "print(\"MSE CO: \", MSE)\n",
    "print(\"MAE CO: \", MAE)\n",
    "print(\"RMSE CO: \", np.sqrt(mean_squared_error(y2, y1)))"
   ]
  },
  {
   "cell_type": "code",
   "execution_count": 27,
   "metadata": {},
   "outputs": [],
   "source": [
    "O2 = O2[O2[' CO(ppm)']<25]"
   ]
  },
  {
   "cell_type": "code",
   "execution_count": 24,
   "metadata": {},
   "outputs": [
    {
     "data": {
      "image/png": "[encoded data removed]",
      "text/plain": [
       "<Figure size 1440x360 with 1 Axes>"
      ]
     },
     "metadata": {
      "needs_background": "light"
     },
     "output_type": "display_data"
    },
    {
     "data": {
      "image/png": "[encoded data removed]",
      "text/plain": [
       "<Figure size 1440x360 with 1 Axes>"
      ]
     },
     "metadata": {
      "needs_background": "light"
     },
     "output_type": "display_data"
    },
    {
     "data": {
      "text/plain": [
       "Text(0.5, 1.0, 'CO Aeroqual')"
      ]
     },
     "execution_count": 24,
     "metadata": {},
     "output_type": "execute_result"
    },
    {
     "data": {
      "image/png": "[encoded data removed]",
      "text/plain": [
       "<Figure size 1440x360 with 1 Axes>"
      ]
     },
     "metadata": {
      "needs_background": "light"
     },
     "output_type": "display_data"
    }
   ],
   "source": [
    "x = O3['Date Time']\n",
    "y1 = O3[' CO(ppm)']\n",
    "y2 = O3['data.co_ppm']\n",
    "\n",
    "fig = plt.figure(figsize = (20,5))\n",
    "plt.plot(x, y1,'-b')\n",
    "plt.plot(x, y2, '-r')\n",
    "plt.xlabel('Timestamp')\n",
    "plt.ylabel('CO in ppm')\n",
    "plt.title('CO device C5', fontsize = 24)\n",
    "plt.legend(['Aeroqual', 'Megasense device 61'])\n",
    "plt.show()\n",
    "fig= plt.figure(figsize=(20,5))\n",
    "# plotting points as a scatter plot\n",
    "plt.plot(x, y2, '-or')\n",
    "plt.xlabel('timestamp', fontsize=18)\n",
    "plt.ylabel('CO in ppm', fontsize=18)\n",
    "#plt.legend([\"Megasense\", \"Aeroqual\"])\n",
    "plt.title('CO Megasense', fontsize=20)\n",
    "plt.show()\n",
    "\n",
    "fig= plt.figure(figsize=(20,5))\n",
    "plt.plot(x, y1, '-ob')\n",
    "\n",
    "plt.xlabel('timestamp', fontsize=18)\n",
    "plt.ylabel('CO in ppm', fontsize=18)\n",
    "#plt.legend([\"Aeroqual\"])\n",
    "plt.title('CO Aeroqual', fontsize=20)"
   ]
  },
  {
   "cell_type": "code",
   "execution_count": 25,
   "metadata": {},
   "outputs": [
    {
     "name": "stdout",
     "output_type": "stream",
     "text": [
      "max correlation is at lag -3\n",
      "max correlation is  0.629\n",
      "Pearsons correlation: 0.632\n",
      "MSE CO:  464045.10132770665\n",
      "MAE CO:  676.2096\n",
      "RMSE CO:  681.2085593470671\n"
     ]
    },
    {
     "data": {
      "image/png": "[encoded data removed]",
      "text/plain": [
       "<Figure size 1080x360 with 1 Axes>"
      ]
     },
     "metadata": {
      "needs_background": "light"
     },
     "output_type": "display_data"
    }
   ],
   "source": [
    "npts = len(O3)\n",
    "lags = np.arange(-npts + 1, npts)\n",
    "ccov = np.correlate(y2 - y2.mean(), y1 - y1.mean(), mode='full')\n",
    "ccor = ccov / (npts * y2.std() * y1.std())\n",
    "fig= plt.figure(figsize=(15,5))\n",
    "plt.plot(lags, ccor)\n",
    "plt.ylabel('cross-correlation', fontsize = 18)\n",
    "plt.xlabel('lag of y2 relative to y1', fontsize =18)\n",
    "\n",
    "maxlag = lags[np.argmax(ccor)]\n",
    "print(\"max correlation is at lag %d\" % maxlag)\n",
    "print(\"max correlation is \", round(max(ccor),3))\n",
    "corr, _ = pearsonr(y2, y1) \n",
    "print('Pearsons correlation: %.3f' % corr) \n",
    "MSE = mean_squared_error(y2, y1)\n",
    "MAE = mean_absolute_error(y2, y1)\n",
    "print(\"MSE CO: \", MSE)\n",
    "print(\"MAE CO: \", MAE)\n",
    "print(\"RMSE CO: \", np.sqrt(mean_squared_error(y2, y1)))"
   ]
  },
  {
   "cell_type": "code",
   "execution_count": null,
   "metadata": {},
   "outputs": [],
   "source": []
  }
 ],
 "metadata": {
  "kernelspec": {
   "display_name": "Python 3",
   "language": "python",
   "name": "python3"
  },
  "language_info": {
   "codemirror_mode": {
    "name": "ipython",
    "version": 3
   },
   "file_extension": ".py",
   "mimetype": "text/x-python",
   "name": "python",
   "nbconvert_exporter": "python",
   "pygments_lexer": "ipython3",
   "version": "3.8.5"
  }
 },
 "nbformat": 4,
 "nbformat_minor": 4
}
